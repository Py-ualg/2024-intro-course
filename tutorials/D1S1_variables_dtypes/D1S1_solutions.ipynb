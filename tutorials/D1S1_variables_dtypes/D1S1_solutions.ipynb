{
 "cells": [
  {
   "cell_type": "markdown",
   "id": "703146a1-6b6a-4e7c-8b77-82733b7bbcaf",
   "metadata": {},
   "source": [
    "# Solutions to exercises"
   ]
  },
  {
   "cell_type": "code",
   "execution_count": null,
   "id": "2182a9f7-0f15-4483-bfa5-4f129f341d69",
   "metadata": {},
   "outputs": [],
   "source": []
  },
  {
   "cell_type": "markdown",
   "id": "aca6c668-6ba8-4078-8c9c-461149bc66ee",
   "metadata": {},
   "source": [
    "## Your first program"
   ]
  },
  {
   "cell_type": "code",
   "execution_count": 24,
   "id": "877fd42c-4015-4272-ae26-036eaf20c3da",
   "metadata": {},
   "outputs": [
    {
     "name": "stdout",
     "output_type": "stream",
     "text": [
      "Hello Noah\n",
      "Start of the work loop: 2024-05-16 11:54:25.617200 \n",
      " ---------\n",
      "2024-05-16 11:54:28.638287\n",
      "Noah, go for lunch, otherwise your aptitude will drop! \n",
      " ---------\n",
      "2024-05-16 11:54:31.650663\n",
      "Noah, go to sleep, otherwise you will not look great tomorrow! \n",
      " ---------\n",
      "Day is over, program exits\n"
     ]
    }
   ],
   "source": [
    "import datetime as dt\n",
    "import time\n",
    "import os\n",
    "\n",
    "# function to make a system beeb sound\n",
    "def beeb():\n",
    "    # For Windows\n",
    "    if os.name == 'nt':\n",
    "        os.system('echo \\a')\n",
    "    # For Mac\n",
    "    elif os.uname().sysname == 'Darwin':\n",
    "        os.system('say \"beep\"')\n",
    "    # For Linux\n",
    "    else:\n",
    "        os.system('echo -e \"\\a\"')\n",
    "\n",
    "user = 'Noah'\n",
    "\n",
    "# greet USER\n",
    "print(f'Hello {user}')\n",
    "\n",
    "# we imagine lunch is 5s from now, night time 10s from now\n",
    "lunchTime = dt.datetime.now() + dt.timedelta(seconds=3)\n",
    "night_time = dt.datetime.now() + dt.timedelta(seconds=6)\n",
    "\n",
    "message_counter = 0\n",
    "print('Start of the work loop:', dt.datetime.now(), '\\n', '---------')\n",
    "while True:\n",
    "    # this way you can slow down the loop, because you do not need TOP precision\n",
    "    time.sleep(1)\n",
    "    if dt.datetime.now() >= lunchTime and message_counter == 0:\n",
    "        beeb()\n",
    "        print(dt.datetime.now())\n",
    "        print(f'{user}, go for lunch, otherwise your aptitude will drop!',\n",
    "              '\\n', '---------')\n",
    "        message_counter = 1\n",
    "\n",
    "    if dt.datetime.now() >= night_time:\n",
    "        beeb()\n",
    "        print(dt.datetime.now())\n",
    "        print(f'{user}, go to sleep, otherwise you will not look great tomorrow!',\n",
    "              '\\n', '---------')\n",
    "        break\n",
    "\n",
    "print('Day is over, program exits')"
   ]
  },
  {
   "cell_type": "code",
   "execution_count": null,
   "id": "9a42071e-7182-4cbd-bc08-60a06060d1ee",
   "metadata": {},
   "outputs": [],
   "source": []
  }
 ],
 "metadata": {
  "kernelspec": {
   "display_name": "pyualg",
   "language": "python",
   "name": "pyualg"
  },
  "language_info": {
   "codemirror_mode": {
    "name": "ipython",
    "version": 3
   },
   "file_extension": ".py",
   "mimetype": "text/x-python",
   "name": "python",
   "nbconvert_exporter": "python",
   "pygments_lexer": "ipython3",
   "version": "3.11.5"
  }
 },
 "nbformat": 4,
 "nbformat_minor": 5
}
