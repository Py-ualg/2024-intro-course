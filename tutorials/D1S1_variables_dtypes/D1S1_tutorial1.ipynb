{
 "cells": [
  {
   "cell_type": "markdown",
   "id": "ad08ff18-6c22-4c5b-82d2-90be7bca4010",
   "metadata": {},
   "source": [
    "# Tutorial 1: algorithmic thinking, variables, data types.\n",
    "**Day 1, session 1: Intro**\n",
    "\n",
    "__Content creators:__ David Palecek, Paulo Martel"
   ]
  },
  {
   "cell_type": "markdown",
   "id": "e8bb8ffb-ebe0-4644-aff3-cccaef46d6d5",
   "metadata": {},
   "source": [
    "---\n",
    "# Tutorial Objectives\n",
    "\n",
    "* Introducing Jupyterlab Notebooks\n",
    "* No code algorithmic thinking\n",
    "* Your first program in one cell.\n",
    "* introducing variables and data types"
   ]
  },
  {
   "cell_type": "markdown",
   "id": "9042c0f0-5f9a-40b0-aaaa-e2c75560c6c6",
   "metadata": {},
   "source": [
    "---\n",
    "# Setup"
   ]
  },
  {
   "cell_type": "code",
   "execution_count": 2,
   "id": "b38df4fa-dce1-4504-875c-f40814ce76d7",
   "metadata": {},
   "outputs": [],
   "source": [
    "# imports"
   ]
  },
  {
   "cell_type": "code",
   "execution_count": 6,
   "id": "18bb052b-61b6-488c-ac9a-bd8150f654f1",
   "metadata": {},
   "outputs": [],
   "source": [
    "# @title Helper Functions\n",
    "\n",
    "def checkExercise1():\n",
    "    pass"
   ]
  },
  {
   "cell_type": "markdown",
   "id": "e2016657-3c2d-4767-8234-4113a5cc1531",
   "metadata": {},
   "source": []
  },
  {
   "cell_type": "markdown",
   "id": "d75e5038-9a26-4bf0-8701-30d6f922fade",
   "metadata": {},
   "source": [
    "# Section 1: No coding ease up inspired by \n",
    "\n",
    "*Time estimate: ~30mins*\n",
    "\n",
    "1. Bebras challenge (page 77 fo the 2022)\n",
    "https://www.google.com/url?sa=t&source=web&rct=j&opi=89978449&url=https://www.csiro.au/-/media/Digital-Careers/Files/Bebras-Files/Bebras-Solution-Guide-2022-R1-Secondary.pdf&ved=2ahUKEwiPjq2bpIiGAxUG9rsIHSMaB0YQFnoECBIQAQ&usg=AOvVaw0EMj-HGUnfR34aGRwT_CZB\n",
    "\n",
    "2. Cooking recipe translated to code\n",
    "   * pseudo code\n",
    "   * Explain to a computer a step by step procedure how to cook scrambled eggs"
   ]
  },
  {
   "cell_type": "markdown",
   "id": "a4b98887-1bde-4ced-8076-2348eb0d0e87",
   "metadata": {},
   "source": [
    "# Section X: Introducing interactive python\n",
    "\n",
    "*Time estimate: ~10mins*\n",
    "\n",
    "This document is in a special format called *Jupyter Notebook* that allows **Python Code**, **Text** and **Outputs** to be mixed in the same page.\n",
    "The document is hosted in the **Google Colab Environment**, which provides a dedicated *virtual machine* to run the code in the notebook.\n",
    "\n",
    "Jupyter Notebooks are made of cells. At this very moment you are reading the contents of a text cell, but below you will find Python code cells intermingled with text cells. Each text cell can have one or several lines of text, and each code cell can have one or more lines of Python code. To edit text cells, double-click on them, and the unformatted content will be made available. Doing SHIFT+ENTER on text cells will revert them to the formatted status, closing the edit mode and moving the cursor over to the next cell (the one immediately below).\n",
    "\n",
    "Execute cells (with SHIFT+ENTER) or execute and create empty cell below (ALT+ENTER). Note that code cells have a \"play\" button on the left side, and you can also run them by clicking on that button.\n",
    "\n",
    "\n",
    "\n",
    "Before we start, we need to connect the notebook to the virtual machine, which can be done by clicking the \"Connect\" button at the top right of the screen. After a few seconds, the button will change to a green checkmark next to memory (\"RAM\") and storage (\"Disk\") free size indicators - the Colab environment can be run for free, but it's resources are limited."
   ]
  },
  {
   "cell_type": "markdown",
   "id": "03489082-a71d-4308-abf9-df83ecd6bdbc",
   "metadata": {},
   "source": [
    "# Basic ingrediences (lego pieces) for your first program\n",
    "\n",
    "*Time estimate: ~20mins*\n",
    "\n",
    "1. print function: output by default on screen\n",
    "2. text or `string` is always inbetween \" \" or ' '\n",
    "3. `if` something, simplest flow control\n",
    "4. how to access time, import datetime\n",
    "5. arithmetic operators"
   ]
  },
  {
   "cell_type": "code",
   "execution_count": 10,
   "id": "8ed8ec65-9aca-44e1-a30c-2e4998dd70a7",
   "metadata": {},
   "outputs": [
    {
     "name": "stdout",
     "output_type": "stream",
     "text": [
      "Welcome to the Python for LIfe Science course.\n"
     ]
    }
   ],
   "source": [
    "print('Welcome to the Python for LIfe Science course.')"
   ]
  },
  {
   "cell_type": "code",
   "execution_count": 5,
   "id": "fab69abe-8f44-483f-a33a-20d8a29b3ddc",
   "metadata": {},
   "outputs": [
    {
     "name": "stdout",
     "output_type": "stream",
     "text": [
      "left side greater than the right\n"
     ]
    }
   ],
   "source": [
    "if 2 > 1:\n",
    "    print('left side greater than the right')\n",
    "elif 2 < 1:\n",
    "    print('right side greater than the left')\n",
    "else:\n",
    "    print('None of the above')"
   ]
  },
  {
   "cell_type": "markdown",
   "id": "2bae0fa7-ecfb-412f-adf7-0915999edfc3",
   "metadata": {},
   "source": [
    "**Task:** Modify the above code to get the answer in `else:` statement"
   ]
  },
  {
   "cell_type": "code",
   "execution_count": 2,
   "id": "7d46e19a-3469-4f77-95d6-4cfa57cc7263",
   "metadata": {},
   "outputs": [],
   "source": [
    "# datetime is a module and dt is how we are going to refer to it.\n",
    "import datetime as dt"
   ]
  },
  {
   "cell_type": "markdown",
   "id": "8c5c5590-4e10-4181-ae95-d61421559efc",
   "metadata": {},
   "source": [
    "arithmentic operators\n",
    "exercise 1\n",
    "\n",
    "fill in dictionary and check the answers with check_exercise()"
   ]
  },
  {
   "cell_type": "code",
   "execution_count": 1,
   "id": "0d2540a0-9500-4d32-846d-5768eb662414",
   "metadata": {},
   "outputs": [],
   "source": [
    "# 5. arithmetic operations\n",
    "# fill operators in string\n",
    "# careful with / !!!\n",
    "answer = {\n",
    "    'multiplication': '',\n",
    "    'addition': '',\n",
    "    'subtraction': '',\n",
    "    'division': '',\n",
    "    'integer (floor) division': '',\n",
    "    'modulus': '',\n",
    "    'Exponentiation': '',\n",
    "}"
   ]
  },
  {
   "cell_type": "code",
   "execution_count": null,
   "id": "f6602e56-c367-4722-a07e-087a114a0e89",
   "metadata": {},
   "outputs": [],
   "source": [
    "# check the answer here"
   ]
  },
  {
   "cell_type": "markdown",
   "id": "276b6768-61aa-4a08-9fe5-89492c439225",
   "metadata": {},
   "source": [
    "---\n",
    "# Section X: Your first program\n",
    "\n",
    "*Time estimate: ~45mins*"
   ]
  },
  {
   "cell_type": "code",
   "execution_count": 4,
   "id": "64bf8eaf-34cb-4663-b0a4-8584d51d5cca",
   "metadata": {},
   "outputs": [
    {
     "name": "stdout",
     "output_type": "stream",
     "text": [
      "Hello Noah\n",
      "Day is over, program exits\n"
     ]
    }
   ],
   "source": [
    "# greet user\n",
    "print('Hello Noah')\n",
    "\n",
    "# when lunch\n",
    "import datetime as dt\n",
    "\n",
    "lunchTime = dt.time(12, 0, 0)\n",
    "night_time = dt.time(22, 0, 0)\n",
    "\n",
    "if dt.datetime.now() == lunchTime:\n",
    "    print('Noah, go for lunch, otherwise your aptitude will drop!',\n",
    "          '\\n', '---------')\n",
    "\n",
    "if dt.datetime.now() == night_time:\n",
    "    print('Noah, go to sleep, otherwise you will not look great tomorrow!',\n",
    "          '\\n', '---------')\n",
    "\n",
    "# exit the program after the day is over.\n",
    "print('Day is over, program exits')"
   ]
  },
  {
   "attachments": {},
   "cell_type": "markdown",
   "id": "af8c5fb4-9384-4979-ba3a-024814be574c",
   "metadata": {},
   "source": [
    "## Tasks to try and improve the code (the step by step process is the key skill for programming)\n",
    "1. Change one of the time numbers into something which does not make sense. Do you understand what the Error means. **Errors are there to help you, not scare you. The worst is to run wrong code and not having errors raised.**\n",
    "\n",
    "2. Not everyone is called Noah. introduce variable `name`. Use it in the `print` statement. Try intuitive way, even though I assure you it will fail. Search internet (use as precise keywords in the question). Do the same in the GPT 3.5\n",
    "\n",
    "3. Implement while loop to check current if current time. Our code ran once, so unless you run it exactly at midday or 10pm, the `if` statements will never evaluate `True`.\n",
    "    * Use `while True:` statement. This is always true, so you need to `break` out of such loop after last task is done. When is that?\n",
    "    * Now you are stuck with running code until 10pm, notice the start next to the cell, which means the cell is running, and you cannot continue your work.\n",
    " \n",
    "4. So let's pretend lunch is 3s from \"now\" and night time 6s from \"now\". Use `dt.datetime.now() + dt.timedelta(seconds=XX)` to define lunch and night time\n",
    "\n",
    "5. How come lunch and night is never called and we are still stuck in execution? Condition `== lunchTime:` is too stricts, if you do not hit the PC time exactly, it passes and there is no way back, unless you try your luck tomorrow :).\n",
    "\n",
    "6. Find how to ask if your \"now\" is \"greater than\" lunch-time. Then you always catch the condition.\n",
    "\n",
    "7. What is the problem now? Too many lunch prints, how do we control that. One way is to use a concept of `flags`. Define flag `message_counter = 0` and once lunch if is getting evaluated, change the flag value.\n",
    "    * Second, you need to check for the `message_counter` every time you are in the `if`, use `and` to add condition on the `message_counter` value.\n",
    "  \n",
    "### 💀 **You nailed it** 🎉\n"
   ]
  },
  {
   "cell_type": "markdown",
   "id": "2ba49f30-6c00-4fb5-93d6-5dfff3e43ce8",
   "metadata": {},
   "source": [
    "# Section 2: Variables\n",
    "\n",
    "*Time estimate: ~20mins*\n",
    "\n",
    "objects which store your data. You can refer to them many times in the program"
   ]
  },
  {
   "cell_type": "code",
   "execution_count": null,
   "id": "e2ba41c0-b32e-4a34-a95d-d2b35ab30563",
   "metadata": {},
   "outputs": [],
   "source": [
    "# text variable we already used\n",
    "user = 'Noah'"
   ]
  },
  {
   "cell_type": "markdown",
   "id": "10b538b0-807b-474e-8345-8d7676fab1a5",
   "metadata": {},
   "source": [
    "## Not always clear with the variable type\n",
    "\n",
    "Number 1 can be text (`string`), natural number (integer `int`) or real number (`float`)"
   ]
  },
  {
   "cell_type": "code",
   "execution_count": 5,
   "id": "c79cc19b-d4a2-4940-bd20-77846d4edd58",
   "metadata": {},
   "outputs": [],
   "source": [
    "str_number = \"1\"  # or '1'\n",
    "int_number = 1\n",
    "float_number = 1."
   ]
  },
  {
   "cell_type": "code",
   "execution_count": 9,
   "id": "661c9c1e-453a-48bb-baf9-fe9b2b8becc3",
   "metadata": {},
   "outputs": [
    {
     "data": {
      "text/plain": [
       "str"
      ]
     },
     "execution_count": 9,
     "metadata": {},
     "output_type": "execute_result"
    }
   ],
   "source": [
    "type(str_number)"
   ]
  },
  {
   "cell_type": "code",
   "execution_count": 15,
   "id": "71b51f64-36aa-4155-b418-ff23a7a18363",
   "metadata": {},
   "outputs": [
    {
     "data": {
      "text/plain": [
       "('11', str)"
      ]
     },
     "execution_count": 15,
     "metadata": {},
     "output_type": "execute_result"
    }
   ],
   "source": [
    "'1' + '1', type('1' + '1')"
   ]
  },
  {
   "cell_type": "code",
   "execution_count": 17,
   "id": "922d0e88-35c2-499e-a2e3-a315718be874",
   "metadata": {},
   "outputs": [
    {
     "data": {
      "text/plain": [
       "(2, int)"
      ]
     },
     "execution_count": 17,
     "metadata": {},
     "output_type": "execute_result"
    }
   ],
   "source": [
    "1 + 1, type(1 + 1)"
   ]
  },
  {
   "cell_type": "code",
   "execution_count": 21,
   "id": "0f6c3bd6-383f-4b29-bc12-31246581bab2",
   "metadata": {},
   "outputs": [
    {
     "data": {
      "text/plain": [
       "(2.0, float)"
      ]
     },
     "execution_count": 21,
     "metadata": {},
     "output_type": "execute_result"
    }
   ],
   "source": [
    "1 + 1., type(1 + 1.)"
   ]
  },
  {
   "cell_type": "code",
   "execution_count": 27,
   "id": "0e3334b0-e738-44af-9c33-cb3f91e19383",
   "metadata": {},
   "outputs": [
    {
     "data": {
      "text/plain": [
       "(3.0, float)"
      ]
     },
     "execution_count": 27,
     "metadata": {},
     "output_type": "execute_result"
    }
   ],
   "source": [
    "3/1, type(3/1)"
   ]
  },
  {
   "cell_type": "code",
   "execution_count": 29,
   "id": "4bd14d9d-c717-4a5a-ab78-c4119c69c51a",
   "metadata": {},
   "outputs": [
    {
     "data": {
      "text/plain": [
       "(3, int)"
      ]
     },
     "execution_count": 29,
     "metadata": {},
     "output_type": "execute_result"
    }
   ],
   "source": [
    "3 * 1, type(3 * 1)"
   ]
  },
  {
   "cell_type": "markdown",
   "id": "bbee3a62-43c7-47be-878a-a083bca101f7",
   "metadata": {},
   "source": [
    "**Note**:\n",
    "\n",
    "Variable names cannot start with numbers, cannot contain \"weird characters\" (_ is not weird, - is weird, \" definitely weird)"
   ]
  },
  {
   "cell_type": "markdown",
   "id": "452579c6-1435-4d57-9b65-a6254a44eaf1",
   "metadata": {},
   "source": [
    "## Why is data type important\n",
    "* any variable in python is an object (`string` object, `int` object etc.)\n",
    "* objects have properties (attributes) and functions (methods) associated to them. They provide basic operations on your particular data type, which imensely speed up your coding"
   ]
  },
  {
   "cell_type": "code",
   "execution_count": 6,
   "id": "b491f17a-73b8-4b5a-8b4e-6b943a51bcf5",
   "metadata": {},
   "outputs": [
    {
     "data": {
      "text/plain": [
       "2"
      ]
     },
     "execution_count": 6,
     "metadata": {},
     "output_type": "execute_result"
    }
   ],
   "source": [
    "a = '1' + '1'\n",
    "len(a)"
   ]
  },
  {
   "cell_type": "markdown",
   "id": "0a93f684-82d8-4efd-9339-9ff7b5a85a08",
   "metadata": {},
   "source": [
    "`len` is defined for `string`, `list`, `tuple`, `dict`, `set`, `bytearray`, `range`. And this is built-in types only. We will see numpy arrays and pandas DFs all have `len()` too."
   ]
  },
  {
   "cell_type": "code",
   "execution_count": 7,
   "id": "335f11a8-9990-4c4d-a65b-8c1104927fa0",
   "metadata": {},
   "outputs": [
    {
     "ename": "TypeError",
     "evalue": "object of type 'int' has no len()",
     "output_type": "error",
     "traceback": [
      "\u001b[1;31m---------------------------------------------------------------------------\u001b[0m",
      "\u001b[1;31mTypeError\u001b[0m                                 Traceback (most recent call last)",
      "Cell \u001b[1;32mIn[7], line 2\u001b[0m\n\u001b[0;32m      1\u001b[0m a \u001b[38;5;241m=\u001b[39m \u001b[38;5;241m1\u001b[39m \u001b[38;5;241m+\u001b[39m \u001b[38;5;241m1\u001b[39m\n\u001b[1;32m----> 2\u001b[0m \u001b[38;5;28;43mlen\u001b[39;49m\u001b[43m(\u001b[49m\u001b[43ma\u001b[49m\u001b[43m)\u001b[49m\n",
      "\u001b[1;31mTypeError\u001b[0m: object of type 'int' has no len()"
     ]
    }
   ],
   "source": [
    "a = 1 + 1\n",
    "len(a)"
   ]
  },
  {
   "cell_type": "code",
   "execution_count": 72,
   "id": "05cd18e0-a001-48cf-bb0f-b5e3e031bbb1",
   "metadata": {},
   "outputs": [
    {
     "data": {
      "text/plain": [
       "datetime.time"
      ]
     },
     "execution_count": 72,
     "metadata": {},
     "output_type": "execute_result"
    }
   ],
   "source": [
    "# if you use additional modules, the data types will reflect that\n",
    "type(lunchTime)"
   ]
  },
  {
   "cell_type": "code",
   "execution_count": 74,
   "id": "1ecf43aa-4ec7-41b4-9b16-d701c0b94ccd",
   "metadata": {},
   "outputs": [
    {
     "data": {
      "text/plain": [
       "complex"
      ]
     },
     "execution_count": 74,
     "metadata": {},
     "output_type": "execute_result"
    }
   ],
   "source": [
    "type(0+1j)"
   ]
  },
  {
   "cell_type": "code",
   "execution_count": 75,
   "id": "97ec2734-5258-4ce5-9ea3-32053ae7edae",
   "metadata": {},
   "outputs": [
    {
     "data": {
      "text/plain": [
       "(bool, bool)"
      ]
     },
     "execution_count": 75,
     "metadata": {},
     "output_type": "execute_result"
    }
   ],
   "source": [
    "type(True), type(False)"
   ]
  },
  {
   "cell_type": "code",
   "execution_count": 76,
   "id": "87e170b9-b058-4099-93ea-1921a89e414b",
   "metadata": {},
   "outputs": [
    {
     "data": {
      "text/plain": [
       "2"
      ]
     },
     "execution_count": 76,
     "metadata": {},
     "output_type": "execute_result"
    }
   ],
   "source": [
    "2*True + 100*False"
   ]
  },
  {
   "cell_type": "markdown",
   "id": "e29df8f7-bfa5-4d29-8946-8393c3c742b8",
   "metadata": {},
   "source": [
    "## Exercise on variables"
   ]
  },
  {
   "cell_type": "code",
   "execution_count": null,
   "id": "3c3516c6-1ef9-4961-bcd5-f7f3fe22aa85",
   "metadata": {},
   "outputs": [],
   "source": [
    "# this is your starting variable\n",
    "user = 'Noah'"
   ]
  },
  {
   "cell_type": "markdown",
   "id": "f475a1e7-4c55-4c5a-be90-fcdd80fe1097",
   "metadata": {},
   "source": [
    "### Search for `string methods` in python online\n",
    "* use string methods to achieve these outputs\n",
    "'NOAH', 'noah', 'haon', 'NoAh', 'Nooh', 'NoahNoah'\n",
    "\n",
    "* count letter a\n",
    "* position of substring 'ah', index() method"
   ]
  },
  {
   "cell_type": "code",
   "execution_count": null,
   "id": "e34cd3b0-b963-453b-8918-5cf44cd19e42",
   "metadata": {},
   "outputs": [],
   "source": []
  },
  {
   "cell_type": "code",
   "execution_count": 71,
   "id": "0afedace-624d-4be5-aadd-4111d025983f",
   "metadata": {},
   "outputs": [
    {
     "data": {
      "text/plain": [
       "['__add__',\n",
       " '__class__',\n",
       " '__contains__',\n",
       " '__delattr__',\n",
       " '__dir__',\n",
       " '__doc__',\n",
       " '__eq__',\n",
       " '__format__',\n",
       " '__ge__',\n",
       " '__getattribute__',\n",
       " '__getitem__',\n",
       " '__getnewargs__',\n",
       " '__getstate__',\n",
       " '__gt__',\n",
       " '__hash__',\n",
       " '__init__',\n",
       " '__init_subclass__',\n",
       " '__iter__',\n",
       " '__le__',\n",
       " '__len__',\n",
       " '__lt__',\n",
       " '__mod__',\n",
       " '__mul__',\n",
       " '__ne__',\n",
       " '__new__',\n",
       " '__reduce__',\n",
       " '__reduce_ex__',\n",
       " '__repr__',\n",
       " '__rmod__',\n",
       " '__rmul__',\n",
       " '__setattr__',\n",
       " '__sizeof__',\n",
       " '__str__',\n",
       " '__subclasshook__',\n",
       " 'capitalize',\n",
       " 'casefold',\n",
       " 'center',\n",
       " 'count',\n",
       " 'encode',\n",
       " 'endswith',\n",
       " 'expandtabs',\n",
       " 'find',\n",
       " 'format',\n",
       " 'format_map',\n",
       " 'index',\n",
       " 'isalnum',\n",
       " 'isalpha',\n",
       " 'isascii',\n",
       " 'isdecimal',\n",
       " 'isdigit',\n",
       " 'isidentifier',\n",
       " 'islower',\n",
       " 'isnumeric',\n",
       " 'isprintable',\n",
       " 'isspace',\n",
       " 'istitle',\n",
       " 'isupper',\n",
       " 'join',\n",
       " 'ljust',\n",
       " 'lower',\n",
       " 'lstrip',\n",
       " 'maketrans',\n",
       " 'partition',\n",
       " 'removeprefix',\n",
       " 'removesuffix',\n",
       " 'replace',\n",
       " 'rfind',\n",
       " 'rindex',\n",
       " 'rjust',\n",
       " 'rpartition',\n",
       " 'rsplit',\n",
       " 'rstrip',\n",
       " 'split',\n",
       " 'splitlines',\n",
       " 'startswith',\n",
       " 'strip',\n",
       " 'swapcase',\n",
       " 'title',\n",
       " 'translate',\n",
       " 'upper',\n",
       " 'zfill']"
      ]
     },
     "execution_count": 71,
     "metadata": {},
     "output_type": "execute_result"
    }
   ],
   "source": [
    "# here you can get all attributes and methods for any python object\n",
    "dir(str)  # dir(5) also gives you something: Prove that everything is an object"
   ]
  },
  {
   "cell_type": "code",
   "execution_count": null,
   "id": "146b9d1c-00ae-4b79-b943-5ca0424e7884",
   "metadata": {},
   "outputs": [],
   "source": []
  },
  {
   "cell_type": "markdown",
   "id": "c4f8b6ad-5221-4990-8d27-75ac2ceed24d",
   "metadata": {},
   "source": [
    "---\n",
    "# Section X: Lists, indexing\n",
    "\n",
    "*Time estimate: ~20mins*"
   ]
  },
  {
   "cell_type": "code",
   "execution_count": 33,
   "id": "5b993d10-f9e3-4b59-a552-4eb74e7bb1c0",
   "metadata": {},
   "outputs": [
    {
     "data": {
      "text/plain": [
       "[1, 2, 3, 4, 5, 6]"
      ]
     },
     "execution_count": 33,
     "metadata": {},
     "output_type": "execute_result"
    }
   ],
   "source": [
    "lst1 = [1, 2, 3, 4, 5, 6]\n",
    "lst1"
   ]
  },
  {
   "cell_type": "code",
   "execution_count": 34,
   "id": "6f88192e-e98f-457b-a4aa-26be97254417",
   "metadata": {},
   "outputs": [
    {
     "data": {
      "text/plain": [
       "([1, 5.56, 'Noah', [1, 2, 3, 4, 5, 6]], list)"
      ]
     },
     "execution_count": 34,
     "metadata": {},
     "output_type": "execute_result"
    }
   ],
   "source": [
    "lst2 = [1, 5.56, 'Noah', lst1]\n",
    "lst2, type(lst2)"
   ]
  },
  {
   "cell_type": "code",
   "execution_count": 35,
   "id": "8991d241-db97-4f87-8e59-3ad27f458048",
   "metadata": {},
   "outputs": [
    {
     "data": {
      "text/plain": [
       "1"
      ]
     },
     "execution_count": 35,
     "metadata": {},
     "output_type": "execute_result"
    }
   ],
   "source": [
    "# indexing\n",
    "# get first element of lst2\n",
    "lst2[0]"
   ]
  },
  {
   "cell_type": "markdown",
   "id": "f27e828a-151c-4583-aaca-a5036ff61f13",
   "metadata": {},
   "source": [
    "## YES, in python we count from 0!!!"
   ]
  },
  {
   "cell_type": "code",
   "execution_count": 36,
   "id": "e3dbcfe4-cfff-456b-a87d-bd77f786b182",
   "metadata": {},
   "outputs": [
    {
     "data": {
      "text/plain": [
       "[1, 2, 3, 4, 5, 6]"
      ]
     },
     "execution_count": 36,
     "metadata": {},
     "output_type": "execute_result"
    }
   ],
   "source": [
    "# last element\n",
    "lst2[-1]"
   ]
  },
  {
   "cell_type": "code",
   "execution_count": 37,
   "id": "a2598c62-dd94-46b7-9968-b20d461a95e7",
   "metadata": {},
   "outputs": [
    {
     "data": {
      "text/plain": [
       "(int, list)"
      ]
     },
     "execution_count": 37,
     "metadata": {},
     "output_type": "execute_result"
    }
   ],
   "source": [
    "type(lst2[0]), type(lst2[-1])"
   ]
  },
  {
   "cell_type": "code",
   "execution_count": null,
   "id": "94363e7c-60d8-4731-bbf3-ff1ba6f8a915",
   "metadata": {},
   "outputs": [],
   "source": []
  },
  {
   "cell_type": "markdown",
   "id": "bf21884c-ff4e-445f-b089-bee31d6bcdbd",
   "metadata": {},
   "source": [
    "---\n",
    "# Section X: Exercise\n",
    "\n",
    "*Time estimate: ~20mins*"
   ]
  },
  {
   "cell_type": "code",
   "execution_count": 43,
   "id": "966c80cf-e9d0-4d40-a9b4-08e38ef44aeb",
   "metadata": {},
   "outputs": [],
   "source": [
    "# parsing string type of data?\n",
    "# Example text\n",
    "text = \"\"\"\n",
    "The solar system consists of the Sun and the celestial objects that orbit it, \\\n",
    "including eight planets. The average distance from the Sun to Mercury \\\n",
    "is approximately 57.9 million kilometers, \\\n",
    "to Venus is approximately 108.2 million kilometers, \\\n",
    "to Earth is approximately 149.6 million kilometers, \\\n",
    "to Mars is approximately 227.9 million kilometers, \\\n",
    "to Jupiter is approximately 778.6 million kilometers,  \\\n",
    "to Saturn is approximately 1.4 billion kilometers, to Uranus is  \\\n",
    "approximately 2.9 billion kilometers, and to Neptune is approximately 4.5  \\\n",
    "billion kilometers.\n",
    "\"\"\""
   ]
  },
  {
   "cell_type": "code",
   "execution_count": 65,
   "id": "4c81201f-1a76-4162-bc32-3ea5d118cf74",
   "metadata": {},
   "outputs": [
    {
     "name": "stdout",
     "output_type": "stream",
     "text": [
      "57.9 million\n",
      "108.2 million\n",
      "149.6 million\n",
      "227.9 million\n",
      "778.6 million\n",
      "1.4 billion\n",
      "2.9 billion\n",
      "4.5 billion\n",
      "Average distance of the planets from the Sun in astronomical units (AU): 8.457720588235293\n"
     ]
    }
   ],
   "source": [
    "import re\n",
    "\n",
    "numbers = re.findall(r'\\b\\d+(?:\\.\\d+)?(?:\\s*(?:million|billion)?)?\\b', text)\n",
    "\n",
    "distances = []\n",
    "\n",
    "for number in numbers:\n",
    "    num_value, num_unit = number.split()\n",
    "    num_value = float(num_value)\n",
    "    print(num_value, num_unit)\n",
    "    if num_unit == 'million':\n",
    "        num_value *= 1e6\n",
    "    elif num_unit == 'billion':\n",
    "        num_value *= 1e9\n",
    "    distances.append(num_value)\n",
    "\n",
    "# Convert distances from kilometers to astronomical units (AU)\n",
    "au_distances = [distance / 149.6e6 for distance in distances]\n",
    "\n",
    "# Calculate the average distance in AU\n",
    "average_distance = sum(au_distances) / len(au_distances)\n",
    "print(\"Average distance of the planets from the Sun in astronomical units (AU):\", average_distance)"
   ]
  },
  {
   "cell_type": "markdown",
   "id": "f73d2641-e938-4e84-83d3-f7593bd31612",
   "metadata": {},
   "source": [
    "---\n",
    "# Section X:\n",
    "* link to test and feedback google form. (Each session should have it)"
   ]
  },
  {
   "cell_type": "code",
   "execution_count": null,
   "id": "009831cd-737f-4acd-8670-0a5649c4e3ad",
   "metadata": {},
   "outputs": [],
   "source": []
  }
 ],
 "metadata": {
  "kernelspec": {
   "display_name": "pyualg",
   "language": "python",
   "name": "pyualg"
  },
  "language_info": {
   "codemirror_mode": {
    "name": "ipython",
    "version": 3
   },
   "file_extension": ".py",
   "mimetype": "text/x-python",
   "name": "python",
   "nbconvert_exporter": "python",
   "pygments_lexer": "ipython3",
   "version": "3.11.5"
  }
 },
 "nbformat": 4,
 "nbformat_minor": 5
}
