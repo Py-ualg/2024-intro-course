{
 "cells": [
  {
   "cell_type": "markdown",
   "id": "ad08ff18-6c22-4c5b-82d2-90be7bca4010",
   "metadata": {},
   "source": [
    "# Tutorial 1: algorithmic thinking, variables, data types.\n",
    "**Day 1, session 1: Intro**\n",
    "\n",
    "__Content creators:__ David Palecek, Paulo Martel"
   ]
  },
  {
   "cell_type": "markdown",
   "id": "e8bb8ffb-ebe0-4644-aff3-cccaef46d6d5",
   "metadata": {},
   "source": [
    "---\n",
    "# Tutorial Objectives\n",
    "\n",
    "* No code algorithmic thinking\n",
    "* introducing variables and data types"
   ]
  },
  {
   "cell_type": "markdown",
   "id": "9042c0f0-5f9a-40b0-aaaa-e2c75560c6c6",
   "metadata": {},
   "source": [
    "---\n",
    "# Setup"
   ]
  },
  {
   "cell_type": "code",
   "execution_count": 2,
   "id": "b38df4fa-dce1-4504-875c-f40814ce76d7",
   "metadata": {},
   "outputs": [],
   "source": [
    "# imports"
   ]
  },
  {
   "cell_type": "code",
   "execution_count": 1,
   "id": "18bb052b-61b6-488c-ac9a-bd8150f654f1",
   "metadata": {},
   "outputs": [],
   "source": [
    "# @title Helper Functions\n",
    "\n",
    "def checkExercise1(A, B, C, D):\n",
    "    pass"
   ]
  },
  {
   "cell_type": "markdown",
   "id": "d75e5038-9a26-4bf0-8701-30d6f922fade",
   "metadata": {},
   "source": [
    "# Section 1: No coding ease up inspired by \n",
    "\n",
    "*Time estimate: ~30mins*\n",
    "\n",
    "1. Bebras challenge (page 77 fo the 2022)\n",
    "https://www.google.com/url?sa=t&source=web&rct=j&opi=89978449&url=https://www.csiro.au/-/media/Digital-Careers/Files/Bebras-Files/Bebras-Solution-Guide-2022-R1-Secondary.pdf&ved=2ahUKEwiPjq2bpIiGAxUG9rsIHSMaB0YQFnoECBIQAQ&usg=AOvVaw0EMj-HGUnfR34aGRwT_CZB\n",
    "\n",
    "2. Cooking recipe translated to code\n",
    "   * pseudo code"
   ]
  },
  {
   "cell_type": "markdown",
   "id": "a4b98887-1bde-4ced-8076-2348eb0d0e87",
   "metadata": {},
   "source": [
    "# Section X: Intro to notebooks\n",
    "\n",
    "*Time estimate: ~10mins*"
   ]
  },
  {
   "cell_type": "markdown",
   "id": "03489082-a71d-4308-abf9-df83ecd6bdbc",
   "metadata": {},
   "source": [
    "# Basics to get you going\n",
    "\n",
    "Five specific python lego pieces\n",
    "1. print function: output by default on screen\n",
    "2. text or `string` is always inbetween \" \"\n",
    "3. `if` something, simplest flow control\n",
    "4. how to access time, import any module in the import datetime"
   ]
  },
  {
   "cell_type": "code",
   "execution_count": 10,
   "id": "8ed8ec65-9aca-44e1-a30c-2e4998dd70a7",
   "metadata": {},
   "outputs": [
    {
     "name": "stdout",
     "output_type": "stream",
     "text": [
      "Welcome to the Python for LIfe Science course.\n"
     ]
    }
   ],
   "source": [
    "print('Welcome to the Python for LIfe Science course.')"
   ]
  },
  {
   "cell_type": "code",
   "execution_count": null,
   "id": "fab69abe-8f44-483f-a33a-20d8a29b3ddc",
   "metadata": {},
   "outputs": [],
   "source": [
    "# "
   ]
  },
  {
   "cell_type": "markdown",
   "id": "2ba49f30-6c00-4fb5-93d6-5dfff3e43ce8",
   "metadata": {},
   "source": [
    "# Section 2: Variables\n",
    "\n",
    "objects which store your data. You can refer to them many times in the program"
   ]
  },
  {
   "cell_type": "code",
   "execution_count": 12,
   "id": "64bf8eaf-34cb-4663-b0a4-8584d51d5cca",
   "metadata": {},
   "outputs": [
    {
     "name": "stdout",
     "output_type": "stream",
     "text": [
      "Hello Noah\n"
     ]
    },
    {
     "ename": "ValueError",
     "evalue": "minute must be in 0..59",
     "output_type": "error",
     "traceback": [
      "\u001b[1;31m---------------------------------------------------------------------------\u001b[0m",
      "\u001b[1;31mValueError\u001b[0m                                Traceback (most recent call last)",
      "Cell \u001b[1;32mIn[12], line 9\u001b[0m\n\u001b[0;32m      6\u001b[0m \u001b[38;5;66;03m# when lunch\u001b[39;00m\n\u001b[0;32m      7\u001b[0m \u001b[38;5;28;01mimport\u001b[39;00m \u001b[38;5;21;01mdatetime\u001b[39;00m \u001b[38;5;28;01mas\u001b[39;00m \u001b[38;5;21;01mdt\u001b[39;00m\n\u001b[1;32m----> 9\u001b[0m lunchTime \u001b[38;5;241m=\u001b[39m \u001b[43mdt\u001b[49m\u001b[38;5;241;43m.\u001b[39;49m\u001b[43mtime\u001b[49m\u001b[43m(\u001b[49m\u001b[38;5;241;43m12\u001b[39;49m\u001b[43m,\u001b[49m\u001b[43m \u001b[49m\u001b[38;5;241;43m61\u001b[39;49m\u001b[43m,\u001b[49m\u001b[43m \u001b[49m\u001b[38;5;241;43m0\u001b[39;49m\u001b[43m)\u001b[49m\n\u001b[0;32m     10\u001b[0m night_time \u001b[38;5;241m=\u001b[39m dt\u001b[38;5;241m.\u001b[39mtime(\u001b[38;5;241m22\u001b[39m, \u001b[38;5;241m0\u001b[39m, \u001b[38;5;241m0\u001b[39m)\n\u001b[0;32m     12\u001b[0m \u001b[38;5;66;03m# while loop to check time\u001b[39;00m\n",
      "\u001b[1;31mValueError\u001b[0m: minute must be in 0..59"
     ]
    }
   ],
   "source": [
    "name = 'Noah'\n",
    "\n",
    "# greet Noah\n",
    "print('Hello Noah')\n",
    "\n",
    "# when lunch\n",
    "import datetime as dt\n",
    "\n",
    "lunchTime = dt.time(12, 61, 0)\n",
    "night_time = dt.time(22, 0, 0)\n",
    "\n",
    "# while loop to check time\n",
    "\n",
    "if dt.datetime.now() == lunchtime:\n",
    "    print('Noah, go for lunch, otherwise your aptitude will drop!')\n",
    "\n",
    "if dt.datetime.now() == night_time:\n",
    "    print('Noah, go for lunch, otherwise your aptitude will drop!')\n"
   ]
  },
  {
   "cell_type": "markdown",
   "id": "ee9df80c-f80a-4a45-ba3a-18f10f3f1241",
   "metadata": {},
   "source": [
    "### To test:\n",
    "* Change one of the time numbers into something which does not make sense\n",
    "* Do you understand what the Error means\n",
    "* Errors are there to help you, not scare you. The worst is to run wrong code and not having errors raised."
   ]
  },
  {
   "cell_type": "markdown",
   "id": "89d610e3-f8d1-440e-ad59-6718985f7de3",
   "metadata": {},
   "source": [
    "### To fix 1: Not everyone is called Noah.\n",
    "* introduce variable name\n",
    "* Use it in the print statement. Try intuitive way, even though I assure you it will fail\n",
    "* search internet (use as precise keywords in the question).\n",
    "* Do the same in the GPT 3.5"
   ]
  },
  {
   "cell_type": "markdown",
   "id": "0d9a1357-bb72-4025-959a-607bb0b6bb60",
   "metadata": {},
   "source": [
    "### To fix 2: while loop to check current if current time "
   ]
  },
  {
   "cell_type": "code",
   "execution_count": 13,
   "id": "842eb9b5-d95a-4a2d-bf99-03187f1330cd",
   "metadata": {},
   "outputs": [],
   "source": [
    "# here we add the while and which will be almost infinite\n",
    "# show interupt/restart kernel"
   ]
  },
  {
   "cell_type": "markdown",
   "id": "10b538b0-807b-474e-8345-8d7676fab1a5",
   "metadata": {},
   "source": [
    "# How to tell python what kind of data is it\n",
    "\n",
    "1 can be text (`string`), natural number (integer `int`) or real number (`float`)"
   ]
  },
  {
   "cell_type": "code",
   "execution_count": 14,
   "id": "c79cc19b-d4a2-4940-bd20-77846d4edd58",
   "metadata": {},
   "outputs": [],
   "source": [
    "str_number = \"1\"  # or '1'\n",
    "int_number = 1\n",
    "float_number = 1."
   ]
  },
  {
   "cell_type": "code",
   "execution_count": 18,
   "id": "661c9c1e-453a-48bb-baf9-fe9b2b8becc3",
   "metadata": {},
   "outputs": [
    {
     "data": {
      "text/plain": [
       "str"
      ]
     },
     "execution_count": 18,
     "metadata": {},
     "output_type": "execute_result"
    }
   ],
   "source": [
    "type(str_number)"
   ]
  },
  {
   "cell_type": "markdown",
   "id": "bbee3a62-43c7-47be-878a-a083bca101f7",
   "metadata": {},
   "source": [
    "**Note**:\n",
    "\n",
    "Variable names cannot start with numbers, cannot contain \"weird characters\" (_ is not weird, - is weird, \" definitely weird)"
   ]
  },
  {
   "cell_type": "markdown",
   "id": "c4f8b6ad-5221-4990-8d27-75ac2ceed24d",
   "metadata": {},
   "source": [
    "---\n",
    "# Section X: More data types\n",
    "\n",
    "*Time estimate: ~20mins*"
   ]
  },
  {
   "cell_type": "code",
   "execution_count": 20,
   "id": "fa52074d-f7d5-4901-b661-1d288197a784",
   "metadata": {},
   "outputs": [],
   "source": [
    "# list\n",
    "# dictionary\n",
    "# tuple"
   ]
  },
  {
   "cell_type": "code",
   "execution_count": null,
   "id": "5b993d10-f9e3-4b59-a552-4eb74e7bb1c0",
   "metadata": {},
   "outputs": [],
   "source": []
  },
  {
   "cell_type": "markdown",
   "id": "bf21884c-ff4e-445f-b089-bee31d6bcdbd",
   "metadata": {},
   "source": [
    "# Section X: Exercise\n",
    "\n",
    "*Time estimate: ~20mins*"
   ]
  },
  {
   "cell_type": "markdown",
   "id": "bcd544c4-81f3-4986-a842-0023fda8c09d",
   "metadata": {},
   "source": [
    "# Section X: more agnostic code?"
   ]
  },
  {
   "cell_type": "code",
   "execution_count": null,
   "id": "6725eea3-1e7f-4fc8-83f8-92c140a42afe",
   "metadata": {},
   "outputs": [],
   "source": []
  },
  {
   "cell_type": "markdown",
   "id": "f73d2641-e938-4e84-83d3-f7593bd31612",
   "metadata": {},
   "source": [
    "# Section X:\n",
    "* link to test and feedback google form. (Each session should have it)"
   ]
  },
  {
   "cell_type": "code",
   "execution_count": null,
   "id": "009831cd-737f-4acd-8670-0a5649c4e3ad",
   "metadata": {},
   "outputs": [],
   "source": []
  }
 ],
 "metadata": {
  "kernelspec": {
   "display_name": "pyualg",
   "language": "python",
   "name": "pyualg"
  },
  "language_info": {
   "codemirror_mode": {
    "name": "ipython",
    "version": 3
   },
   "file_extension": ".py",
   "mimetype": "text/x-python",
   "name": "python",
   "nbconvert_exporter": "python",
   "pygments_lexer": "ipython3",
   "version": "3.11.5"
  }
 },
 "nbformat": 4,
 "nbformat_minor": 5
}
