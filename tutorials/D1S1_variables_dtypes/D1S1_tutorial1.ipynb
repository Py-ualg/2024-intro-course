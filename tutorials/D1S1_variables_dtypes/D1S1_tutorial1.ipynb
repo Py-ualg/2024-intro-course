{
 "cells": [
  {
   "cell_type": "markdown",
   "id": "ad08ff18-6c22-4c5b-82d2-90be7bca4010",
   "metadata": {
    "id": "ad08ff18-6c22-4c5b-82d2-90be7bca4010"
   },
   "source": [
    "# Tutorial 1: algorithmic thinking, variables, data types.\n",
    "**Day 1, session 1: Intro**\n",
    "\n",
    "__Content creators:__ David Palecek, Paulo Martel"
   ]
  },
  {
   "cell_type": "markdown",
   "id": "e8bb8ffb-ebe0-4644-aff3-cccaef46d6d5",
   "metadata": {
    "id": "e8bb8ffb-ebe0-4644-aff3-cccaef46d6d5"
   },
   "source": [
    "---\n",
    "# Tutorial Objectives\n",
    "\n",
    "* Introducing Jupyterlab Notebooks\n",
    "* No code algorithmic thinking\n",
    "* Your first program in one cell.\n",
    "* Variables and data types"
   ]
  },
  {
   "cell_type": "markdown",
   "id": "9042c0f0-5f9a-40b0-aaaa-e2c75560c6c6",
   "metadata": {
    "id": "9042c0f0-5f9a-40b0-aaaa-e2c75560c6c6"
   },
   "source": [
    "---\n",
    "# Setup"
   ]
  },
  {
   "cell_type": "code",
   "execution_count": 1,
   "id": "b38df4fa-dce1-4504-875c-f40814ce76d7",
   "metadata": {
    "id": "b38df4fa-dce1-4504-875c-f40814ce76d7"
   },
   "outputs": [],
   "source": [
    "# imports\n",
    "import sys\n",
    "import numpy as np"
   ]
  },
  {
   "cell_type": "code",
   "execution_count": 2,
   "id": "18bb052b-61b6-488c-ac9a-bd8150f654f1",
   "metadata": {
    "cellView": "form",
    "id": "18bb052b-61b6-488c-ac9a-bd8150f654f1"
   },
   "outputs": [],
   "source": [
    "# @title Helper Functions\n",
    "\n",
    "def checkExercise1(user_answer):\n",
    "  assert user_answer['multiplication'] == '*'\n",
    "  assert user_answer['addition'] == '+'\n",
    "  assert user_answer['subtraction'] == '-'\n",
    "  assert user_answer['division'] == '/'\n",
    "  assert user_answer['integer (floor) division'] == '//'\n",
    "  assert user_answer['modulus'] == '%'\n",
    "  assert user_answer['Exponentiation'] == '**'\n",
    "  print(\"All correct\")\n"
   ]
  },
  {
   "cell_type": "markdown",
   "id": "d75e5038-9a26-4bf0-8701-30d6f922fade",
   "metadata": {
    "id": "d75e5038-9a26-4bf0-8701-30d6f922fade"
   },
   "source": [
    "---\n",
    "# Section 1: No coding ease up inspired by\n",
    "\n",
    "*Time estimate: ~30mins*\n",
    "\n",
    "1. Bebras challenge (page 77 fo the 2022)\n",
    "  * [single task](https://github.com/Py-ualg/2024-intro-course/blob/main/task_bebras.pdf)\n",
    "  * [All 2022 guide](https://www.google.com/url?sa=t&source=web&rct=j&opi=89978449&url=https://www.csiro.au/-/media/Digital-Careers/Files/Bebras-Files/Bebras-Solution-Guide-2022-R1-Secondary.pdf&ved=2ahUKEwiPjq2bpIiGAxUG9rsIHSMaB0YQFnoECBIQAQ&usg=AOvVaw0EMj-HGUnfR34aGRwT_CZB)\n",
    "\n",
    "2. Cooking recipe translated to code\n",
    "   * pseudo code\n",
    "   * Explain to a computer a step by step procedure how to cook scrambled eggs"
   ]
  },
  {
   "cell_type": "markdown",
   "id": "a4b98887-1bde-4ced-8076-2348eb0d0e87",
   "metadata": {
    "id": "a4b98887-1bde-4ced-8076-2348eb0d0e87"
   },
   "source": [
    "---\n",
    "# Section 2: Introducing interactive python\n",
    "\n",
    "*Time estimate: ~10mins*\n",
    "\n",
    "This document is in a special format called *Jupyter Notebook* that allows **Python Code**, **Text** and **Outputs** to be mixed in the same page.\n",
    "The document is hosted in the **Google Colab Environment**, which provides a dedicated *virtual machine* to run the code in the notebook.\n",
    "\n",
    "Jupyter Notebooks are made of cells. At this very moment you are reading the contents of a text cell, but below you will find Python code cells intermingled with text cells. Each text cell can have one or several lines of text, and each code cell can have one or more lines of Python code. To edit text cells, double-click on them, and the unformatted content will be made available. Doing SHIFT+ENTER on text cells will revert them to the formatted status, closing the edit mode and moving the cursor over to the next cell (the one immediately below).\n",
    "\n",
    "Execute cells (with SHIFT+ENTER) or execute and create empty cell below (ALT+ENTER). Note that code cells have a \"play\" button on the left side, and you can also run them by clicking on that button.\n",
    "\n",
    "\n",
    "\n",
    "Before we start, we need to connect the notebook to the virtual machine, which can be done by clicking the \"Connect\" button at the top right of the screen. After a few seconds, the button will change to a green checkmark next to memory (\"RAM\") and storage (\"Disk\") free size indicators - the Colab environment can be run for free, but it's resources are limited.\n",
    "\n",
    "**Important note: Colab users**\n",
    "\n",
    "*Scratch Code Cells*\n",
    "\n",
    "If you want to quickly try out something or take a look at the data, you can use scratch code cells. They allow you to run Python code, but will not mess up the structure of your notebook.\n",
    "\n",
    "To open a new scratch cell go to *Insert* → *Scratch code cell*."
   ]
  },
  {
   "cell_type": "markdown",
   "id": "03489082-a71d-4308-abf9-df83ecd6bdbc",
   "metadata": {
    "id": "03489082-a71d-4308-abf9-df83ecd6bdbc"
   },
   "source": [
    "---\n",
    "# Section 3: Basic ingrediences (lego pieces) for your first program\n",
    "\n",
    "*Time estimate: ~20mins*\n",
    "\n",
    "1. print function: output by default on screen\n",
    "2. text or `string` is always inbetween \" \" or ' '\n",
    "3. `if` something, simplest flow control\n",
    "4. how to access time, import datetime\n",
    "5. arithmetic operators"
   ]
  },
  {
   "cell_type": "code",
   "execution_count": 3,
   "id": "8ed8ec65-9aca-44e1-a30c-2e4998dd70a7",
   "metadata": {
    "colab": {
     "base_uri": "https://localhost:8080/"
    },
    "executionInfo": {
     "elapsed": 311,
     "status": "ok",
     "timestamp": 1717177136517,
     "user": {
      "displayName": "Paulo Martel",
      "userId": "16475723840259251382"
     },
     "user_tz": -60
    },
    "id": "8ed8ec65-9aca-44e1-a30c-2e4998dd70a7",
    "outputId": "232bdfc7-60d8-46b8-a95f-1f9b2e88642b"
   },
   "outputs": [
    {
     "name": "stdout",
     "output_type": "stream",
     "text": [
      "Welcome to the Python for LIfe Science course.\n"
     ]
    }
   ],
   "source": [
    "print('Welcome to the Python for LIfe Science course.')"
   ]
  },
  {
   "cell_type": "code",
   "execution_count": 4,
   "id": "fab69abe-8f44-483f-a33a-20d8a29b3ddc",
   "metadata": {
    "colab": {
     "base_uri": "https://localhost:8080/"
    },
    "executionInfo": {
     "elapsed": 271,
     "status": "ok",
     "timestamp": 1717177139300,
     "user": {
      "displayName": "Paulo Martel",
      "userId": "16475723840259251382"
     },
     "user_tz": -60
    },
    "id": "fab69abe-8f44-483f-a33a-20d8a29b3ddc",
    "outputId": "688f47c0-3e27-413d-f9c2-693b8ffa0adb"
   },
   "outputs": [
    {
     "name": "stdout",
     "output_type": "stream",
     "text": [
      "left side greater than the right\n"
     ]
    }
   ],
   "source": [
    "if 2 > 1:\n",
    "    print('left side greater than the right')\n",
    "elif 2 < 1:\n",
    "    print('right side greater than the left')\n",
    "else:\n",
    "    print('None of the above')"
   ]
  },
  {
   "cell_type": "markdown",
   "id": "2bae0fa7-ecfb-412f-adf7-0915999edfc3",
   "metadata": {
    "id": "2bae0fa7-ecfb-412f-adf7-0915999edfc3"
   },
   "source": [
    "**Task:** Modify the above code using numbers 1 and 2 to get the answer in `else:` statement"
   ]
  },
  {
   "cell_type": "code",
   "execution_count": 5,
   "id": "XX4u2Ia1xtDt",
   "metadata": {
    "cellView": "form",
    "id": "XX4u2Ia1xtDt"
   },
   "outputs": [
    {
     "name": "stdout",
     "output_type": "stream",
     "text": [
      "None of the above\n"
     ]
    }
   ],
   "source": [
    "#@title ###### Answer\n",
    "if 2 > 2:\n",
    "    print('left side greater than the right')\n",
    "elif 2 < 1:\n",
    "    print('right side greater than the left')\n",
    "else:\n",
    "    print('None of the above')"
   ]
  },
  {
   "cell_type": "code",
   "execution_count": 6,
   "id": "7d46e19a-3469-4f77-95d6-4cfa57cc7263",
   "metadata": {
    "id": "7d46e19a-3469-4f77-95d6-4cfa57cc7263"
   },
   "outputs": [],
   "source": [
    "# datetime is a module and dt is how we are going to refer to it.\n",
    "import datetime as dt"
   ]
  },
  {
   "cell_type": "markdown",
   "id": "8c5c5590-4e10-4181-ae95-d61421559efc",
   "metadata": {
    "id": "8c5c5590-4e10-4181-ae95-d61421559efc"
   },
   "source": [
    "## Arithmentic operators\n",
    "experiment with operators or find them online and test them before filling the exercise"
   ]
  },
  {
   "cell_type": "code",
   "execution_count": 7,
   "id": "jczytVW0E1ss",
   "metadata": {
    "colab": {
     "base_uri": "https://localhost:8080/"
    },
    "executionInfo": {
     "elapsed": 4,
     "status": "ok",
     "timestamp": 1717250250089,
     "user": {
      "displayName": "David Palecek",
      "userId": "17457987496484636859"
     },
     "user_tz": -60
    },
    "id": "jczytVW0E1ss",
    "outputId": "7aa27406-fbe7-4695-f423-85103cfec700"
   },
   "outputs": [
    {
     "data": {
      "text/plain": [
       "9"
      ]
     },
     "execution_count": 7,
     "metadata": {},
     "output_type": "execute_result"
    }
   ],
   "source": [
    "# @title Addition is straightforward\n",
    "5+4"
   ]
  },
  {
   "cell_type": "code",
   "execution_count": 8,
   "id": "0d2540a0-9500-4d32-846d-5768eb662414",
   "metadata": {
    "executionInfo": {
     "elapsed": 365,
     "status": "ok",
     "timestamp": 1717250279955,
     "user": {
      "displayName": "David Palecek",
      "userId": "17457987496484636859"
     },
     "user_tz": -60
    },
    "id": "0d2540a0-9500-4d32-846d-5768eb662414"
   },
   "outputs": [],
   "source": [
    "# @title fill in empty strings ' ' with correct operators and check the answers with check_exercise()\n",
    "answer = {\n",
    "    'multiplication': '',\n",
    "    'addition': '',\n",
    "    'subtraction': '',\n",
    "    'division': '',\n",
    "    'integer (floor) division': '',\n",
    "    'modulus': '',\n",
    "    'Exponentiation': '',\n",
    "}"
   ]
  },
  {
   "cell_type": "code",
   "execution_count": 9,
   "id": "f6602e56-c367-4722-a07e-087a114a0e89",
   "metadata": {
    "id": "f6602e56-c367-4722-a07e-087a114a0e89"
   },
   "outputs": [],
   "source": [
    "# check the answer here by uncommenting the line below\n",
    "# checkExercise1(answer)"
   ]
  },
  {
   "cell_type": "code",
   "execution_count": 10,
   "id": "nXg3Q4cvyWYf",
   "metadata": {
    "cellView": "form",
    "id": "nXg3Q4cvyWYf"
   },
   "outputs": [],
   "source": [
    "#@title ###### Answer\n",
    "answer = {\n",
    "    'multiplication': '*',\n",
    "    'addition': '+',\n",
    "    'subtraction': '-',\n",
    "    'division': '/',\n",
    "    'integer (floor) division': '//',\n",
    "    'modulus': '%',\n",
    "    'Exponentiation': '**',\n",
    "}"
   ]
  },
  {
   "cell_type": "markdown",
   "id": "276b6768-61aa-4a08-9fe5-89492c439225",
   "metadata": {
    "id": "276b6768-61aa-4a08-9fe5-89492c439225"
   },
   "source": [
    "---\n",
    "# Section 4: Your first program\n",
    "\n",
    "*Time estimate: ~45mins*"
   ]
  },
  {
   "cell_type": "code",
   "execution_count": 11,
   "id": "64bf8eaf-34cb-4663-b0a4-8584d51d5cca",
   "metadata": {
    "colab": {
     "base_uri": "https://localhost:8080/"
    },
    "executionInfo": {
     "elapsed": 266,
     "status": "ok",
     "timestamp": 1717177252015,
     "user": {
      "displayName": "Paulo Martel",
      "userId": "16475723840259251382"
     },
     "user_tz": -60
    },
    "id": "64bf8eaf-34cb-4663-b0a4-8584d51d5cca",
    "outputId": "8547184e-0fe5-434e-f4bf-f3412e3c775a"
   },
   "outputs": [
    {
     "name": "stdout",
     "output_type": "stream",
     "text": [
      "Hello Noah\n",
      "Day is over, program exits\n"
     ]
    }
   ],
   "source": [
    "# greet user\n",
    "print('Hello Noah')\n",
    "\n",
    "# when lunch\n",
    "import datetime as dt\n",
    "\n",
    "lunchTime = dt.time(12, 0, 0)\n",
    "night_time = dt.time(22, 0, 0)\n",
    "\n",
    "if dt.datetime.now() == lunchTime:\n",
    "    print('Noah, go for lunch, otherwise your aptitude will drop!',\n",
    "          '\\n', '---------')\n",
    "\n",
    "if dt.datetime.now() == night_time:\n",
    "    print('Noah, go to sleep, otherwise you will not look great tomorrow!',\n",
    "          '\\n', '---------')\n",
    "\n",
    "# exit the program after the day is over.\n",
    "print('Day is over, program exits')"
   ]
  },
  {
   "cell_type": "code",
   "execution_count": 12,
   "id": "4U7xaLM0z3fQ",
   "metadata": {
    "colab": {
     "base_uri": "https://localhost:8080/"
    },
    "executionInfo": {
     "elapsed": 298,
     "status": "ok",
     "timestamp": 1717177272349,
     "user": {
      "displayName": "Paulo Martel",
      "userId": "16475723840259251382"
     },
     "user_tz": -60
    },
    "id": "4U7xaLM0z3fQ",
    "outputId": "7974d3e8-1016-4ea2-adec-39df1ecf11d2"
   },
   "outputs": [
    {
     "data": {
      "text/plain": [
       "datetime.datetime(2024, 6, 7, 11, 45, 33, 188547)"
      ]
     },
     "execution_count": 12,
     "metadata": {},
     "output_type": "execute_result"
    }
   ],
   "source": [
    "dt.datetime.now()"
   ]
  },
  {
   "cell_type": "markdown",
   "id": "af8c5fb4-9384-4979-ba3a-024814be574c",
   "metadata": {
    "id": "af8c5fb4-9384-4979-ba3a-024814be574c"
   },
   "source": [
    "## Tasks to try and improve the code (the step by step process is the key skill for programming)\n",
    "1. Change one of the time numbers into something which does not make sense. Do you understand what the Error means. **Errors are there to help you, not scare you. The worst is to run wrong code and not having errors raised.**\n",
    "\n",
    "2. Not everyone is called Noah. introduce variable `name`. Use it in the `print` statement. Try intuitive way, even though I assure you it will fail. Search internet (use as precise keywords in the question). Do the same using ChatGPT (free version).\n",
    "\n",
    "3. Implement while loop to continuously keep checking if `.now()` is equal to `lunchTime` or `night_time`. Our code ran once, so unless you run it exactly at midday or 10pm, the `if` statements will never evaluate `True`.\n",
    "    * Use `while True:` statement.\n",
    "    * Everythig which needs to be run repeatedly in the loop needs to be indented the same way as you see after `if` statement.\n",
    "    * The `while True` is always true, so you need to `break` out of such loop after last task is done. When is that?\n",
    "    * Now you are most probably stuck with running code until 10pm, notice the start next to the cell, which means the cell is running, and you cannot continue your work.\n",
    "\n",
    "4. So let's pretend lunch is 3s from \"now\" and night time 6s from \"now\". Use `dt.datetime.now() + dt.timedelta(seconds=XX)` to define lunch and night time\n",
    "\n",
    "5. How come lunch and night is never called and we are still stuck in execution? Condition `== lunchTime:` is too stricts, if you do not hit the PC time exactly, it passes and there is no way back, unless you try your luck tomorrow :).\n",
    "\n",
    "6. Find how to ask if your \"now\" is \"greater than\" lunch-time. Then you always catch the condition.\n",
    "\n",
    "7. What is the problem now? Too many lunch prints, how do we control that. One way is to use a concept of `flags`. Define flag `message_counter = 0` and once lunch if is getting evaluated, change the flag value.\n",
    "    * Second, you need to check for the `message_counter` every time you are in the `if`, use `and` to add condition on the `message_counter` value.\n",
    "  \n",
    "### 💀 **You nailed it** 🎉\n"
   ]
  },
  {
   "cell_type": "code",
   "execution_count": 18,
   "id": "oGlcbYLgK4js",
   "metadata": {
    "id": "oGlcbYLgK4js"
   },
   "outputs": [
    {
     "name": "stdout",
     "output_type": "stream",
     "text": [
      "Hello Noah\n",
      "Noah, go for lunch, otherwise your aptitude will drop! \n",
      " ---------\n",
      "Noah, go to sleep, otherwise you will not look great tomorrow! \n",
      " ---------\n",
      "Day is over, program exits\n"
     ]
    }
   ],
   "source": [
    "#@title ###### Answer 1 (Try to understand how it works. When will it stop?)\n",
    "\n",
    "# module for treating dates and times\n",
    "import datetime as dt\n",
    "\n",
    "# greet user\n",
    "name = 'Noah'\n",
    "print(f'Hello {name}')\n",
    "\n",
    "flag_lunch = False\n",
    "\n",
    "# define times\n",
    "now = dt.datetime.now()\n",
    "lunchTime = now + dt.timedelta(seconds=5)\n",
    "night_time = now + dt.timedelta(seconds=10)\n",
    "\n",
    "# run the day\n",
    "while True:\n",
    "  # checking lunchtime, after lunch I do not want to enter again \n",
    "  if (dt.datetime.now() >= lunchTime) and not flag_lunch:\n",
    "      print(f'{name}, go for lunch, otherwise your aptitude will drop!',\n",
    "            '\\n', '---------')\n",
    "      flag_lunch = True\n",
    "\n",
    "  # night time condition\n",
    "  if dt.datetime.now() >= night_time:\n",
    "      print(f'{name}, go to sleep, otherwise you will not look great tomorrow!',\n",
    "            '\\n', '---------')\n",
    "      break\n",
    "\n",
    "# exit the program after the day is over.\n",
    "print('Day is over, program exits')"
   ]
  },
  {
   "cell_type": "markdown",
   "id": "2ba49f30-6c00-4fb5-93d6-5dfff3e43ce8",
   "metadata": {
    "id": "2ba49f30-6c00-4fb5-93d6-5dfff3e43ce8"
   },
   "source": [
    "---\n",
    "# Section 5: Variables\n",
    "\n",
    "*Time estimate: ~20mins*\n",
    "\n",
    "objects which store your data. You can refer to them many times in the program"
   ]
  },
  {
   "cell_type": "code",
   "execution_count": 19,
   "id": "e2ba41c0-b32e-4a34-a95d-d2b35ab30563",
   "metadata": {
    "id": "e2ba41c0-b32e-4a34-a95d-d2b35ab30563"
   },
   "outputs": [],
   "source": [
    "# text variable we already used\n",
    "user = 'Noah'"
   ]
  },
  {
   "cell_type": "markdown",
   "id": "10b538b0-807b-474e-8345-8d7676fab1a5",
   "metadata": {
    "id": "10b538b0-807b-474e-8345-8d7676fab1a5"
   },
   "source": [
    "## Not always clear what type the variable is.\n",
    "\n",
    "Number 1 can be text (`string`), natural number (integer `int`) or real number (`float`)"
   ]
  },
  {
   "cell_type": "code",
   "execution_count": 20,
   "id": "c79cc19b-d4a2-4940-bd20-77846d4edd58",
   "metadata": {
    "id": "c79cc19b-d4a2-4940-bd20-77846d4edd58"
   },
   "outputs": [],
   "source": [
    "str_number = \"1\"  # or '1'\n",
    "int_number = 1\n",
    "float_number = 1."
   ]
  },
  {
   "cell_type": "code",
   "execution_count": 21,
   "id": "661c9c1e-453a-48bb-baf9-fe9b2b8becc3",
   "metadata": {
    "colab": {
     "base_uri": "https://localhost:8080/"
    },
    "executionInfo": {
     "elapsed": 4,
     "status": "ok",
     "timestamp": 1717177759883,
     "user": {
      "displayName": "Paulo Martel",
      "userId": "16475723840259251382"
     },
     "user_tz": -60
    },
    "id": "661c9c1e-453a-48bb-baf9-fe9b2b8becc3",
    "outputId": "6d1a7b43-50bd-4061-d99a-65bf3030aef5"
   },
   "outputs": [
    {
     "data": {
      "text/plain": [
       "str"
      ]
     },
     "execution_count": 21,
     "metadata": {},
     "output_type": "execute_result"
    }
   ],
   "source": [
    "type(str_number)"
   ]
  },
  {
   "cell_type": "code",
   "execution_count": null,
   "id": "71b51f64-36aa-4155-b418-ff23a7a18363",
   "metadata": {
    "colab": {
     "base_uri": "https://localhost:8080/"
    },
    "executionInfo": {
     "elapsed": 2,
     "status": "ok",
     "timestamp": 1717177760538,
     "user": {
      "displayName": "Paulo Martel",
      "userId": "16475723840259251382"
     },
     "user_tz": -60
    },
    "id": "71b51f64-36aa-4155-b418-ff23a7a18363",
    "outputId": "1007e1b5-8e1e-4c78-9e1c-cd0b9e460381"
   },
   "outputs": [
    {
     "data": {
      "text/plain": [
       "('11', str)"
      ]
     },
     "execution_count": 25,
     "metadata": {},
     "output_type": "execute_result"
    }
   ],
   "source": [
    "'1' + '1', type('1' + '1')"
   ]
  },
  {
   "cell_type": "code",
   "execution_count": null,
   "id": "922d0e88-35c2-499e-a2e3-a315718be874",
   "metadata": {
    "colab": {
     "base_uri": "https://localhost:8080/"
    },
    "executionInfo": {
     "elapsed": 1,
     "status": "ok",
     "timestamp": 1717177762072,
     "user": {
      "displayName": "Paulo Martel",
      "userId": "16475723840259251382"
     },
     "user_tz": -60
    },
    "id": "922d0e88-35c2-499e-a2e3-a315718be874",
    "outputId": "594f115a-cc56-4738-96db-9a3ef28acbe8"
   },
   "outputs": [
    {
     "data": {
      "text/plain": [
       "(2, int)"
      ]
     },
     "execution_count": 26,
     "metadata": {},
     "output_type": "execute_result"
    }
   ],
   "source": [
    "1 + 1, type(1 + 1)"
   ]
  },
  {
   "cell_type": "code",
   "execution_count": null,
   "id": "0f6c3bd6-383f-4b29-bc12-31246581bab2",
   "metadata": {
    "colab": {
     "base_uri": "https://localhost:8080/"
    },
    "executionInfo": {
     "elapsed": 279,
     "status": "ok",
     "timestamp": 1717177763460,
     "user": {
      "displayName": "Paulo Martel",
      "userId": "16475723840259251382"
     },
     "user_tz": -60
    },
    "id": "0f6c3bd6-383f-4b29-bc12-31246581bab2",
    "outputId": "b29d23cf-3f47-4881-baa2-b26f992f28c4"
   },
   "outputs": [
    {
     "data": {
      "text/plain": [
       "(2.0, float)"
      ]
     },
     "execution_count": 27,
     "metadata": {},
     "output_type": "execute_result"
    }
   ],
   "source": [
    "1 + 1., type(1 + 1.)"
   ]
  },
  {
   "cell_type": "code",
   "execution_count": null,
   "id": "0e3334b0-e738-44af-9c33-cb3f91e19383",
   "metadata": {
    "colab": {
     "base_uri": "https://localhost:8080/"
    },
    "executionInfo": {
     "elapsed": 2,
     "status": "ok",
     "timestamp": 1717177764884,
     "user": {
      "displayName": "Paulo Martel",
      "userId": "16475723840259251382"
     },
     "user_tz": -60
    },
    "id": "0e3334b0-e738-44af-9c33-cb3f91e19383",
    "outputId": "127af5d3-505c-45bc-db05-9d6dbb580de4"
   },
   "outputs": [
    {
     "data": {
      "text/plain": [
       "(3.0, float)"
      ]
     },
     "execution_count": 28,
     "metadata": {},
     "output_type": "execute_result"
    }
   ],
   "source": [
    "3/1, type(3/1)"
   ]
  },
  {
   "cell_type": "code",
   "execution_count": null,
   "id": "4bd14d9d-c717-4a5a-ab78-c4119c69c51a",
   "metadata": {
    "colab": {
     "base_uri": "https://localhost:8080/"
    },
    "executionInfo": {
     "elapsed": 281,
     "status": "ok",
     "timestamp": 1717177777681,
     "user": {
      "displayName": "Paulo Martel",
      "userId": "16475723840259251382"
     },
     "user_tz": -60
    },
    "id": "4bd14d9d-c717-4a5a-ab78-c4119c69c51a",
    "outputId": "bb7a744e-ae18-40e9-8473-b0cff6a94e45"
   },
   "outputs": [
    {
     "data": {
      "text/plain": [
       "(3, int)"
      ]
     },
     "execution_count": 30,
     "metadata": {},
     "output_type": "execute_result"
    }
   ],
   "source": [
    "3 * 1, type(3 * 1)"
   ]
  },
  {
   "cell_type": "markdown",
   "id": "bbee3a62-43c7-47be-878a-a083bca101f7",
   "metadata": {
    "id": "bbee3a62-43c7-47be-878a-a083bca101f7"
   },
   "source": [
    "**Note**:\n",
    "\n",
    "Variable names cannot start with numbers, cannot contain \"weird characters\" (_ is not weird, - is weird, \" definitely weird)"
   ]
  },
  {
   "cell_type": "code",
   "execution_count": 22,
   "id": "tz8KVYIizFna",
   "metadata": {
    "colab": {
     "base_uri": "https://localhost:8080/"
    },
    "executionInfo": {
     "elapsed": 254,
     "status": "ok",
     "timestamp": 1717177787011,
     "user": {
      "displayName": "Paulo Martel",
      "userId": "16475723840259251382"
     },
     "user_tz": -60
    },
    "id": "tz8KVYIizFna",
    "outputId": "677633cd-904d-47e5-b561-5c7088222633"
   },
   "outputs": [
    {
     "data": {
      "text/plain": [
       "['False',\n",
       " 'None',\n",
       " 'True',\n",
       " 'and',\n",
       " 'as',\n",
       " 'assert',\n",
       " 'async',\n",
       " 'await',\n",
       " 'break',\n",
       " 'class',\n",
       " 'continue',\n",
       " 'def',\n",
       " 'del',\n",
       " 'elif',\n",
       " 'else',\n",
       " 'except',\n",
       " 'finally',\n",
       " 'for',\n",
       " 'from',\n",
       " 'global',\n",
       " 'if',\n",
       " 'import',\n",
       " 'in',\n",
       " 'is',\n",
       " 'lambda',\n",
       " 'nonlocal',\n",
       " 'not',\n",
       " 'or',\n",
       " 'pass',\n",
       " 'raise',\n",
       " 'return',\n",
       " 'try',\n",
       " 'while',\n",
       " 'with',\n",
       " 'yield']"
      ]
     },
     "execution_count": 22,
     "metadata": {},
     "output_type": "execute_result"
    }
   ],
   "source": [
    "# @title  list of all reserved keywords in the Python language (do NOT use as variable names):\n",
    "import keyword\n",
    "keyword.kwlist"
   ]
  },
  {
   "cell_type": "code",
   "execution_count": 28,
   "id": "2b94d55b-ff76-4ec6-99fc-44d27de14def",
   "metadata": {},
   "outputs": [],
   "source": [
    "print = 34"
   ]
  },
  {
   "cell_type": "code",
   "execution_count": 29,
   "id": "61001b73-aee1-4047-8bfd-62302e4720bc",
   "metadata": {},
   "outputs": [
    {
     "ename": "TypeError",
     "evalue": "'int' object is not callable",
     "output_type": "error",
     "traceback": [
      "\u001b[1;31m---------------------------------------------------------------------------\u001b[0m",
      "\u001b[1;31mTypeError\u001b[0m                                 Traceback (most recent call last)",
      "Cell \u001b[1;32mIn[29], line 1\u001b[0m\n\u001b[1;32m----> 1\u001b[0m \u001b[38;5;28;43mprint\u001b[39;49m\u001b[43m(\u001b[49m\u001b[38;5;124;43m'\u001b[39;49m\u001b[38;5;124;43mhello\u001b[39;49m\u001b[38;5;124;43m'\u001b[39;49m\u001b[43m)\u001b[49m\n",
      "\u001b[1;31mTypeError\u001b[0m: 'int' object is not callable"
     ]
    }
   ],
   "source": [
    "print('hello')"
   ]
  },
  {
   "cell_type": "markdown",
   "id": "7e4515e0-bd2f-43f9-a3c6-c2a1c8a9e9e8",
   "metadata": {},
   "source": [
    "We redefined built-in print method\n",
    "* fix it by `del` our defined `print`"
   ]
  },
  {
   "cell_type": "code",
   "execution_count": 30,
   "id": "4f5be4b7-0a5a-4cce-ab3e-c8345fbef079",
   "metadata": {},
   "outputs": [],
   "source": [
    "del print"
   ]
  },
  {
   "cell_type": "code",
   "execution_count": 31,
   "id": "739ed9a8-1be8-44f9-af06-654a5963618c",
   "metadata": {},
   "outputs": [
    {
     "name": "stdout",
     "output_type": "stream",
     "text": [
      "Hello\n"
     ]
    }
   ],
   "source": [
    "print('Hello')"
   ]
  },
  {
   "cell_type": "code",
   "execution_count": 32,
   "id": "d7DLCgl16_nN",
   "metadata": {
    "colab": {
     "base_uri": "https://localhost:8080/",
     "height": 35
    },
    "executionInfo": {
     "elapsed": 338,
     "status": "ok",
     "timestamp": 1717177817788,
     "user": {
      "displayName": "Paulo Martel",
      "userId": "16475723840259251382"
     },
     "user_tz": -60
    },
    "id": "d7DLCgl16_nN",
    "outputId": "978b8b02-a9b6-4530-8389-9b3ca555f415"
   },
   "outputs": [
    {
     "data": {
      "text/plain": [
       "'aaabbb'"
      ]
     },
     "execution_count": 32,
     "metadata": {},
     "output_type": "execute_result"
    }
   ],
   "source": [
    "# @title Strings can be enclosed in '' or \"\", and + operation is defined\n",
    "'aaa'+\"bbb\""
   ]
  },
  {
   "cell_type": "code",
   "execution_count": 33,
   "id": "CcSx5exB7Mhy",
   "metadata": {
    "id": "CcSx5exB7Mhy"
   },
   "outputs": [
    {
     "ename": "TypeError",
     "evalue": "unsupported operand type(s) for -: 'str' and 'str'",
     "output_type": "error",
     "traceback": [
      "\u001b[1;31m---------------------------------------------------------------------------\u001b[0m",
      "\u001b[1;31mTypeError\u001b[0m                                 Traceback (most recent call last)",
      "Cell \u001b[1;32mIn[33], line 2\u001b[0m\n\u001b[0;32m      1\u001b[0m \u001b[38;5;66;03m# Not the case for -\u001b[39;00m\n\u001b[1;32m----> 2\u001b[0m \u001b[38;5;124;43m'\u001b[39;49m\u001b[38;5;124;43maaa\u001b[39;49m\u001b[38;5;124;43m'\u001b[39;49m\u001b[43m \u001b[49m\u001b[38;5;241;43m-\u001b[39;49m\u001b[43m \u001b[49m\u001b[38;5;124;43m\"\u001b[39;49m\u001b[38;5;124;43mbbb\u001b[39;49m\u001b[38;5;124;43m\"\u001b[39;49m\n",
      "\u001b[1;31mTypeError\u001b[0m: unsupported operand type(s) for -: 'str' and 'str'"
     ]
    }
   ],
   "source": [
    "# Not the case for -\n",
    "'aaa' - \"bbb\""
   ]
  },
  {
   "cell_type": "markdown",
   "id": "JRtlG3HJBQyL",
   "metadata": {
    "id": "JRtlG3HJBQyL"
   },
   "source": [
    "**Note: Using `\"\"` or `''` for strings?**\n",
    "\n",
    "Since strings can be enclosed in `\"\"` or `''`, you may wonder what is the best pratice. There is really no \"right\" way to do it, but it is common pratice among Python programmers to use `''` for individual words, characters, or generally meaningless strings, and use `\"\"` for setences or any situation where the string has actual linguistic meaning. But of course this is entierly a user choice.\n",
    "\n",
    "There is, however, another aspect of using \"\" and '' which is not optional. Suppose you want to declare a string with like this:\n",
    "\n",
    "```\n",
    "The word \"chocolate\" is sweet\n",
    "````\n",
    "and assingn to a variable x:\n",
    "\n"
   ]
  },
  {
   "cell_type": "code",
   "execution_count": 34,
   "id": "djNl5OI49lWH",
   "metadata": {
    "colab": {
     "base_uri": "https://localhost:8080/",
     "height": 106
    },
    "executionInfo": {
     "elapsed": 7,
     "status": "error",
     "timestamp": 1717177836576,
     "user": {
      "displayName": "Paulo Martel",
      "userId": "16475723840259251382"
     },
     "user_tz": -60
    },
    "id": "djNl5OI49lWH",
    "outputId": "d362b119-9ac7-45bd-cba1-dc0e39774bb9"
   },
   "outputs": [
    {
     "ename": "SyntaxError",
     "evalue": "invalid syntax (544268815.py, line 1)",
     "output_type": "error",
     "traceback": [
      "\u001b[1;36m  Cell \u001b[1;32mIn[34], line 1\u001b[1;36m\u001b[0m\n\u001b[1;33m    x = \"The word \"chocolate\" is sweet\"\u001b[0m\n\u001b[1;37m                   ^\u001b[0m\n\u001b[1;31mSyntaxError\u001b[0m\u001b[1;31m:\u001b[0m invalid syntax\n"
     ]
    }
   ],
   "source": [
    "x = \"The word \"chocolate\" is sweet\""
   ]
  },
  {
   "cell_type": "code",
   "execution_count": 35,
   "id": "I5-pVh0W9o4g",
   "metadata": {
    "id": "I5-pVh0W9o4g"
   },
   "outputs": [],
   "source": [
    "x = 'The word \"chocolate\" is sweet'"
   ]
  },
  {
   "cell_type": "code",
   "execution_count": 36,
   "id": "XcmiPYBn9vHc",
   "metadata": {
    "id": "XcmiPYBn9vHc"
   },
   "outputs": [],
   "source": [
    "x = \"The word 'chocolate' is sweet\""
   ]
  },
  {
   "cell_type": "markdown",
   "id": "452579c6-1435-4d57-9b65-a6254a44eaf1",
   "metadata": {
    "id": "452579c6-1435-4d57-9b65-a6254a44eaf1"
   },
   "source": [
    "## Why is data type important\n",
    "* any variable in python is an object (`string` object, `int` object , `float`object, etc.)\n",
    "* objects have properties (attributes) and functions (methods) associated to them. They provide basic operations on your particular data type, which imensely speed up your coding"
   ]
  },
  {
   "cell_type": "code",
   "execution_count": 37,
   "id": "b491f17a-73b8-4b5a-8b4e-6b943a51bcf5",
   "metadata": {
    "colab": {
     "base_uri": "https://localhost:8080/"
    },
    "executionInfo": {
     "elapsed": 290,
     "status": "ok",
     "timestamp": 1717177847426,
     "user": {
      "displayName": "Paulo Martel",
      "userId": "16475723840259251382"
     },
     "user_tz": -60
    },
    "id": "b491f17a-73b8-4b5a-8b4e-6b943a51bcf5",
    "outputId": "75bd8734-0115-4f31-9fe8-d871d5a39459"
   },
   "outputs": [
    {
     "data": {
      "text/plain": [
       "('11', 2)"
      ]
     },
     "execution_count": 37,
     "metadata": {},
     "output_type": "execute_result"
    }
   ],
   "source": [
    "a = '1' + '1'\n",
    "a, len(a)"
   ]
  },
  {
   "cell_type": "markdown",
   "id": "0a93f684-82d8-4efd-9339-9ff7b5a85a08",
   "metadata": {
    "id": "0a93f684-82d8-4efd-9339-9ff7b5a85a08"
   },
   "source": [
    "`len` is defined for `string`, `list`, `tuple`, `dict`, `set`, `bytearray`, `range`. And this is built-in types only. We will see numpy arrays and pandas dataframes all have `len()` too."
   ]
  },
  {
   "cell_type": "code",
   "execution_count": 39,
   "id": "335f11a8-9990-4c4d-a65b-8c1104927fa0",
   "metadata": {
    "colab": {
     "base_uri": "https://localhost:8080/",
     "height": 159
    },
    "executionInfo": {
     "elapsed": 7,
     "status": "error",
     "timestamp": 1717177850171,
     "user": {
      "displayName": "Paulo Martel",
      "userId": "16475723840259251382"
     },
     "user_tz": -60
    },
    "id": "335f11a8-9990-4c4d-a65b-8c1104927fa0",
    "outputId": "41a9d74f-d013-472a-db79-8020a095d435"
   },
   "outputs": [
    {
     "ename": "TypeError",
     "evalue": "object of type 'int' has no len()",
     "output_type": "error",
     "traceback": [
      "\u001b[1;31m---------------------------------------------------------------------------\u001b[0m",
      "\u001b[1;31mTypeError\u001b[0m                                 Traceback (most recent call last)",
      "Cell \u001b[1;32mIn[39], line 2\u001b[0m\n\u001b[0;32m      1\u001b[0m a \u001b[38;5;241m=\u001b[39m \u001b[38;5;241m1\u001b[39m \u001b[38;5;241m+\u001b[39m \u001b[38;5;241m1\u001b[39m\n\u001b[1;32m----> 2\u001b[0m \u001b[38;5;28;43mlen\u001b[39;49m\u001b[43m(\u001b[49m\u001b[43ma\u001b[49m\u001b[43m)\u001b[49m\n",
      "\u001b[1;31mTypeError\u001b[0m: object of type 'int' has no len()"
     ]
    }
   ],
   "source": [
    "a = 1 + 1\n",
    "len(a)"
   ]
  },
  {
   "cell_type": "code",
   "execution_count": null,
   "id": "05cd18e0-a001-48cf-bb0f-b5e3e031bbb1",
   "metadata": {
    "colab": {
     "base_uri": "https://localhost:8080/"
    },
    "executionInfo": {
     "elapsed": 286,
     "status": "ok",
     "timestamp": 1717177856305,
     "user": {
      "displayName": "Paulo Martel",
      "userId": "16475723840259251382"
     },
     "user_tz": -60
    },
    "id": "05cd18e0-a001-48cf-bb0f-b5e3e031bbb1",
    "outputId": "9ef79e4c-62e6-4bdd-d1b8-5cf6f02e4c85"
   },
   "outputs": [
    {
     "data": {
      "text/plain": [
       "int"
      ]
     },
     "execution_count": 39,
     "metadata": {},
     "output_type": "execute_result"
    }
   ],
   "source": [
    "# if you use additional modules, the data types will reflect that\n",
    "type(lunchTime)"
   ]
  },
  {
   "cell_type": "code",
   "execution_count": null,
   "id": "1ecf43aa-4ec7-41b4-9b16-d701c0b94ccd",
   "metadata": {
    "colab": {
     "base_uri": "https://localhost:8080/"
    },
    "executionInfo": {
     "elapsed": 2,
     "status": "ok",
     "timestamp": 1717177859187,
     "user": {
      "displayName": "Paulo Martel",
      "userId": "16475723840259251382"
     },
     "user_tz": -60
    },
    "id": "1ecf43aa-4ec7-41b4-9b16-d701c0b94ccd",
    "outputId": "975b22dc-90ae-4f7d-968d-9457772bf4e4"
   },
   "outputs": [
    {
     "data": {
      "text/plain": [
       "complex"
      ]
     },
     "execution_count": 40,
     "metadata": {},
     "output_type": "execute_result"
    }
   ],
   "source": [
    "type(0+1j)"
   ]
  },
  {
   "cell_type": "code",
   "execution_count": null,
   "id": "97ec2734-5258-4ce5-9ea3-32053ae7edae",
   "metadata": {
    "colab": {
     "base_uri": "https://localhost:8080/"
    },
    "executionInfo": {
     "elapsed": 301,
     "status": "ok",
     "timestamp": 1717177862109,
     "user": {
      "displayName": "Paulo Martel",
      "userId": "16475723840259251382"
     },
     "user_tz": -60
    },
    "id": "97ec2734-5258-4ce5-9ea3-32053ae7edae",
    "outputId": "dbefb628-ba4a-4b98-8e4c-5c58df794aba"
   },
   "outputs": [
    {
     "data": {
      "text/plain": [
       "(bool, bool)"
      ]
     },
     "execution_count": 41,
     "metadata": {},
     "output_type": "execute_result"
    }
   ],
   "source": [
    "type(True), type(False)"
   ]
  },
  {
   "cell_type": "code",
   "execution_count": null,
   "id": "87e170b9-b058-4099-93ea-1921a89e414b",
   "metadata": {
    "colab": {
     "base_uri": "https://localhost:8080/"
    },
    "executionInfo": {
     "elapsed": 4,
     "status": "ok",
     "timestamp": 1717177865156,
     "user": {
      "displayName": "Paulo Martel",
      "userId": "16475723840259251382"
     },
     "user_tz": -60
    },
    "id": "87e170b9-b058-4099-93ea-1921a89e414b",
    "outputId": "19e63108-5d51-45f0-ebc7-a621f04b0a2c"
   },
   "outputs": [
    {
     "data": {
      "text/plain": [
       "2"
      ]
     },
     "execution_count": 42,
     "metadata": {},
     "output_type": "execute_result"
    }
   ],
   "source": [
    "2*True + 100*False"
   ]
  },
  {
   "cell_type": "markdown",
   "id": "MkQuzjY8NLc_",
   "metadata": {
    "id": "MkQuzjY8NLc_"
   },
   "source": [
    "The above is an example of *automatic conversion*, where the Python interpreter converts of variables so they valid expressions that can be computed"
   ]
  },
  {
   "cell_type": "code",
   "execution_count": null,
   "id": "rsb2PUI1p59I",
   "metadata": {
    "colab": {
     "base_uri": "https://localhost:8080/"
    },
    "executionInfo": {
     "elapsed": 361,
     "status": "ok",
     "timestamp": 1717177868463,
     "user": {
      "displayName": "Paulo Martel",
      "userId": "16475723840259251382"
     },
     "user_tz": -60
    },
    "id": "rsb2PUI1p59I",
    "outputId": "f7b07417-bb60-4572-f5dd-d2c846808b12"
   },
   "outputs": [
    {
     "data": {
      "text/plain": [
       "(3, 3)"
      ]
     },
     "execution_count": 43,
     "metadata": {},
     "output_type": "execute_result"
    }
   ],
   "source": [
    "2 + True, 3 + False"
   ]
  },
  {
   "cell_type": "code",
   "execution_count": null,
   "id": "JB5UoLAENlvJ",
   "metadata": {
    "colab": {
     "base_uri": "https://localhost:8080/"
    },
    "executionInfo": {
     "elapsed": 298,
     "status": "ok",
     "timestamp": 1717177870202,
     "user": {
      "displayName": "Paulo Martel",
      "userId": "16475723840259251382"
     },
     "user_tz": -60
    },
    "id": "JB5UoLAENlvJ",
    "outputId": "f2468388-a6f3-4399-f6e1-e0edc299b5ec"
   },
   "outputs": [
    {
     "data": {
      "text/plain": [
       "(1, 0.0)"
      ]
     },
     "execution_count": 44,
     "metadata": {},
     "output_type": "execute_result"
    }
   ],
   "source": [
    "int(True), float(False)"
   ]
  },
  {
   "cell_type": "markdown",
   "id": "Mhb2Q24uqAje",
   "metadata": {
    "id": "Mhb2Q24uqAje"
   },
   "source": [
    "### Separating `int` and `float` seems annoying, but there are reasons to work with one or the other\n",
    "\n",
    "1. floats have limited precision, 0.1 cannot be represented precisely in the memory"
   ]
  },
  {
   "cell_type": "code",
   "execution_count": 40,
   "id": "eiNQG0VQqZpg",
   "metadata": {
    "colab": {
     "base_uri": "https://localhost:8080/"
    },
    "executionInfo": {
     "elapsed": 309,
     "status": "ok",
     "timestamp": 1717177874723,
     "user": {
      "displayName": "Paulo Martel",
      "userId": "16475723840259251382"
     },
     "user_tz": -60
    },
    "id": "eiNQG0VQqZpg",
    "outputId": "4c4a33e9-a36d-4c6b-a389-a30b630ffc11"
   },
   "outputs": [
    {
     "data": {
      "text/plain": [
       "False"
      ]
     },
     "execution_count": 40,
     "metadata": {},
     "output_type": "execute_result"
    }
   ],
   "source": [
    "0.1 + 0.1 + 0.1 == 0.3"
   ]
  },
  {
   "cell_type": "code",
   "execution_count": 41,
   "id": "pN9jcBq6eA1O",
   "metadata": {
    "colab": {
     "base_uri": "https://localhost:8080/"
    },
    "executionInfo": {
     "elapsed": 285,
     "status": "ok",
     "timestamp": 1717177876986,
     "user": {
      "displayName": "Paulo Martel",
      "userId": "16475723840259251382"
     },
     "user_tz": -60
    },
    "id": "pN9jcBq6eA1O",
    "outputId": "8931553f-7f06-438c-a92d-e9c8519dba26"
   },
   "outputs": [
    {
     "data": {
      "text/plain": [
       "5.551115123125783e-17"
      ]
     },
     "execution_count": 41,
     "metadata": {},
     "output_type": "execute_result"
    }
   ],
   "source": [
    "(0.1 + 0.1 + 0.1) - 0.3"
   ]
  },
  {
   "cell_type": "markdown",
   "id": "4f7e0b63-71b4-4f6f-9dd9-735225c77fb7",
   "metadata": {},
   "source": [
    "Generally, this is sort of maximum presicion you can achive, e-15 and less is real number 0"
   ]
  },
  {
   "cell_type": "code",
   "execution_count": 42,
   "id": "Z_z0XabIrVjh",
   "metadata": {
    "colab": {
     "base_uri": "https://localhost:8080/",
     "height": 35
    },
    "executionInfo": {
     "elapsed": 266,
     "status": "ok",
     "timestamp": 1717177878576,
     "user": {
      "displayName": "Paulo Martel",
      "userId": "16475723840259251382"
     },
     "user_tz": -60
    },
    "id": "Z_z0XabIrVjh",
    "outputId": "101beca7-b5e3-4dd8-cf63-3264217c168a"
   },
   "outputs": [
    {
     "data": {
      "text/plain": [
       "'0.10000000000000000555111512312578'"
      ]
     },
     "execution_count": 42,
     "metadata": {},
     "output_type": "execute_result"
    }
   ],
   "source": [
    "format(0.1, '.32g')"
   ]
  },
  {
   "cell_type": "code",
   "execution_count": 43,
   "id": "bXNl3nn3rn9v",
   "metadata": {
    "colab": {
     "base_uri": "https://localhost:8080/",
     "height": 35
    },
    "executionInfo": {
     "elapsed": 255,
     "status": "ok",
     "timestamp": 1717177880795,
     "user": {
      "displayName": "Paulo Martel",
      "userId": "16475723840259251382"
     },
     "user_tz": -60
    },
    "id": "bXNl3nn3rn9v",
    "outputId": "75bea241-e223-45d6-f633-d8b35fa9069e"
   },
   "outputs": [
    {
     "data": {
      "text/plain": [
       "'7.1259999999999994457766661071218550205230712890625000000000000000'"
      ]
     },
     "execution_count": 43,
     "metadata": {},
     "output_type": "execute_result"
    }
   ],
   "source": [
    "format( (7.126/3)*3, '.64f')"
   ]
  },
  {
   "cell_type": "code",
   "execution_count": 45,
   "id": "ec437663-a259-4ec0-a68b-ae2ad742448c",
   "metadata": {},
   "outputs": [
    {
     "data": {
      "text/plain": [
       "'0.25'"
      ]
     },
     "execution_count": 45,
     "metadata": {},
     "output_type": "execute_result"
    }
   ],
   "source": [
    "format(0.25, '.32g')"
   ]
  },
  {
   "cell_type": "code",
   "execution_count": 47,
   "id": "a63a103d-a325-412c-abb0-ae46a658b122",
   "metadata": {},
   "outputs": [
    {
     "data": {
      "text/plain": [
       "'0.0078125'"
      ]
     },
     "execution_count": 47,
     "metadata": {},
     "output_type": "execute_result"
    }
   ],
   "source": [
    "format(1/128, '.32g')"
   ]
  },
  {
   "cell_type": "markdown",
   "id": "wJXOxhHtfl-q",
   "metadata": {
    "id": "wJXOxhHtfl-q"
   },
   "source": [
    "0.25 or 1/4 is represented precisely. Can you guess why? Hint: the same is true for 1/16, 1/32, 1/64 ...\n",
    "\n",
    "What you saw above results from the fact most real numbers do not have an exact representation in in binary form, show when we try to convert back from the binary approximation we don't get the original number, but a close approximation."
   ]
  },
  {
   "cell_type": "markdown",
   "id": "Yk4uOKhGtPpE",
   "metadata": {
    "id": "Yk4uOKhGtPpE"
   },
   "source": [
    "2. Integers might suffer overflows (problem in NumPy, so we leave it for now)\n",
    "  * Try the below three cells with 128 too.\n",
    "  * However python will mostly protect you from your mistakes."
   ]
  },
  {
   "cell_type": "markdown",
   "id": "9LAg1QcDf-Ei",
   "metadata": {
    "id": "9LAg1QcDf-Ei"
   },
   "source": [
    "In contrast to plain Python, the integers in Numpy have a *fixed size* represenation, using a variable number of **bits** (binary digits) in memory (e.g. `int8`takes 8 bits, `int16` takes 16 bits, and so on). The default integer type for Numpy in Linux systems (like the Google Colab virtual machine we are running on) is 64-bit long integers (`int64`)."
   ]
  },
  {
   "cell_type": "code",
   "execution_count": 48,
   "id": "6Z-afhAIydRK",
   "metadata": {
    "id": "6Z-afhAIydRK"
   },
   "outputs": [],
   "source": [
    "import warnings\n",
    "warnings.filterwarnings(\"ignore\", category=DeprecationWarning)"
   ]
  },
  {
   "cell_type": "code",
   "execution_count": 49,
   "id": "Sz5KUbRKtWl4",
   "metadata": {
    "colab": {
     "base_uri": "https://localhost:8080/"
    },
    "executionInfo": {
     "elapsed": 308,
     "status": "ok",
     "timestamp": 1717178038221,
     "user": {
      "displayName": "Paulo Martel",
      "userId": "16475723840259251382"
     },
     "user_tz": -60
    },
    "id": "Sz5KUbRKtWl4",
    "outputId": "3d8330fc-84b7-4b7c-8819-8506e756651a"
   },
   "outputs": [
    {
     "data": {
      "text/plain": [
       "(127, numpy.int8)"
      ]
     },
     "execution_count": 49,
     "metadata": {},
     "output_type": "execute_result"
    }
   ],
   "source": [
    "num = np.int8(127)\n",
    "num, type(num)"
   ]
  },
  {
   "cell_type": "code",
   "execution_count": 50,
   "id": "CLZwuDd1uwSQ",
   "metadata": {
    "colab": {
     "base_uri": "https://localhost:8080/"
    },
    "executionInfo": {
     "elapsed": 326,
     "status": "ok",
     "timestamp": 1717178088088,
     "user": {
      "displayName": "Paulo Martel",
      "userId": "16475723840259251382"
     },
     "user_tz": -60
    },
    "id": "CLZwuDd1uwSQ",
    "outputId": "ad8376aa-14f9-4fac-d9e8-03ebac00ac10"
   },
   "outputs": [
    {
     "data": {
      "text/plain": [
       "(-128, numpy.int8)"
      ]
     },
     "execution_count": 50,
     "metadata": {},
     "output_type": "execute_result"
    }
   ],
   "source": [
    "num = np.int8(128)\n",
    "num, type(num)"
   ]
  },
  {
   "cell_type": "code",
   "execution_count": 51,
   "id": "iFkl-TF2ue7m",
   "metadata": {
    "colab": {
     "base_uri": "https://localhost:8080/"
    },
    "executionInfo": {
     "elapsed": 261,
     "status": "ok",
     "timestamp": 1717178092358,
     "user": {
      "displayName": "Paulo Martel",
      "userId": "16475723840259251382"
     },
     "user_tz": -60
    },
    "id": "iFkl-TF2ue7m",
    "outputId": "3cda3550-5df6-44ba-f783-41493b12f795"
   },
   "outputs": [
    {
     "data": {
      "text/plain": [
       "(-128, 4294967168)"
      ]
     },
     "execution_count": 51,
     "metadata": {},
     "output_type": "execute_result"
    }
   ],
   "source": [
    "num, np.uint(num)"
   ]
  },
  {
   "cell_type": "code",
   "execution_count": 52,
   "id": "gYSSYon1eyX6",
   "metadata": {
    "colab": {
     "base_uri": "https://localhost:8080/"
    },
    "executionInfo": {
     "elapsed": 275,
     "status": "ok",
     "timestamp": 1717178129959,
     "user": {
      "displayName": "Paulo Martel",
      "userId": "16475723840259251382"
     },
     "user_tz": -60
    },
    "id": "gYSSYon1eyX6",
    "outputId": "817796b4-5e2b-410f-ce3b-5eea5136433c"
   },
   "outputs": [
    {
     "data": {
      "text/plain": [
       "iinfo(min=0, max=4294967295, dtype=uint32)"
      ]
     },
     "execution_count": 52,
     "metadata": {},
     "output_type": "execute_result"
    }
   ],
   "source": [
    "np.iinfo(np.uint)"
   ]
  },
  {
   "cell_type": "markdown",
   "id": "QnD6uNJpyyat",
   "metadata": {
    "id": "QnD6uNJpyyat"
   },
   "source": [
    "Try the below code also with `np.int32`,` np.int16` and `np.int8`"
   ]
  },
  {
   "cell_type": "code",
   "execution_count": 53,
   "id": "680o33dkyovJ",
   "metadata": {
    "colab": {
     "base_uri": "https://localhost:8080/"
    },
    "executionInfo": {
     "elapsed": 287,
     "status": "ok",
     "timestamp": 1717178281722,
     "user": {
      "displayName": "Paulo Martel",
      "userId": "16475723840259251382"
     },
     "user_tz": -60
    },
    "id": "680o33dkyovJ",
    "outputId": "fdf9be28-1ef0-4c96-a7c4-7601bb290df0"
   },
   "outputs": [
    {
     "data": {
      "text/plain": [
       "iinfo(min=-9223372036854775808, max=9223372036854775807, dtype=int64)"
      ]
     },
     "execution_count": 53,
     "metadata": {},
     "output_type": "execute_result"
    }
   ],
   "source": [
    "np.iinfo(np.int64)"
   ]
  },
  {
   "cell_type": "code",
   "execution_count": 54,
   "id": "wOQsSaHsdXx8",
   "metadata": {
    "colab": {
     "base_uri": "https://localhost:8080/"
    },
    "executionInfo": {
     "elapsed": 283,
     "status": "ok",
     "timestamp": 1717004796222,
     "user": {
      "displayName": "Paulo Martel",
      "userId": "16475723840259251382"
     },
     "user_tz": -60
    },
    "id": "wOQsSaHsdXx8",
    "outputId": "a91c800a-39d9-4728-8696-4a3ac79b44ad"
   },
   "outputs": [
    {
     "data": {
      "text/plain": [
       "0"
      ]
     },
     "execution_count": 54,
     "metadata": {},
     "output_type": "execute_result"
    }
   ],
   "source": [
    "np.power(100, 100, dtype='int')"
   ]
  },
  {
   "cell_type": "code",
   "execution_count": 55,
   "id": "PZ_2HzmodgpZ",
   "metadata": {
    "colab": {
     "base_uri": "https://localhost:8080/"
    },
    "executionInfo": {
     "elapsed": 406,
     "status": "ok",
     "timestamp": 1717004809141,
     "user": {
      "displayName": "Paulo Martel",
      "userId": "16475723840259251382"
     },
     "user_tz": -60
    },
    "id": "PZ_2HzmodgpZ",
    "outputId": "59aef17c-96bb-434d-f966-615f40f80aa6"
   },
   "outputs": [
    {
     "data": {
      "text/plain": [
       "1e+200"
      ]
     },
     "execution_count": 55,
     "metadata": {},
     "output_type": "execute_result"
    }
   ],
   "source": [
    "np.power(100, 100, dtype='float')"
   ]
  },
  {
   "cell_type": "code",
   "execution_count": 56,
   "id": "NT1GKkQFdmSi",
   "metadata": {
    "colab": {
     "base_uri": "https://localhost:8080/"
    },
    "executionInfo": {
     "elapsed": 269,
     "status": "ok",
     "timestamp": 1717178346943,
     "user": {
      "displayName": "Paulo Martel",
      "userId": "16475723840259251382"
     },
     "user_tz": -60
    },
    "id": "NT1GKkQFdmSi",
    "outputId": "0ca5c90f-04f2-4d1c-b18d-1d630271e003"
   },
   "outputs": [
    {
     "name": "stderr",
     "output_type": "stream",
     "text": [
      "C:\\Users\\David Palecek\\AppData\\Local\\Temp\\ipykernel_16428\\3893784629.py:1: RuntimeWarning: overflow encountered in power\n",
      "  np.power(100, 100, dtype='float32')\n"
     ]
    },
    {
     "data": {
      "text/plain": [
       "inf"
      ]
     },
     "execution_count": 56,
     "metadata": {},
     "output_type": "execute_result"
    }
   ],
   "source": [
    "np.power(100, 100, dtype='float32')"
   ]
  },
  {
   "cell_type": "code",
   "execution_count": 57,
   "id": "URyTIvjGN-sC",
   "metadata": {
    "colab": {
     "base_uri": "https://localhost:8080/"
    },
    "executionInfo": {
     "elapsed": 292,
     "status": "ok",
     "timestamp": 1717178339521,
     "user": {
      "displayName": "Paulo Martel",
      "userId": "16475723840259251382"
     },
     "user_tz": -60
    },
    "id": "URyTIvjGN-sC",
    "outputId": "5076491e-4161-4d28-cc00-c644759c90c4"
   },
   "outputs": [
    {
     "data": {
      "text/plain": [
       "(0, numpy.uint8)"
      ]
     },
     "execution_count": 57,
     "metadata": {},
     "output_type": "execute_result"
    }
   ],
   "source": [
    "a = np.uint8(256)\n",
    "a, type(a)"
   ]
  },
  {
   "cell_type": "markdown",
   "id": "e29df8f7-bfa5-4d29-8946-8393c3c742b8",
   "metadata": {
    "id": "e29df8f7-bfa5-4d29-8946-8393c3c742b8"
   },
   "source": [
    "## Exercise on variables"
   ]
  },
  {
   "cell_type": "code",
   "execution_count": 58,
   "id": "3c3516c6-1ef9-4961-bcd5-f7f3fe22aa85",
   "metadata": {
    "id": "3c3516c6-1ef9-4961-bcd5-f7f3fe22aa85"
   },
   "outputs": [],
   "source": [
    "# this is your starting variable\n",
    "user = 'Noah'"
   ]
  },
  {
   "cell_type": "markdown",
   "id": "f475a1e7-4c55-4c5a-be90-fcdd80fe1097",
   "metadata": {
    "id": "f475a1e7-4c55-4c5a-be90-fcdd80fe1097"
   },
   "source": [
    "### Search for `string methods` in python online or use `help(str)`\n",
    "* use string methods to achieve these outputs\n",
    "'NOAH', 'noah', 'haon', 'NoAh', 'NoahNoah'\n",
    "\n",
    "* count letter a\n",
    "* position of substring 'ah', index() method"
   ]
  },
  {
   "cell_type": "code",
   "execution_count": null,
   "id": "4d0293b2-cfab-4c73-b13f-4e95f2d547c1",
   "metadata": {},
   "outputs": [],
   "source": [
    "# your tests"
   ]
  },
  {
   "cell_type": "code",
   "execution_count": 65,
   "id": "e34cd3b0-b963-453b-8918-5cf44cd19e42",
   "metadata": {
    "id": "e34cd3b0-b963-453b-8918-5cf44cd19e42"
   },
   "outputs": [
    {
     "name": "stdout",
     "output_type": "stream",
     "text": [
      "NOAH\n",
      "noah\n",
      "haon\n",
      "NoAh\n",
      "NoahNoah\n",
      "count letter as:  1\n",
      "position of substring:  2\n"
     ]
    }
   ],
   "source": [
    "# @title Answers\n",
    "print(user.upper())\n",
    "print(user.lower())\n",
    "print(user.lower()[::-1])\n",
    "print(user.replace('a', 'A'))\n",
    "print(2 * user)\n",
    "\n",
    "# count letters\n",
    "print('count letter as: ', user.count('a'))\n",
    "print('position of substring: ', user.index('ah'))"
   ]
  },
  {
   "cell_type": "markdown",
   "id": "bd92909e-e0bb-45cd-8088-7e69efe81e01",
   "metadata": {},
   "source": [
    "#### **Careful**: the original string has not been modified, so none of these is inplace operation"
   ]
  },
  {
   "cell_type": "code",
   "execution_count": 66,
   "id": "eb318d96-0558-4338-af68-dcbb52ac55b6",
   "metadata": {},
   "outputs": [
    {
     "data": {
      "text/plain": [
       "'Noah'"
      ]
     },
     "execution_count": 66,
     "metadata": {},
     "output_type": "execute_result"
    }
   ],
   "source": [
    "user"
   ]
  },
  {
   "cell_type": "code",
   "execution_count": null,
   "id": "0afedace-624d-4be5-aadd-4111d025983f",
   "metadata": {
    "colab": {
     "base_uri": "https://localhost:8080/"
    },
    "executionInfo": {
     "elapsed": 288,
     "status": "ok",
     "timestamp": 1717178370392,
     "user": {
      "displayName": "Paulo Martel",
      "userId": "16475723840259251382"
     },
     "user_tz": -60
    },
    "id": "0afedace-624d-4be5-aadd-4111d025983f",
    "outputId": "daee436a-eb8a-4b2f-cce5-6bed0c99f590"
   },
   "outputs": [
    {
     "data": {
      "text/plain": [
       "['__add__',\n",
       " '__class__',\n",
       " '__contains__',\n",
       " '__delattr__',\n",
       " '__dir__',\n",
       " '__doc__',\n",
       " '__eq__',\n",
       " '__format__',\n",
       " '__ge__',\n",
       " '__getattribute__',\n",
       " '__getitem__',\n",
       " '__getnewargs__',\n",
       " '__gt__',\n",
       " '__hash__',\n",
       " '__init__',\n",
       " '__init_subclass__',\n",
       " '__iter__',\n",
       " '__le__',\n",
       " '__len__',\n",
       " '__lt__',\n",
       " '__mod__',\n",
       " '__mul__',\n",
       " '__ne__',\n",
       " '__new__',\n",
       " '__reduce__',\n",
       " '__reduce_ex__',\n",
       " '__repr__',\n",
       " '__rmod__',\n",
       " '__rmul__',\n",
       " '__setattr__',\n",
       " '__sizeof__',\n",
       " '__str__',\n",
       " '__subclasshook__',\n",
       " 'capitalize',\n",
       " 'casefold',\n",
       " 'center',\n",
       " 'count',\n",
       " 'encode',\n",
       " 'endswith',\n",
       " 'expandtabs',\n",
       " 'find',\n",
       " 'format',\n",
       " 'format_map',\n",
       " 'index',\n",
       " 'isalnum',\n",
       " 'isalpha',\n",
       " 'isascii',\n",
       " 'isdecimal',\n",
       " 'isdigit',\n",
       " 'isidentifier',\n",
       " 'islower',\n",
       " 'isnumeric',\n",
       " 'isprintable',\n",
       " 'isspace',\n",
       " 'istitle',\n",
       " 'isupper',\n",
       " 'join',\n",
       " 'ljust',\n",
       " 'lower',\n",
       " 'lstrip',\n",
       " 'maketrans',\n",
       " 'partition',\n",
       " 'removeprefix',\n",
       " 'removesuffix',\n",
       " 'replace',\n",
       " 'rfind',\n",
       " 'rindex',\n",
       " 'rjust',\n",
       " 'rpartition',\n",
       " 'rsplit',\n",
       " 'rstrip',\n",
       " 'split',\n",
       " 'splitlines',\n",
       " 'startswith',\n",
       " 'strip',\n",
       " 'swapcase',\n",
       " 'title',\n",
       " 'translate',\n",
       " 'upper',\n",
       " 'zfill']"
      ]
     },
     "execution_count": 74,
     "metadata": {},
     "output_type": "execute_result"
    }
   ],
   "source": [
    "# here you can get all attributes and methods for any python object\n",
    "dir(str)  # dir(5) also gives you something: Prove that everything is an object, Note: compare with help(str)"
   ]
  },
  {
   "cell_type": "markdown",
   "id": "c4f8b6ad-5221-4990-8d27-75ac2ceed24d",
   "metadata": {
    "id": "c4f8b6ad-5221-4990-8d27-75ac2ceed24d"
   },
   "source": [
    "---\n",
    "# Section 6: Lists\n",
    "\n",
    "*Time estimate: ~20mins*"
   ]
  },
  {
   "cell_type": "code",
   "execution_count": 22,
   "id": "5b993d10-f9e3-4b59-a552-4eb74e7bb1c0",
   "metadata": {
    "colab": {
     "base_uri": "https://localhost:8080/"
    },
    "executionInfo": {
     "elapsed": 258,
     "status": "ok",
     "timestamp": 1717178377118,
     "user": {
      "displayName": "Paulo Martel",
      "userId": "16475723840259251382"
     },
     "user_tz": -60
    },
    "id": "5b993d10-f9e3-4b59-a552-4eb74e7bb1c0",
    "outputId": "19b0b7f4-44c5-414e-f8b4-e28e86a9ac54"
   },
   "outputs": [
    {
     "data": {
      "text/plain": [
       "['a', 'b', 'c', 'd', 'e', 'f']"
      ]
     },
     "execution_count": 22,
     "metadata": {},
     "output_type": "execute_result"
    }
   ],
   "source": [
    "lst1 = ['a', 'b', 'c', 'd', 'e', 'f']\n",
    "lst1"
   ]
  },
  {
   "cell_type": "code",
   "execution_count": 23,
   "id": "zTUaiyut15kX",
   "metadata": {
    "colab": {
     "base_uri": "https://localhost:8080/"
    },
    "executionInfo": {
     "elapsed": 257,
     "status": "ok",
     "timestamp": 1717178379385,
     "user": {
      "displayName": "Paulo Martel",
      "userId": "16475723840259251382"
     },
     "user_tz": -60
    },
    "id": "zTUaiyut15kX",
    "outputId": "c0bae7df-ee8b-47ad-e47c-95c5f2bdb413"
   },
   "outputs": [
    {
     "data": {
      "text/plain": [
       "6"
      ]
     },
     "execution_count": 23,
     "metadata": {},
     "output_type": "execute_result"
    }
   ],
   "source": [
    "# Did you notice a __len__ method in the dir(str)?\n",
    "lst1.__len__()"
   ]
  },
  {
   "cell_type": "code",
   "execution_count": 24,
   "id": "elMM589J2DTl",
   "metadata": {
    "colab": {
     "base_uri": "https://localhost:8080/"
    },
    "executionInfo": {
     "elapsed": 269,
     "status": "ok",
     "timestamp": 1717178381135,
     "user": {
      "displayName": "Paulo Martel",
      "userId": "16475723840259251382"
     },
     "user_tz": -60
    },
    "id": "elMM589J2DTl",
    "outputId": "a5557387-80a2-47d4-cb52-c882e92927b1"
   },
   "outputs": [
    {
     "data": {
      "text/plain": [
       "6"
      ]
     },
     "execution_count": 24,
     "metadata": {},
     "output_type": "execute_result"
    }
   ],
   "source": [
    "# is equivalent to\n",
    "len(lst1)"
   ]
  },
  {
   "cell_type": "code",
   "execution_count": 33,
   "id": "6f88192e-e98f-457b-a4aa-26be97254417",
   "metadata": {
    "colab": {
     "base_uri": "https://localhost:8080/"
    },
    "executionInfo": {
     "elapsed": 288,
     "status": "ok",
     "timestamp": 1717178383220,
     "user": {
      "displayName": "Paulo Martel",
      "userId": "16475723840259251382"
     },
     "user_tz": -60
    },
    "id": "6f88192e-e98f-457b-a4aa-26be97254417",
    "outputId": "f99e50e3-07d8-4a53-915e-bf1cdcef5cb5"
   },
   "outputs": [
    {
     "data": {
      "text/plain": [
       "([1, 5.56, 'Noah', ['a', 'b', 'c', 'd', 'e', 100]], list)"
      ]
     },
     "execution_count": 33,
     "metadata": {},
     "output_type": "execute_result"
    }
   ],
   "source": [
    "lst2 = [1, 5.56, 'Noah', lst1]\n",
    "lst2, type(lst2)"
   ]
  },
  {
   "cell_type": "code",
   "execution_count": 35,
   "id": "681a796e-c67c-47d3-a7ba-3c96291f111b",
   "metadata": {},
   "outputs": [
    {
     "data": {
      "text/plain": [
       "(int, str, list)"
      ]
     },
     "execution_count": 35,
     "metadata": {},
     "output_type": "execute_result"
    }
   ],
   "source": [
    "# type of each element is what you expect and demonstrates the flexibility of a list as a container or any type of information\n",
    "type(lst2[0]), type(lst2[2]), type(lst2[-1])"
   ]
  },
  {
   "cell_type": "code",
   "execution_count": 29,
   "id": "14969c66-6650-485d-92ff-a26173118548",
   "metadata": {},
   "outputs": [
    {
     "data": {
      "text/plain": [
       "'a'"
      ]
     },
     "execution_count": 29,
     "metadata": {},
     "output_type": "execute_result"
    }
   ],
   "source": [
    "# get first element of lst1\n",
    "lst1[0]"
   ]
  },
  {
   "cell_type": "markdown",
   "id": "8c75072c-011b-41e8-a9cc-f780b86de380",
   "metadata": {},
   "source": [
    "### YES, in python we count from 0!!!"
   ]
  },
  {
   "cell_type": "code",
   "execution_count": 27,
   "id": "e8833b67-b000-4976-809a-02fddb5bd0c7",
   "metadata": {},
   "outputs": [
    {
     "data": {
      "text/plain": [
       "['a', 'b', 'c', 'd', 'e', 100]"
      ]
     },
     "execution_count": 27,
     "metadata": {},
     "output_type": "execute_result"
    }
   ],
   "source": [
    "# change single element, - sign indexes the array in reverse from the last elements -1\n",
    "lst1[-1] = 100\n",
    "lst1"
   ]
  },
  {
   "cell_type": "markdown",
   "id": "9b061f57-1583-43b0-b207-bf905287259b",
   "metadata": {},
   "source": [
    "### Lists are mutable, and ordered because you can access element by its index"
   ]
  },
  {
   "cell_type": "markdown",
   "id": "af5310e2-bdad-46ad-8d35-34ef88034ca7",
   "metadata": {},
   "source": [
    "### Nested lists"
   ]
  },
  {
   "cell_type": "code",
   "execution_count": 32,
   "id": "a9b2aeb7-d99d-4429-bd36-1dd7c274fb74",
   "metadata": {},
   "outputs": [
    {
     "data": {
      "text/plain": [
       "(3, 3)"
      ]
     },
     "execution_count": 32,
     "metadata": {},
     "output_type": "execute_result"
    }
   ],
   "source": [
    "# As you saw above can contain lists so you can construct a grid (2D array, ie image)\n",
    "lst_nested = [['a', 'b', 'c'], ['d', 'e', 'f'], ['g', 'h', 'i']]\n",
    "len(lst_nested), len(lst_nested[0])"
   ]
  },
  {
   "cell_type": "markdown",
   "id": "4ce9102e-8e7d-4e37-8302-199fbb7748cb",
   "metadata": {},
   "source": [
    "---\n",
    "# Section 7: Slicing\n",
    "*Time estimate: ~20mins*\n",
    "\n",
    "General pattern is `seq[beg:end:step]`. If you do not fill the numbers, python assumes beg: 0, end: len(seq), step: 1"
   ]
  },
  {
   "cell_type": "code",
   "execution_count": 38,
   "id": "58002d52-73e4-4afc-9433-0455c7ef5972",
   "metadata": {},
   "outputs": [
    {
     "data": {
      "text/plain": [
       "['a', 'b', 'c', 'd', 'e', 100]"
      ]
     },
     "execution_count": 38,
     "metadata": {},
     "output_type": "execute_result"
    }
   ],
   "source": [
    "# index all elements\n",
    "lst1[:]  # equivalent to lst1[0:len(lst)], lst1[0:], lst1[::], lst1[:len(lst)], lst1"
   ]
  },
  {
   "cell_type": "code",
   "execution_count": 39,
   "id": "a2598c62-dd94-46b7-9968-b20d461a95e7",
   "metadata": {
    "colab": {
     "base_uri": "https://localhost:8080/"
    },
    "executionInfo": {
     "elapsed": 409,
     "status": "ok",
     "timestamp": 1717178393117,
     "user": {
      "displayName": "Paulo Martel",
      "userId": "16475723840259251382"
     },
     "user_tz": -60
    },
    "id": "a2598c62-dd94-46b7-9968-b20d461a95e7",
    "outputId": "65cbbb73-bfb8-4045-8836-c356bbec51fa"
   },
   "outputs": [
    {
     "data": {
      "text/plain": [
       "['a', 'b', 'c', 'd', 'e', 100]"
      ]
     },
     "execution_count": 39,
     "metadata": {},
     "output_type": "execute_result"
    }
   ],
   "source": [
    "lst1[::]"
   ]
  },
  {
   "cell_type": "code",
   "execution_count": 41,
   "id": "ff080cde-4eb5-42c4-83e9-85d2f1950f63",
   "metadata": {},
   "outputs": [
    {
     "data": {
      "text/plain": [
       "[100, 'd', 'b']"
      ]
     },
     "execution_count": 41,
     "metadata": {},
     "output_type": "execute_result"
    }
   ],
   "source": [
    "# minus in step changes direction (reverses the lst), and with step 2 -> skipping the middle element\n",
    "lst1[::-2]"
   ]
  },
  {
   "cell_type": "code",
   "execution_count": 42,
   "id": "926a2ec9-63be-414f-ac01-be40bf4088b0",
   "metadata": {},
   "outputs": [
    {
     "name": "stdout",
     "output_type": "stream",
     "text": [
      "['i', 'g', 'e']\n"
     ]
    }
   ],
   "source": [
    "# This is head breaking, but try to understand it\n",
    "# Do not use often and consider doing it \n",
    "lst = ['a', 'b', 'c', 'd', 'e', 'f', 'g', 'h', 'i']\n",
    "print(lst[:2:-2])"
   ]
  },
  {
   "cell_type": "markdown",
   "id": "6ffeae3b-2742-44e0-aba9-1c325de79fa4",
   "metadata": {},
   "source": [
    "### full slicing cheat sheet by Nicholas Key\n",
    "![](https://github.com/Py-ualg/2024-intro-course/blob/main/tutorials/D1S1_variables_dtypes/static/indexing.jpg?raw=1)"
   ]
  },
  {
   "cell_type": "markdown",
   "id": "bf21884c-ff4e-445f-b089-bee31d6bcdbd",
   "metadata": {
    "id": "bf21884c-ff4e-445f-b089-bee31d6bcdbd"
   },
   "source": [
    "---\n",
    "# Section 8: Exercise 1, parsing text with GPT\n",
    "\n",
    "*Time estimate: ~20mins*\n",
    "\n",
    "## Formulation:\n",
    "1. Parse this text in such a way, that it prints planet distances from the sun together with the unit\n",
    "2. Calculate mean distance of planets in AU (astronomic units)\n",
    "\n",
    "## Recipe:\n",
    "Use ChatGPT.\n",
    "1. Make sure that its answer is correct.\n",
    "2. If not, identify where the mistake is, and ask for correction.\n",
    "3. Iterate until the answer is correct.\n",
    "4. If you do not understand any lines of code (such as regex), ask GPT for explanation.\n",
    "5. Are you able to engineer the prompt that the suggested code is correct at once?"
   ]
  },
  {
   "cell_type": "code",
   "execution_count": null,
   "id": "966c80cf-e9d0-4d40-a9b4-08e38ef44aeb",
   "metadata": {
    "id": "966c80cf-e9d0-4d40-a9b4-08e38ef44aeb"
   },
   "outputs": [],
   "source": [
    "# parsing string type of data?\n",
    "# Example text\n",
    "text = \"\"\"\n",
    "The solar system consists of the Sun and the celestial objects that orbit it, \\\n",
    "including eight planets. The average distance from the Sun to Mercury \\\n",
    "is approximately 57.9 million kilometers, \\\n",
    "to Venus is approximately 108.2 million kilometers, \\\n",
    "to Earth is approximately 149.6 million kilometers, \\\n",
    "to Mars is approximately 227.9 million kilometers, \\\n",
    "to Jupiter is approximately 778.6 million kilometers,  \\\n",
    "to Saturn is approximately 1.4 billion kilometers, to Uranus is  \\\n",
    "approximately 2.9 billion kilometers, and to Neptune is approximately 4.5  \\\n",
    "billion kilometers.\n",
    "\"\"\""
   ]
  },
  {
   "cell_type": "markdown",
   "id": "19B20YUn0FkH",
   "metadata": {
    "id": "19B20YUn0FkH"
   },
   "source": [
    "You should get the following answer:\n",
    "\n",
    "\n",
    "```\n",
    "57.9 million\n",
    "108.2 million\n",
    "149.6 million\n",
    "227.9 million\n",
    "778.6 million\n",
    "1.4 billion\n",
    "2.9 billion\n",
    "4.5 billion\n",
    "Average distance of the planets from the Sun in astronomical units (AU): 8.457720588235293\n",
    "```\n",
    "\n"
   ]
  },
  {
   "cell_type": "markdown",
   "id": "9083a597-643e-49d2-9d5d-1d00606c5c67",
   "metadata": {},
   "source": [
    "You can find one of the GPT solutions in the `tutorials/solutions_all.ipynb`."
   ]
  },
  {
   "cell_type": "markdown",
   "id": "f73d2641-e938-4e84-83d3-f7593bd31612",
   "metadata": {
    "id": "f73d2641-e938-4e84-83d3-f7593bd31612"
   },
   "source": [
    "---\n",
    "# Feedback\n",
    "* Please help us learn too. This form continuously accepts answers.\n",
    "* [feedback form](https://forms.gle/EMHvNJg394B5X8ys9)"
   ]
  }
 ],
 "metadata": {
  "colab": {
   "provenance": [
    {
     "file_id": "https://github.com/Py-ualg/2024-intro-course/blob/main/tutorials/D1S1_variables_dtypes/D1S1_tutorial1.ipynb",
     "timestamp": 1716547492774
    }
   ]
  },
  "kernelspec": {
   "display_name": "pyualg",
   "language": "python",
   "name": "pyualg"
  },
  "language_info": {
   "codemirror_mode": {
    "name": "ipython",
    "version": 3
   },
   "file_extension": ".py",
   "mimetype": "text/x-python",
   "name": "python",
   "nbconvert_exporter": "python",
   "pygments_lexer": "ipython3",
   "version": "3.11.5"
  }
 },
 "nbformat": 4,
 "nbformat_minor": 5
}
