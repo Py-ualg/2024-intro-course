{
 "cells": [
  {
   "cell_type": "markdown",
   "id": "0818d14b-fe01-4e69-93a7-85039e8b6c8e",
   "metadata": {},
   "source": [
    "\n",
    "# Tutorial 1: data structures, conditionals, operators.\n",
    "**Day 2, session 1: **\n",
    "\n",
    "__Content creators:__ David Palecek, Paulo Martel"
   ]
  },
  {
   "cell_type": "markdown",
   "id": "fbcbe5b2-5f94-47e7-9951-a32b1fefee60",
   "metadata": {},
   "source": [
    "---\n",
    "# Tutorial Objectives\n",
    "\n",
    "* DS\n",
    "* More operators\n",
    "* Conditionals"
   ]
  },
  {
   "cell_type": "markdown",
   "id": "af71f10f-eb8c-41dd-a438-2c3366073ced",
   "metadata": {},
   "source": [
    "---\n",
    "# Setup"
   ]
  },
  {
   "cell_type": "code",
   "execution_count": 16,
   "id": "89d07d74-8229-4699-8813-14620e4b342b",
   "metadata": {},
   "outputs": [],
   "source": [
    "# @title Helper Functions\n",
    "\n",
    "def checkExercise1():\n",
    "    pass"
   ]
  },
  {
   "cell_type": "markdown",
   "id": "15387936-ef94-4cad-ae68-8166e6696e89",
   "metadata": {},
   "source": [
    "# Section X: Data structures\n",
    "* list\n",
    "* tuple\n",
    "* dictionary"
   ]
  },
  {
   "cell_type": "code",
   "execution_count": null,
   "id": "a11ab546-e137-4229-84d3-2ea66ec2244b",
   "metadata": {},
   "outputs": [],
   "source": []
  },
  {
   "cell_type": "code",
   "execution_count": null,
   "id": "01322761-0603-49a7-bb8d-ee60ecec428f",
   "metadata": {},
   "outputs": [],
   "source": []
  },
  {
   "cell_type": "markdown",
   "id": "4540b337-8a7f-4fed-a3a9-89f023057fad",
   "metadata": {},
   "source": [
    "# Section X: Operators\n",
    "## Assignment Operators"
   ]
  },
  {
   "cell_type": "code",
   "execution_count": 7,
   "id": "80e8e339-f246-4171-8e7a-a5dc586c6652",
   "metadata": {},
   "outputs": [
    {
     "name": "stdout",
     "output_type": "stream",
     "text": [
      "5\n",
      "8\n"
     ]
    }
   ],
   "source": [
    "x = 5\n",
    "print(x)\n",
    "x += 3\n",
    "print(x)"
   ]
  },
  {
   "cell_type": "markdown",
   "id": "f7549427-7fcb-474d-ab76-5e37fa648c14",
   "metadata": {},
   "source": [
    "## Comparison Operators"
   ]
  },
  {
   "cell_type": "code",
   "execution_count": 8,
   "id": "6ce03d21-680e-456d-80a3-9b26ab0af9c9",
   "metadata": {},
   "outputs": [
    {
     "data": {
      "text/plain": [
       "True"
      ]
     },
     "execution_count": 8,
     "metadata": {},
     "output_type": "execute_result"
    }
   ],
   "source": [
    "5 != 0"
   ]
  },
  {
   "cell_type": "markdown",
   "id": "3c61b2b3-6774-490a-9b75-7089ad4e5966",
   "metadata": {},
   "source": [
    "## Logical Operators"
   ]
  },
  {
   "cell_type": "code",
   "execution_count": 10,
   "id": "e9334917-237e-4dc1-9c16-7956ced68545",
   "metadata": {},
   "outputs": [
    {
     "data": {
      "text/plain": [
       "False"
      ]
     },
     "execution_count": 10,
     "metadata": {},
     "output_type": "execute_result"
    }
   ],
   "source": [
    "x < 5 and  x < 10"
   ]
  },
  {
   "cell_type": "code",
   "execution_count": 11,
   "id": "b7f02b75-4eb5-40b9-9c53-49f875a5688b",
   "metadata": {},
   "outputs": [
    {
     "data": {
      "text/plain": [
       "True"
      ]
     },
     "execution_count": 11,
     "metadata": {},
     "output_type": "execute_result"
    }
   ],
   "source": [
    "x < 5 or  x < 10"
   ]
  },
  {
   "cell_type": "markdown",
   "id": "26ae2456-cc23-4995-a2d6-2764da9ae8e2",
   "metadata": {},
   "source": [
    "## Membership Operators\n",
    "* Change something to return `True`"
   ]
  },
  {
   "cell_type": "code",
   "execution_count": 14,
   "id": "a2ab4d42-a8d7-414b-bf66-dc5f1747db37",
   "metadata": {},
   "outputs": [
    {
     "data": {
      "text/plain": [
       "False"
      ]
     },
     "execution_count": 14,
     "metadata": {},
     "output_type": "execute_result"
    }
   ],
   "source": [
    "x in [1, 2, 5]"
   ]
  },
  {
   "cell_type": "markdown",
   "id": "abb57b79-b2d3-47b9-b34b-944ad1310ffd",
   "metadata": {},
   "source": [
    "**Note:**\n",
    "\n",
    "We skipped Bitwise Operators and Identity operators."
   ]
  },
  {
   "cell_type": "markdown",
   "id": "c6213347-4c1c-4c82-af92-1913a64c97cf",
   "metadata": {},
   "source": [
    "# Section X: Conditionals"
   ]
  },
  {
   "cell_type": "code",
   "execution_count": null,
   "id": "12fd3009-c2ea-4078-9c43-4a3e3ee859b5",
   "metadata": {},
   "outputs": [],
   "source": []
  },
  {
   "cell_type": "code",
   "execution_count": null,
   "id": "d4996fa4-2251-4db6-8dd2-a60f9f18a773",
   "metadata": {},
   "outputs": [],
   "source": []
  },
  {
   "cell_type": "code",
   "execution_count": null,
   "id": "e1543bbd-c884-4ba1-bf84-5164a01c6d89",
   "metadata": {},
   "outputs": [],
   "source": []
  }
 ],
 "metadata": {
  "kernelspec": {
   "display_name": "py2024course",
   "language": "python",
   "name": "py2024course"
  },
  "language_info": {
   "codemirror_mode": {
    "name": "ipython",
    "version": 3
   },
   "file_extension": ".py",
   "mimetype": "text/x-python",
   "name": "python",
   "nbconvert_exporter": "python",
   "pygments_lexer": "ipython3",
   "version": "3.11.5"
  }
 },
 "nbformat": 4,
 "nbformat_minor": 5
}
