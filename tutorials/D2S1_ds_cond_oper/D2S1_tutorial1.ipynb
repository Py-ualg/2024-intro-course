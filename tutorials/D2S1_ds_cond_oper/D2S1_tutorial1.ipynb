{
 "cells": [
  {
   "cell_type": "markdown",
   "id": "0818d14b-fe01-4e69-93a7-85039e8b6c8e",
   "metadata": {},
   "source": [
    "\n",
    "# Tutorial 1: data structures, conditionals, operators.\n",
    "**Day 2, session 1:**\n",
    "\n",
    "__Content creators:__ David Palecek, Paulo Martel"
   ]
  },
  {
   "cell_type": "markdown",
   "id": "fbcbe5b2-5f94-47e7-9951-a32b1fefee60",
   "metadata": {},
   "source": [
    "---\n",
    "# Tutorial Objectives\n",
    "\n",
    "* DS\n",
    "* More operators\n",
    "* Conditionals"
   ]
  },
  {
   "cell_type": "markdown",
   "id": "af71f10f-eb8c-41dd-a438-2c3366073ced",
   "metadata": {},
   "source": [
    "---\n",
    "# Setup"
   ]
  },
  {
   "cell_type": "code",
   "execution_count": 37,
   "id": "89d07d74-8229-4699-8813-14620e4b342b",
   "metadata": {},
   "outputs": [],
   "source": [
    "# @title Helper Functions\n",
    "\n",
    "def checkMutable(answer):\n",
    "    assert answer['immutable'].lower() == 'tuple', f\"Got: {answer['immutable'].lower()} \\n Expected 'tuple')\"\n",
    "    assert answer['mutable'].lower() == 'list', f\"Got: {answer['mutable'].lower()} \\n Expected 'list')\"\n",
    "    print(\"All correct\")\n",
    "\n",
    "def checkComparison(answer):\n",
    "    assert answer['greater than'] == '>'\n",
    "    assert answer['equal'] == '=='\n",
    "    assert answer['less or equal than'] == '<='\n",
    "    print('All correct')\n"
   ]
  },
  {
   "cell_type": "markdown",
   "id": "15387936-ef94-4cad-ae68-8166e6696e89",
   "metadata": {},
   "source": [
    "# Section X: Data structures\n",
    "\n",
    "*Time estimate: ~30mins*\n",
    "\n",
    "lists yesterday?\n",
    "* list\n",
    "* tuple\n",
    "* set\n",
    "* dictionary"
   ]
  },
  {
   "cell_type": "markdown",
   "id": "04bcf663-fe73-4ef1-b930-25154818ff9d",
   "metadata": {},
   "source": [
    "## Tuples"
   ]
  },
  {
   "cell_type": "code",
   "execution_count": 25,
   "id": "01322761-0603-49a7-bb8d-ee60ecec428f",
   "metadata": {},
   "outputs": [
    {
     "name": "stdout",
     "output_type": "stream",
     "text": [
      "1\n",
      "hello\n"
     ]
    }
   ],
   "source": [
    "# Creating a tuple\n",
    "my_tuple = (1, 2, 3, 'hello', True)\n",
    "\n",
    "# Accessing elements of a tuple\n",
    "print(my_tuple[0])  # Output: 1\n",
    "print(my_tuple[3])  # Output: 'hello'"
   ]
  },
  {
   "cell_type": "markdown",
   "id": "799436ad-90da-4381-9f37-f4d0fcb567f3",
   "metadata": {},
   "source": [
    "**Tuples are ordered, you can access elements by index**"
   ]
  },
  {
   "cell_type": "markdown",
   "id": "db7d41c5-1532-4425-95ba-bd3c7bf48b0b",
   "metadata": {},
   "source": [
    "## difference between tuple and list?\n",
    "* mutable vs immutable"
   ]
  },
  {
   "cell_type": "code",
   "execution_count": 3,
   "id": "6aacf534-4c2b-4ba6-9997-686843e0fe49",
   "metadata": {},
   "outputs": [
    {
     "name": "stdout",
     "output_type": "stream",
     "text": [
      "['apple', 2, 5.0]\n"
     ]
    }
   ],
   "source": [
    "lst = [1, 2, 5.0]\n",
    "lst[0] = 'apple'\n",
    "print(lst)"
   ]
  },
  {
   "cell_type": "code",
   "execution_count": 4,
   "id": "37ce6733-f9e4-492a-ada8-10ae47779c55",
   "metadata": {},
   "outputs": [
    {
     "ename": "TypeError",
     "evalue": "'tuple' object does not support item assignment",
     "output_type": "error",
     "traceback": [
      "\u001b[1;31m---------------------------------------------------------------------------\u001b[0m",
      "\u001b[1;31mTypeError\u001b[0m                                 Traceback (most recent call last)",
      "Cell \u001b[1;32mIn[4], line 2\u001b[0m\n\u001b[0;32m      1\u001b[0m tup \u001b[38;5;241m=\u001b[39m (\u001b[38;5;241m1\u001b[39m, \u001b[38;5;241m2\u001b[39m, \u001b[38;5;241m5.0\u001b[39m)\n\u001b[1;32m----> 2\u001b[0m \u001b[43mtup\u001b[49m\u001b[43m[\u001b[49m\u001b[38;5;241;43m0\u001b[39;49m\u001b[43m]\u001b[49m \u001b[38;5;241m=\u001b[39m \u001b[38;5;124m'\u001b[39m\u001b[38;5;124mapple\u001b[39m\u001b[38;5;124m'\u001b[39m\n\u001b[0;32m      3\u001b[0m \u001b[38;5;28mprint\u001b[39m(tup)\n",
      "\u001b[1;31mTypeError\u001b[0m: 'tuple' object does not support item assignment"
     ]
    }
   ],
   "source": [
    "tup = (1, 2, 5.0)\n",
    "tup[0] = 'apple'\n",
    "print(tup)"
   ]
  },
  {
   "cell_type": "code",
   "execution_count": 26,
   "id": "1f914742-a1c5-4c3f-841d-6b4e8e9a0c5f",
   "metadata": {},
   "outputs": [],
   "source": [
    "### answer which structure is mutable and which is immutable\n",
    "\n",
    "answer = {\n",
    "    'immutable': '',\n",
    "    'mutable': ''\n",
    "}\n",
    "\n",
    "# uncomment to check your answer\n",
    "# checkMutable(answer)"
   ]
  },
  {
   "cell_type": "markdown",
   "id": "80249698-a4a8-4080-b9b8-b959457412f1",
   "metadata": {},
   "source": [
    "**Overall**:\n",
    "* Tuples are ordered and immutable\n",
    "* Lists are ordered and mutable"
   ]
  },
  {
   "cell_type": "markdown",
   "id": "099f979d-896c-40c2-8fd9-339ab7f5c360",
   "metadata": {},
   "source": [
    "## Dictionary"
   ]
  },
  {
   "cell_type": "code",
   "execution_count": 40,
   "id": "acec6bc1-016c-45ba-8ec8-d0a776fb6c0c",
   "metadata": {},
   "outputs": [],
   "source": [
    "d = {'apple': 10, 'banana':2}"
   ]
  },
  {
   "cell_type": "code",
   "execution_count": 42,
   "id": "023e7bea-3118-45ac-9fd1-23c966c21ed8",
   "metadata": {},
   "outputs": [
    {
     "data": {
      "text/plain": [
       "10"
      ]
     },
     "execution_count": 42,
     "metadata": {},
     "output_type": "execute_result"
    }
   ],
   "source": [
    "d['apple']"
   ]
  },
  {
   "cell_type": "code",
   "execution_count": 43,
   "id": "217b1478-e44a-45c6-8f29-e84cddedde82",
   "metadata": {},
   "outputs": [
    {
     "ename": "KeyError",
     "evalue": "0",
     "output_type": "error",
     "traceback": [
      "\u001b[1;31m---------------------------------------------------------------------------\u001b[0m",
      "\u001b[1;31mKeyError\u001b[0m                                  Traceback (most recent call last)",
      "Cell \u001b[1;32mIn[43], line 1\u001b[0m\n\u001b[1;32m----> 1\u001b[0m \u001b[43md\u001b[49m\u001b[43m[\u001b[49m\u001b[38;5;241;43m0\u001b[39;49m\u001b[43m]\u001b[49m\n",
      "\u001b[1;31mKeyError\u001b[0m: 0"
     ]
    }
   ],
   "source": [
    "d[0]"
   ]
  },
  {
   "cell_type": "markdown",
   "id": "f2c661d3-02dd-41ab-bad4-e659f5400229",
   "metadata": {},
   "source": [
    "This means dictionaries are *ordered* or *unordered*?"
   ]
  },
  {
   "cell_type": "code",
   "execution_count": 45,
   "id": "3828567a-8222-43ab-b8cd-0ee07a96c069",
   "metadata": {},
   "outputs": [],
   "source": [
    "d[0] = 50"
   ]
  },
  {
   "cell_type": "markdown",
   "id": "13769ae3-a2cd-4fdc-b62b-1e446466eb0a",
   "metadata": {},
   "source": [
    "What do you expect from d now?"
   ]
  },
  {
   "cell_type": "code",
   "execution_count": 46,
   "id": "db533685-7808-4e88-8c68-e125b63c0291",
   "metadata": {},
   "outputs": [
    {
     "data": {
      "text/plain": [
       "{'apple': 10, 'banana': 2, 0: 50}"
      ]
     },
     "execution_count": 46,
     "metadata": {},
     "output_type": "execute_result"
    }
   ],
   "source": [
    "d"
   ]
  },
  {
   "cell_type": "markdown",
   "id": "cd715f99-2f81-4936-9c7c-fc55628b6f56",
   "metadata": {},
   "source": [
    "Dictionaries are *mutable* or *immutable*?"
   ]
  },
  {
   "cell_type": "markdown",
   "id": "4540b337-8a7f-4fed-a3a9-89f023057fad",
   "metadata": {},
   "source": [
    "# Section X: Operators\n",
    "## Assignment Operators"
   ]
  },
  {
   "cell_type": "code",
   "execution_count": 29,
   "id": "80e8e339-f246-4171-8e7a-a5dc586c6652",
   "metadata": {},
   "outputs": [
    {
     "name": "stdout",
     "output_type": "stream",
     "text": [
      "5\n",
      "8\n"
     ]
    }
   ],
   "source": [
    "x = 5\n",
    "print(x)\n",
    "x += 3\n",
    "print(x)"
   ]
  },
  {
   "cell_type": "markdown",
   "id": "f7549427-7fcb-474d-ab76-5e37fa648c14",
   "metadata": {},
   "source": [
    "## Comparison Operators"
   ]
  },
  {
   "cell_type": "code",
   "execution_count": 30,
   "id": "6ce03d21-680e-456d-80a3-9b26ab0af9c9",
   "metadata": {},
   "outputs": [
    {
     "data": {
      "text/plain": [
       "True"
      ]
     },
     "execution_count": 30,
     "metadata": {},
     "output_type": "execute_result"
    }
   ],
   "source": [
    "5 != 0"
   ]
  },
  {
   "cell_type": "markdown",
   "id": "3c61b2b3-6774-490a-9b75-7089ad4e5966",
   "metadata": {},
   "source": [
    "## Logical Operators"
   ]
  },
  {
   "cell_type": "code",
   "execution_count": 31,
   "id": "e9334917-237e-4dc1-9c16-7956ced68545",
   "metadata": {},
   "outputs": [
    {
     "data": {
      "text/plain": [
       "False"
      ]
     },
     "execution_count": 31,
     "metadata": {},
     "output_type": "execute_result"
    }
   ],
   "source": [
    "x < 5 and  x < 10"
   ]
  },
  {
   "cell_type": "code",
   "execution_count": 32,
   "id": "b7f02b75-4eb5-40b9-9c53-49f875a5688b",
   "metadata": {},
   "outputs": [
    {
     "data": {
      "text/plain": [
       "True"
      ]
     },
     "execution_count": 32,
     "metadata": {},
     "output_type": "execute_result"
    }
   ],
   "source": [
    "x < 5 or  x < 10"
   ]
  },
  {
   "cell_type": "markdown",
   "id": "942301a8-5532-4a7b-b0a6-2f606db73e1d",
   "metadata": {},
   "source": [
    "## Exercise"
   ]
  },
  {
   "cell_type": "code",
   "execution_count": 39,
   "id": "95f4fd65-6a0e-417d-a923-dd5f2d266536",
   "metadata": {},
   "outputs": [],
   "source": [
    "answer = {\n",
    "    'greater than': '',\n",
    "    'equal': '',\n",
    "    'less or equal than': ''\n",
    "}\n",
    "\n",
    "# uncomment to check your answers\n",
    "# checkComparison(answer)"
   ]
  },
  {
   "cell_type": "code",
   "execution_count": 35,
   "id": "69248f93-7806-4876-915e-66c016bce15c",
   "metadata": {},
   "outputs": [],
   "source": [
    "# Please explain difference between = and =="
   ]
  },
  {
   "cell_type": "code",
   "execution_count": null,
   "id": "5a2d73f2-6d39-4919-b117-2d72f8d53aba",
   "metadata": {},
   "outputs": [],
   "source": [
    "# Why do you think python uses <= instead of =<, just difference in order right"
   ]
  },
  {
   "cell_type": "code",
   "execution_count": null,
   "id": "ceee0596-907a-4351-aeb4-d489a125f1cf",
   "metadata": {},
   "outputs": [],
   "source": []
  },
  {
   "cell_type": "markdown",
   "id": "26ae2456-cc23-4995-a2d6-2764da9ae8e2",
   "metadata": {},
   "source": [
    "## Membership Operators\n",
    "* Change something to return `True`"
   ]
  },
  {
   "cell_type": "code",
   "execution_count": 14,
   "id": "a2ab4d42-a8d7-414b-bf66-dc5f1747db37",
   "metadata": {},
   "outputs": [
    {
     "data": {
      "text/plain": [
       "False"
      ]
     },
     "execution_count": 14,
     "metadata": {},
     "output_type": "execute_result"
    }
   ],
   "source": [
    "x in [1, 2, 5]"
   ]
  },
  {
   "cell_type": "markdown",
   "id": "abb57b79-b2d3-47b9-b34b-944ad1310ffd",
   "metadata": {},
   "source": [
    "**Note:**\n",
    "\n",
    "We skipped Bitwise Operators and Identity operators."
   ]
  },
  {
   "cell_type": "markdown",
   "id": "c6213347-4c1c-4c82-af92-1913a64c97cf",
   "metadata": {},
   "source": [
    "---\n",
    "# Section X: Conditionals\n",
    "\n",
    "*Time estimate: ~15mins*\n",
    "\n",
    "* You have already seen them yesterday: `if dt.datetime.now() == lunchTime:`\n",
    "\n",
    "![](static/conditionals.png)"
   ]
  },
  {
   "cell_type": "code",
   "execution_count": 47,
   "id": "12fd3009-c2ea-4078-9c43-4a3e3ee859b5",
   "metadata": {},
   "outputs": [],
   "source": [
    "# something\n"
   ]
  },
  {
   "cell_type": "markdown",
   "id": "4fe6c220-b20d-4605-880c-507de7bc8398",
   "metadata": {},
   "source": [
    "## Exercise\n",
    "\n",
    "*Time estimate: ~10mins*"
   ]
  },
  {
   "cell_type": "code",
   "execution_count": null,
   "id": "e1543bbd-c884-4ba1-bf84-5164a01c6d89",
   "metadata": {},
   "outputs": [],
   "source": []
  }
 ],
 "metadata": {
  "kernelspec": {
   "display_name": "py2024course",
   "language": "python",
   "name": "py2024course"
  },
  "language_info": {
   "codemirror_mode": {
    "name": "ipython",
    "version": 3
   },
   "file_extension": ".py",
   "mimetype": "text/x-python",
   "name": "python",
   "nbconvert_exporter": "python",
   "pygments_lexer": "ipython3",
   "version": "3.11.5"
  }
 },
 "nbformat": 4,
 "nbformat_minor": 5
}
