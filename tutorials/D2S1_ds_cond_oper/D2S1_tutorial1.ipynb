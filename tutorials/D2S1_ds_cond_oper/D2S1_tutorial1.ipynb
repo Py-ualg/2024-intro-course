{
  "cells": [
    {
      "cell_type": "markdown",
      "id": "0818d14b-fe01-4e69-93a7-85039e8b6c8e",
      "metadata": {
        "id": "0818d14b-fe01-4e69-93a7-85039e8b6c8e"
      },
      "source": [
        "\n",
        "# Tutorial 1: data structures, conditionals, operators.\n",
        "**Day 2, session 1:**\n",
        "\n",
        "__Content creators:__ David Palecek, Paulo Martel"
      ]
    },
    {
      "cell_type": "markdown",
      "id": "fbcbe5b2-5f94-47e7-9951-a32b1fefee60",
      "metadata": {
        "id": "fbcbe5b2-5f94-47e7-9951-a32b1fefee60"
      },
      "source": [
        "---\n",
        "# Tutorial Objectives\n",
        "\n",
        "* DS\n",
        "* More operators\n",
        "* Conditionals"
      ]
    },
    {
      "cell_type": "markdown",
      "id": "af71f10f-eb8c-41dd-a438-2c3366073ced",
      "metadata": {
        "id": "af71f10f-eb8c-41dd-a438-2c3366073ced"
      },
      "source": [
        "---\n",
        "# Setup"
      ]
    },
    {
      "cell_type": "code",
      "execution_count": null,
      "id": "89d07d74-8229-4699-8813-14620e4b342b",
      "metadata": {
        "id": "89d07d74-8229-4699-8813-14620e4b342b",
        "cellView": "form"
      },
      "outputs": [],
      "source": [
        "# @title Helper Functions\n",
        "\n",
        "def checkMutable(answer):\n",
        "    assert answer['immutable'].lower() == 'tuple', f\"Got: {answer['immutable'].lower()} \\n Expected 'tuple')\"\n",
        "    assert answer['mutable'].lower() == 'list', f\"Got: {answer['mutable'].lower()} \\n Expected 'list')\"\n",
        "    print(\"All correct\")\n",
        "\n",
        "def checkComparison(answer):\n",
        "    assert answer['greater than'] == '>'\n",
        "    assert answer['equal'] == '=='\n",
        "    assert answer['less or equal than'] == '<='\n",
        "    print('All correct')\n",
        "\n",
        "def checkLogic(answer):\n",
        "    assert answer['(1 <= 1) and (1 != 1)'] is False\n",
        "    assert answer['not (1 != 2)'] is False\n",
        "    assert answer['(\"good\" != \"bad\") or False'] is True\n",
        "    assert answer['(\"good\" != \"Good\") and not (1 == 1)'] is False\n",
        "    print('All correct')"
      ]
    },
    {
      "cell_type": "markdown",
      "id": "15387936-ef94-4cad-ae68-8166e6696e89",
      "metadata": {
        "id": "15387936-ef94-4cad-ae68-8166e6696e89"
      },
      "source": [
        "# Section 1: Data structures\n",
        "\n",
        "*Time estimate: ~30mins*\n",
        "\n",
        "* list (basics yesterday)\n",
        "* tuple\n",
        "* set\n",
        "* dictionary"
      ]
    },
    {
      "cell_type": "markdown",
      "source": [
        "## Nested lists"
      ],
      "metadata": {
        "id": "AcZBEcpM8Es9"
      },
      "id": "AcZBEcpM8Es9"
    },
    {
      "cell_type": "code",
      "source": [
        "# lists can contain lists and can be thought of as a grid (2D arrays)\n",
        "lst = [[1,2,3], [4, 5, 6], [7, 8, 9]]\n",
        "len(lst), len(lst[0])"
      ],
      "metadata": {
        "id": "o0kFVVae8Bhf"
      },
      "id": "o0kFVVae8Bhf",
      "execution_count": null,
      "outputs": []
    },
    {
      "cell_type": "code",
      "source": [
        "lst[::-2]"
      ],
      "metadata": {
        "id": "coxvZQ4db-Sl"
      },
      "id": "coxvZQ4db-Sl",
      "execution_count": null,
      "outputs": []
    },
    {
      "cell_type": "code",
      "source": [
        "lst = [1, 2, 3, 4, 5, 6, 7, 8]\n",
        "print(lst[:2:-2])"
      ],
      "metadata": {
        "id": "Pfkxjbf8cULW"
      },
      "id": "Pfkxjbf8cULW",
      "execution_count": null,
      "outputs": []
    },
    {
      "cell_type": "markdown",
      "id": "04bcf663-fe73-4ef1-b930-25154818ff9d",
      "metadata": {
        "id": "04bcf663-fe73-4ef1-b930-25154818ff9d"
      },
      "source": [
        "## Tuples"
      ]
    },
    {
      "cell_type": "code",
      "execution_count": null,
      "id": "01322761-0603-49a7-bb8d-ee60ecec428f",
      "metadata": {
        "id": "01322761-0603-49a7-bb8d-ee60ecec428f"
      },
      "outputs": [],
      "source": [
        "# Creating a tuple\n",
        "my_tuple = (1, 2, 3, 'hello', True)\n",
        "\n",
        "# Accessing elements of a tuple\n",
        "print(my_tuple[0])  # Output: 1\n",
        "print(my_tuple[3])  # Output: 'hello'"
      ]
    },
    {
      "cell_type": "markdown",
      "id": "799436ad-90da-4381-9f37-f4d0fcb567f3",
      "metadata": {
        "id": "799436ad-90da-4381-9f37-f4d0fcb567f3"
      },
      "source": [
        "**Tuples are ordered, you can access elements by index**"
      ]
    },
    {
      "cell_type": "markdown",
      "id": "db7d41c5-1532-4425-95ba-bd3c7bf48b0b",
      "metadata": {
        "id": "db7d41c5-1532-4425-95ba-bd3c7bf48b0b"
      },
      "source": [
        "## difference between tuple and list?\n",
        "* mutable vs immutable"
      ]
    },
    {
      "cell_type": "code",
      "execution_count": null,
      "id": "6aacf534-4c2b-4ba6-9997-686843e0fe49",
      "metadata": {
        "id": "6aacf534-4c2b-4ba6-9997-686843e0fe49"
      },
      "outputs": [],
      "source": [
        "lst = [1, 2, 5.0]\n",
        "lst[0] = 'apple'\n",
        "print(lst)"
      ]
    },
    {
      "cell_type": "code",
      "execution_count": null,
      "id": "37ce6733-f9e4-492a-ada8-10ae47779c55",
      "metadata": {
        "id": "37ce6733-f9e4-492a-ada8-10ae47779c55"
      },
      "outputs": [],
      "source": [
        "tup = (1, 2, 5.0)\n",
        "tup[0] = 'apple'\n",
        "print(tup)"
      ]
    },
    {
      "cell_type": "code",
      "execution_count": null,
      "id": "1f914742-a1c5-4c3f-841d-6b4e8e9a0c5f",
      "metadata": {
        "id": "1f914742-a1c5-4c3f-841d-6b4e8e9a0c5f"
      },
      "outputs": [],
      "source": [
        "### answer which structure is mutable and which is immutable\n",
        "\n",
        "answer = {\n",
        "    'immutable': 'tuple',\n",
        "    'mutable': 'list'\n",
        "}\n",
        "\n",
        "# uncomment to check your answer\n",
        "checkMutable(answer)"
      ]
    },
    {
      "cell_type": "markdown",
      "id": "80249698-a4a8-4080-b9b8-b959457412f1",
      "metadata": {
        "id": "80249698-a4a8-4080-b9b8-b959457412f1"
      },
      "source": [
        "**Overall**:\n",
        "* Tuples are ordered and immutable\n",
        "* Lists are ordered and mutable"
      ]
    },
    {
      "cell_type": "markdown",
      "source": [
        "## Set"
      ],
      "metadata": {
        "id": "wO5zaInB8Sil"
      },
      "id": "wO5zaInB8Sil"
    },
    {
      "cell_type": "code",
      "source": [
        "# empty set\n",
        "myset = set()\n",
        "type(myset)"
      ],
      "metadata": {
        "id": "iN6LXHhQ8Vft"
      },
      "id": "iN6LXHhQ8Vft",
      "execution_count": null,
      "outputs": []
    },
    {
      "cell_type": "code",
      "source": [
        "# set is UN-ordered, IM-mutable, cannot contain duplicates (as in math) -> easiest way to remove duplicated from any DS\n",
        "myset = {1, 2, 3, 3, 4}  # now I can use curly brackets.\n",
        "myset, type(myset)"
      ],
      "metadata": {
        "id": "2OMjgztb8j3P"
      },
      "id": "2OMjgztb8j3P",
      "execution_count": null,
      "outputs": []
    },
    {
      "cell_type": "code",
      "source": [
        "A = {1, 2, 3, 3, 4}\n",
        "B = {4, 5, 6, 7}\n",
        "# test what add(), difference(), difference_update(), discard(), intersection()\n",
        "# issubset() issuperset() pop() remove() union()"
      ],
      "metadata": {
        "id": "CKYu-zsq9tY0"
      },
      "id": "CKYu-zsq9tY0",
      "execution_count": null,
      "outputs": []
    },
    {
      "cell_type": "code",
      "source": [],
      "metadata": {
        "id": "dakqAZO8XX70"
      },
      "id": "dakqAZO8XX70",
      "execution_count": null,
      "outputs": []
    },
    {
      "cell_type": "markdown",
      "source": [
        "**Exercise:** write a code that counts the number of unique elements in a list *and* creates a new list contaning only the unique elements."
      ],
      "metadata": {
        "id": "UVEehMNtW0P6"
      },
      "id": "UVEehMNtW0P6"
    },
    {
      "cell_type": "code",
      "source": [
        "#@title ###### Answer\n",
        "my_list = [1,2,4,3,2,5,7,7,8,9,4]\n",
        "my_list = list(set(my_list))\n",
        "my_list, len(my_list)"
      ],
      "metadata": {
        "cellView": "form",
        "id": "ejbNI3r-W9K2"
      },
      "id": "ejbNI3r-W9K2",
      "execution_count": null,
      "outputs": []
    },
    {
      "cell_type": "markdown",
      "id": "099f979d-896c-40c2-8fd9-339ab7f5c360",
      "metadata": {
        "id": "099f979d-896c-40c2-8fd9-339ab7f5c360"
      },
      "source": [
        "## Dictionary"
      ]
    },
    {
      "cell_type": "code",
      "execution_count": null,
      "id": "acec6bc1-016c-45ba-8ec8-d0a776fb6c0c",
      "metadata": {
        "id": "acec6bc1-016c-45ba-8ec8-d0a776fb6c0c"
      },
      "outputs": [],
      "source": [
        "d = {'apple': 10, 'banana':2}"
      ]
    },
    {
      "cell_type": "code",
      "execution_count": null,
      "id": "023e7bea-3118-45ac-9fd1-23c966c21ed8",
      "metadata": {
        "id": "023e7bea-3118-45ac-9fd1-23c966c21ed8"
      },
      "outputs": [],
      "source": [
        "d['apple']"
      ]
    },
    {
      "cell_type": "code",
      "execution_count": null,
      "id": "217b1478-e44a-45c6-8f29-e84cddedde82",
      "metadata": {
        "id": "217b1478-e44a-45c6-8f29-e84cddedde82"
      },
      "outputs": [],
      "source": [
        "d[0]"
      ]
    },
    {
      "cell_type": "markdown",
      "id": "f2c661d3-02dd-41ab-bad4-e659f5400229",
      "metadata": {
        "id": "f2c661d3-02dd-41ab-bad4-e659f5400229"
      },
      "source": [
        "This means dictionaries are *ordered* or *unordered*?"
      ]
    },
    {
      "cell_type": "code",
      "execution_count": null,
      "id": "3828567a-8222-43ab-b8cd-0ee07a96c069",
      "metadata": {
        "id": "3828567a-8222-43ab-b8cd-0ee07a96c069"
      },
      "outputs": [],
      "source": [
        "d[0] = 50"
      ]
    },
    {
      "cell_type": "markdown",
      "id": "13769ae3-a2cd-4fdc-b62b-1e446466eb0a",
      "metadata": {
        "id": "13769ae3-a2cd-4fdc-b62b-1e446466eb0a"
      },
      "source": [
        "What do you expect from d now?"
      ]
    },
    {
      "cell_type": "code",
      "execution_count": null,
      "id": "db533685-7808-4e88-8c68-e125b63c0291",
      "metadata": {
        "id": "db533685-7808-4e88-8c68-e125b63c0291"
      },
      "outputs": [],
      "source": [
        "d"
      ]
    },
    {
      "cell_type": "markdown",
      "id": "cd715f99-2f81-4936-9c7c-fc55628b6f56",
      "metadata": {
        "id": "cd715f99-2f81-4936-9c7c-fc55628b6f56"
      },
      "source": [
        "Dictionaries are *mutable* or *immutable*?"
      ]
    },
    {
      "cell_type": "markdown",
      "id": "4540b337-8a7f-4fed-a3a9-89f023057fad",
      "metadata": {
        "id": "4540b337-8a7f-4fed-a3a9-89f023057fad"
      },
      "source": [
        "# Section 2: Operators\n",
        "## Assignment Operators"
      ]
    },
    {
      "cell_type": "code",
      "execution_count": null,
      "id": "80e8e339-f246-4171-8e7a-a5dc586c6652",
      "metadata": {
        "id": "80e8e339-f246-4171-8e7a-a5dc586c6652"
      },
      "outputs": [],
      "source": [
        "x = 5\n",
        "print(x)\n",
        "x += 3\n",
        "print(x)"
      ]
    },
    {
      "cell_type": "markdown",
      "id": "f7549427-7fcb-474d-ab76-5e37fa648c14",
      "metadata": {
        "id": "f7549427-7fcb-474d-ab76-5e37fa648c14"
      },
      "source": [
        "## Comparison Operators"
      ]
    },
    {
      "cell_type": "code",
      "execution_count": null,
      "id": "6ce03d21-680e-456d-80a3-9b26ab0af9c9",
      "metadata": {
        "id": "6ce03d21-680e-456d-80a3-9b26ab0af9c9"
      },
      "outputs": [],
      "source": [
        "5 != 0"
      ]
    },
    {
      "cell_type": "markdown",
      "id": "3c61b2b3-6774-490a-9b75-7089ad4e5966",
      "metadata": {
        "id": "3c61b2b3-6774-490a-9b75-7089ad4e5966"
      },
      "source": [
        "## Logical Operators"
      ]
    },
    {
      "cell_type": "code",
      "execution_count": null,
      "id": "e9334917-237e-4dc1-9c16-7956ced68545",
      "metadata": {
        "id": "e9334917-237e-4dc1-9c16-7956ced68545"
      },
      "outputs": [],
      "source": [
        "x < 5 and  x < 10"
      ]
    },
    {
      "cell_type": "code",
      "execution_count": null,
      "id": "b7f02b75-4eb5-40b9-9c53-49f875a5688b",
      "metadata": {
        "id": "b7f02b75-4eb5-40b9-9c53-49f875a5688b"
      },
      "outputs": [],
      "source": [
        "x < 5 or  x < 10"
      ]
    },
    {
      "cell_type": "markdown",
      "id": "942301a8-5532-4a7b-b0a6-2f606db73e1d",
      "metadata": {
        "id": "942301a8-5532-4a7b-b0a6-2f606db73e1d"
      },
      "source": [
        "## Exercise"
      ]
    },
    {
      "cell_type": "code",
      "execution_count": null,
      "id": "95f4fd65-6a0e-417d-a923-dd5f2d266536",
      "metadata": {
        "id": "95f4fd65-6a0e-417d-a923-dd5f2d266536"
      },
      "outputs": [],
      "source": [
        "answer = {\n",
        "    'greater than': '',\n",
        "    'equal': '',\n",
        "    'less or equal than': ''\n",
        "}\n",
        "\n",
        "# uncomment to check your answers\n",
        "# checkComparison(answer)"
      ]
    },
    {
      "cell_type": "code",
      "execution_count": null,
      "id": "69248f93-7806-4876-915e-66c016bce15c",
      "metadata": {
        "id": "69248f93-7806-4876-915e-66c016bce15c"
      },
      "outputs": [],
      "source": [
        "# Please explain difference between = and =="
      ]
    },
    {
      "cell_type": "code",
      "execution_count": null,
      "id": "5a2d73f2-6d39-4919-b117-2d72f8d53aba",
      "metadata": {
        "id": "5a2d73f2-6d39-4919-b117-2d72f8d53aba"
      },
      "outputs": [],
      "source": [
        "# Why do you think python uses <= instead of =<, just difference in order right"
      ]
    },
    {
      "cell_type": "code",
      "execution_count": null,
      "id": "ceee0596-907a-4351-aeb4-d489a125f1cf",
      "metadata": {
        "id": "ceee0596-907a-4351-aeb4-d489a125f1cf"
      },
      "outputs": [],
      "source": [
        "# answer if the following statements are True or False\n",
        "# reference: https://realpython.com/lessons/add-logic-exercise/\n",
        "answer ={\n",
        "  '(1 <= 1) and (1 != 1)': None,\n",
        "  'not (1 != 2)': None,\n",
        "  '(\"good\" != \"bad\") or False': None,\n",
        "  '(\"good\" != \"Good\") and not (1 == 1)': None,\n",
        "  }\n",
        "\n",
        "# uncomment to check your answer\n",
        "# checkLogic(answer)"
      ]
    },
    {
      "cell_type": "markdown",
      "source": [
        "**Exercise:** The weather is bad and I need to know if I am prepared for it. We need to calculat a Boolean value for a variable named `prepared_for_weather`, indicating where I am ready (`True`) or not read (`False`). I know that I am ready if:\n",
        "\n",
        "*   I have an umbrella\n",
        "*   or the rain isn't too heavy and I have a hood\n",
        "*   otherwise, I'm still fine *unless* it is raining *and* it is a work day\n",
        "\n",
        "Define a boolean variables named `have_umbrella`, `have_hood` and `is_workday`; define variable `rain_level` such that `rain_level < 5` indicating light rain. Use these variables in a an expression that returns the correct logical value for `prepared_for_weater`considering the coditions stated above."
      ],
      "metadata": {
        "id": "TZhYJ_5dYRdH"
      },
      "id": "TZhYJ_5dYRdH"
    },
    {
      "cell_type": "code",
      "source": [
        "#@title ##### Answer\n",
        "have_umbrella = False\n",
        "have_hood = True\n",
        "rain_level = 10\n",
        "is_workday = True\n",
        "prepared_for_weather = have_umbrella or (rain_level < 5 and have_hood) or not (rain_level > 0 and is_workday)\n",
        "prepared_for_weather"
      ],
      "metadata": {
        "cellView": "form",
        "id": "DnQwwYTsbfU3"
      },
      "id": "DnQwwYTsbfU3",
      "execution_count": null,
      "outputs": []
    },
    {
      "cell_type": "markdown",
      "id": "26ae2456-cc23-4995-a2d6-2764da9ae8e2",
      "metadata": {
        "id": "26ae2456-cc23-4995-a2d6-2764da9ae8e2"
      },
      "source": [
        "## Membership Operators\n",
        "* Change something to return `True`"
      ]
    },
    {
      "cell_type": "code",
      "execution_count": null,
      "id": "a2ab4d42-a8d7-414b-bf66-dc5f1747db37",
      "metadata": {
        "id": "a2ab4d42-a8d7-414b-bf66-dc5f1747db37"
      },
      "outputs": [],
      "source": [
        "x in [1, 2, 5]"
      ]
    },
    {
      "cell_type": "markdown",
      "id": "abb57b79-b2d3-47b9-b34b-944ad1310ffd",
      "metadata": {
        "id": "abb57b79-b2d3-47b9-b34b-944ad1310ffd"
      },
      "source": [
        "**Note:**\n",
        "\n",
        "We skipped Bitwise Operators and Identity operators."
      ]
    },
    {
      "cell_type": "markdown",
      "id": "c6213347-4c1c-4c82-af92-1913a64c97cf",
      "metadata": {
        "id": "c6213347-4c1c-4c82-af92-1913a64c97cf"
      },
      "source": [
        "---\n",
        "# Section 3: Conditionals\n",
        "\n",
        "*Time estimate: ~15mins*\n",
        "\n",
        "* You have already seen them yesterday: `if dt.datetime.now() == lunchTime:`\n",
        "\n",
        "![](https://github.com/Py-ualg/2024-intro-course/blob/main/tutorials/D2S1_ds_cond_oper/static/conditionals.png?raw=1)"
      ]
    },
    {
      "cell_type": "code",
      "execution_count": null,
      "id": "12fd3009-c2ea-4078-9c43-4a3e3ee859b5",
      "metadata": {
        "id": "12fd3009-c2ea-4078-9c43-4a3e3ee859b5"
      },
      "outputs": [],
      "source": [
        "# The following three cells are identical\n",
        "x = True  #\n",
        "if x == True:\n",
        "  print('bingo')"
      ]
    },
    {
      "cell_type": "code",
      "source": [
        "if x is True:\n",
        "  print('bingo')"
      ],
      "metadata": {
        "id": "exZ5C-eVAMOq"
      },
      "id": "exZ5C-eVAMOq",
      "execution_count": null,
      "outputs": []
    },
    {
      "cell_type": "code",
      "source": [
        "if x:\n",
        "  print('bingo')"
      ],
      "metadata": {
        "id": "fdxKCrRCAQs-"
      },
      "id": "fdxKCrRCAQs-",
      "execution_count": null,
      "outputs": []
    },
    {
      "cell_type": "markdown",
      "source": [
        "* Try the above with x=1 and x=2. Explain.\n",
        "* boolean, None should be compared with `is`,numerical values with `==`"
      ],
      "metadata": {
        "id": "QHvbzuKEAYur"
      },
      "id": "QHvbzuKEAYur"
    },
    {
      "cell_type": "code",
      "source": [
        "# What if we do all of them together. What is the flow in this case\n",
        "# try again with x = 1 and 2\n",
        "\n",
        "x = True\n",
        "if x == True:\n",
        "  print('bingo 0')\n",
        "elif x is True:\n",
        "  print('bingo 1')\n",
        "elif x:\n",
        "  print('bingo 2')\n",
        "else:\n",
        "  print('bingoless')"
      ],
      "metadata": {
        "id": "jZvY2in1AXZ9"
      },
      "id": "jZvY2in1AXZ9",
      "execution_count": null,
      "outputs": []
    },
    {
      "cell_type": "markdown",
      "source": [
        "**The lesson here is**, that once a condition evaluates to `True`, the statement block is evaluated, conditional is exited and NONE of the subsequent conditions are checked"
      ],
      "metadata": {
        "id": "l2oz--4RO9fn"
      },
      "id": "l2oz--4RO9fn"
    },
    {
      "cell_type": "markdown",
      "id": "4fe6c220-b20d-4605-880c-507de7bc8398",
      "metadata": {
        "id": "4fe6c220-b20d-4605-880c-507de7bc8398"
      },
      "source": [
        "---\n",
        "## Exercise\n",
        "\n",
        "*Time estimate: ~10mins*\n",
        "\n",
        "Below you have three lists of monthly temperatures.\n",
        "1. Find mean temperature of each location.\n",
        "2. Practice conditionals to print out three lines of \"location: mean temperature\" in ascending order\n",
        "3. Congrats, you have developed your own algorithm for sorting 3 values. Can you draft how to scale your solution to N values?"
      ]
    },
    {
      "cell_type": "code",
      "execution_count": null,
      "id": "e1543bbd-c884-4ba1-bf84-5164a01c6d89",
      "metadata": {
        "id": "e1543bbd-c884-4ba1-bf84-5164a01c6d89"
      },
      "outputs": [],
      "source": [
        "temps_madeira = [\n",
        "    16.5, 16.4, 16.7, 17.1, 18.2, 20.1, 22.3, 23.7, 23.8, 22.2, 19.8, 17.9\n",
        "]\n",
        "\n",
        "temps_portugal = [\n",
        "    12.1, 12.5, 14.2, 15.9, 18.3, 21.1, 23.6, 24.2, 22.5, 19.4, 15.6, 13.2\n",
        "]\n",
        "\n",
        "temps_azores = [\n",
        "    14.2, 14.1, 14.2, 14.6, 16.1, 18.1, 20.1, 21.4, 21.5, 19.8, 17.6, 15.6\n",
        "]"
      ]
    },
    {
      "cell_type": "markdown",
      "source": [
        "---\n",
        "# Feedback\n",
        "* Please help us learn too.\n",
        "* [feedback form](https://forms.gle/C7DMWorpA2xVoj6T9)"
      ],
      "metadata": {
        "id": "q8M8_4zMfrSJ"
      },
      "id": "q8M8_4zMfrSJ"
    },
    {
      "cell_type": "code",
      "source": [],
      "metadata": {
        "id": "jhZZzW_yf2sR"
      },
      "id": "jhZZzW_yf2sR",
      "execution_count": null,
      "outputs": []
    }
  ],
  "metadata": {
    "kernelspec": {
      "display_name": "py2024course",
      "language": "python",
      "name": "py2024course"
    },
    "language_info": {
      "codemirror_mode": {
        "name": "ipython",
        "version": 3
      },
      "file_extension": ".py",
      "mimetype": "text/x-python",
      "name": "python",
      "nbconvert_exporter": "python",
      "pygments_lexer": "ipython3",
      "version": "3.11.5"
    },
    "colab": {
      "provenance": [],
      "toc_visible": true
    }
  },
  "nbformat": 4,
  "nbformat_minor": 5
}