{
 "cells": [
  {
   "cell_type": "markdown",
   "id": "0818d14b-fe01-4e69-93a7-85039e8b6c8e",
   "metadata": {
    "id": "0818d14b-fe01-4e69-93a7-85039e8b6c8e"
   },
   "source": [
    "\n",
    "# Tutorial 1: data structures, conditionals, operators.\n",
    "**Day 2, session 1:**\n",
    "\n",
    "__Content creators:__ David Palecek, Paulo Martel"
   ]
  },
  {
   "cell_type": "markdown",
   "id": "fbcbe5b2-5f94-47e7-9951-a32b1fefee60",
   "metadata": {
    "id": "fbcbe5b2-5f94-47e7-9951-a32b1fefee60"
   },
   "source": [
    "---\n",
    "# Tutorial Objectives\n",
    "\n",
    "* DS\n",
    "* More operators\n",
    "* Conditionals"
   ]
  },
  {
   "cell_type": "markdown",
   "id": "af71f10f-eb8c-41dd-a438-2c3366073ced",
   "metadata": {
    "id": "af71f10f-eb8c-41dd-a438-2c3366073ced"
   },
   "source": [
    "---\n",
    "# Setup"
   ]
  },
  {
   "cell_type": "code",
   "execution_count": null,
   "id": "89d07d74-8229-4699-8813-14620e4b342b",
   "metadata": {
    "cellView": "form",
    "id": "89d07d74-8229-4699-8813-14620e4b342b"
   },
   "outputs": [],
   "source": [
    "# @title Helper Functions\n",
    "\n",
    "def checkMutable(answer):\n",
    "    assert answer['immutable'].lower() == 'tuple', f\"Got: {answer['immutable'].lower()} \\n Expected 'tuple')\"\n",
    "    assert answer['mutable'].lower() == 'list', f\"Got: {answer['mutable'].lower()} \\n Expected 'list')\"\n",
    "    print(\"All correct\")\n",
    "\n",
    "def checkComparison(answer):\n",
    "    assert answer['greater than'] == '>'\n",
    "    assert answer['equal'] == '=='\n",
    "    assert answer['less or equal than'] == '<='\n",
    "    print('All correct')\n",
    "\n",
    "def checkLogic(answer):\n",
    "    assert answer['(1 <= 1) and (1 != 1)'] is False\n",
    "    assert answer['not (1 != 2)'] is False\n",
    "    assert answer['(\"good\" != \"bad\") or False'] is True\n",
    "    assert answer['(\"good\" != \"Good\") and not (1 == 1)'] is False\n",
    "    print('All correct')"
   ]
  },
  {
   "cell_type": "markdown",
   "id": "15387936-ef94-4cad-ae68-8166e6696e89",
   "metadata": {
    "id": "15387936-ef94-4cad-ae68-8166e6696e89"
   },
   "source": [
    "# Section 1: Data structures\n",
    "\n",
    "*Time estimate: ~30mins*\n",
    "\n",
    "* list (previous tutorial)\n",
    "* tuple\n",
    "* set\n",
    "* dictionary"
   ]
  },
  {
   "cell_type": "markdown",
   "id": "04bcf663-fe73-4ef1-b930-25154818ff9d",
   "metadata": {
    "id": "04bcf663-fe73-4ef1-b930-25154818ff9d"
   },
   "source": [
    "## Tuples"
   ]
  },
  {
   "cell_type": "code",
   "execution_count": null,
   "id": "01322761-0603-49a7-bb8d-ee60ecec428f",
   "metadata": {
    "id": "01322761-0603-49a7-bb8d-ee60ecec428f"
   },
   "outputs": [],
   "source": [
    "# Creating a tuple\n",
    "my_tuple = (1, 2, 3, 'hello', True)\n",
    "\n",
    "# Accessing elements of a tuple\n",
    "print(my_tuple[0])  # Output: 1\n",
    "print(my_tuple[3])  # Output: 'hello'"
   ]
  },
  {
   "cell_type": "markdown",
   "id": "799436ad-90da-4381-9f37-f4d0fcb567f3",
   "metadata": {
    "id": "799436ad-90da-4381-9f37-f4d0fcb567f3"
   },
   "source": [
    "**Tuples are ordered, you can access elements by index**"
   ]
  },
  {
   "cell_type": "markdown",
   "id": "db7d41c5-1532-4425-95ba-bd3c7bf48b0b",
   "metadata": {
    "id": "db7d41c5-1532-4425-95ba-bd3c7bf48b0b"
   },
   "source": [
    "## difference between tuple and list?\n",
    "* mutable vs immutable"
   ]
  },
  {
   "cell_type": "code",
   "execution_count": null,
   "id": "6aacf534-4c2b-4ba6-9997-686843e0fe49",
   "metadata": {
    "id": "6aacf534-4c2b-4ba6-9997-686843e0fe49"
   },
   "outputs": [],
   "source": [
    "lst = [1, 2, 5.0]\n",
    "lst[0] = 'apple'\n",
    "print(lst)"
   ]
  },
  {
   "cell_type": "code",
   "execution_count": null,
   "id": "37ce6733-f9e4-492a-ada8-10ae47779c55",
   "metadata": {
    "id": "37ce6733-f9e4-492a-ada8-10ae47779c55"
   },
   "outputs": [],
   "source": [
    "tup = (1, 2, 5.0)\n",
    "tup[0] = 'apple'\n",
    "print(tup)"
   ]
  },
  {
   "cell_type": "code",
   "execution_count": 10,
   "id": "1f914742-a1c5-4c3f-841d-6b4e8e9a0c5f",
   "metadata": {
    "id": "1f914742-a1c5-4c3f-841d-6b4e8e9a0c5f"
   },
   "outputs": [],
   "source": [
    "# @title answer which structure is mutable and which is immutable\n",
    "\n",
    "answer = {\n",
    "    'immutable': '',\n",
    "    'mutable': ''\n",
    "}\n",
    "\n",
    "# uncomment to check your answer\n",
    "# checkMutable(answer)"
   ]
  },
  {
   "cell_type": "markdown",
   "id": "80249698-a4a8-4080-b9b8-b959457412f1",
   "metadata": {
    "id": "80249698-a4a8-4080-b9b8-b959457412f1"
   },
   "source": [
    "**Overall**:\n",
    "* Tuples are ordered and immutable: if a sequence should not change during your script/NB, use tuple\n",
    "    * prevents, appending elements, changing elements -> protecting your data \n",
    "* Lists are ordered and mutable"
   ]
  },
  {
   "cell_type": "markdown",
   "id": "wO5zaInB8Sil",
   "metadata": {
    "id": "wO5zaInB8Sil"
   },
   "source": [
    "## Set"
   ]
  },
  {
   "cell_type": "code",
   "execution_count": 11,
   "id": "iN6LXHhQ8Vft",
   "metadata": {
    "id": "iN6LXHhQ8Vft"
   },
   "outputs": [
    {
     "data": {
      "text/plain": [
       "set"
      ]
     },
     "execution_count": 11,
     "metadata": {},
     "output_type": "execute_result"
    }
   ],
   "source": [
    "# empty set\n",
    "myset = set()\n",
    "type(myset)"
   ]
  },
  {
   "cell_type": "code",
   "execution_count": 12,
   "id": "2OMjgztb8j3P",
   "metadata": {
    "id": "2OMjgztb8j3P"
   },
   "outputs": [
    {
     "data": {
      "text/plain": [
       "({1, 2, 3, 4}, set)"
      ]
     },
     "execution_count": 12,
     "metadata": {},
     "output_type": "execute_result"
    }
   ],
   "source": [
    "# set is UN-ordered, IM-mutable, cannot contain duplicates (as in math) -> easiest way to remove duplicated from any DS\n",
    "myset = {1, 2, 3, 3, 4}  # now I can use curly brackets.\n",
    "myset, type(myset)"
   ]
  },
  {
   "cell_type": "code",
   "execution_count": 13,
   "id": "CKYu-zsq9tY0",
   "metadata": {
    "id": "CKYu-zsq9tY0"
   },
   "outputs": [],
   "source": [
    "A = {1, 2, 3, 3, 4}\n",
    "B = {4, 5, 6, 7}\n",
    "# test what add(), difference(), difference_update(), discard(), intersection()\n",
    "# issubset() issuperset() pop() remove() union()"
   ]
  },
  {
   "cell_type": "code",
   "execution_count": null,
   "id": "dakqAZO8XX70",
   "metadata": {
    "id": "dakqAZO8XX70"
   },
   "outputs": [],
   "source": []
  },
  {
   "cell_type": "markdown",
   "id": "UVEehMNtW0P6",
   "metadata": {
    "id": "UVEehMNtW0P6"
   },
   "source": [
    "**Exercise:** write a code that counts the number of unique elements in a list *and* creates a new list contaning only the unique elements."
   ]
  },
  {
   "cell_type": "code",
   "execution_count": 14,
   "id": "ejbNI3r-W9K2",
   "metadata": {
    "cellView": "form",
    "id": "ejbNI3r-W9K2"
   },
   "outputs": [
    {
     "data": {
      "text/plain": [
       "([1, 2, 3, 4, 5, 7, 8, 9], 8)"
      ]
     },
     "execution_count": 14,
     "metadata": {},
     "output_type": "execute_result"
    }
   ],
   "source": [
    "#@title Answer\n",
    "my_list = [1,2,4,3,2,5,7,7,8,9,4]\n",
    "my_list = list(set(my_list))\n",
    "my_list, len(my_list)"
   ]
  },
  {
   "cell_type": "markdown",
   "id": "44aa4382-332e-45db-9cf6-d4cc7dd53076",
   "metadata": {},
   "source": [
    "### Think what you need to do if sets would not exist."
   ]
  },
  {
   "cell_type": "markdown",
   "id": "099f979d-896c-40c2-8fd9-339ab7f5c360",
   "metadata": {
    "id": "099f979d-896c-40c2-8fd9-339ab7f5c360"
   },
   "source": [
    "## Dictionary"
   ]
  },
  {
   "cell_type": "code",
   "execution_count": 15,
   "id": "acec6bc1-016c-45ba-8ec8-d0a776fb6c0c",
   "metadata": {
    "id": "acec6bc1-016c-45ba-8ec8-d0a776fb6c0c"
   },
   "outputs": [],
   "source": [
    "d = {'apple': 10, 'banana':2}"
   ]
  },
  {
   "cell_type": "code",
   "execution_count": 16,
   "id": "023e7bea-3118-45ac-9fd1-23c966c21ed8",
   "metadata": {
    "id": "023e7bea-3118-45ac-9fd1-23c966c21ed8"
   },
   "outputs": [
    {
     "data": {
      "text/plain": [
       "10"
      ]
     },
     "execution_count": 16,
     "metadata": {},
     "output_type": "execute_result"
    }
   ],
   "source": [
    "d['apple']"
   ]
  },
  {
   "cell_type": "code",
   "execution_count": 17,
   "id": "217b1478-e44a-45c6-8f29-e84cddedde82",
   "metadata": {
    "id": "217b1478-e44a-45c6-8f29-e84cddedde82"
   },
   "outputs": [
    {
     "ename": "KeyError",
     "evalue": "0",
     "output_type": "error",
     "traceback": [
      "\u001b[1;31m---------------------------------------------------------------------------\u001b[0m",
      "\u001b[1;31mKeyError\u001b[0m                                  Traceback (most recent call last)",
      "Cell \u001b[1;32mIn[17], line 1\u001b[0m\n\u001b[1;32m----> 1\u001b[0m \u001b[43md\u001b[49m\u001b[43m[\u001b[49m\u001b[38;5;241;43m0\u001b[39;49m\u001b[43m]\u001b[49m\n",
      "\u001b[1;31mKeyError\u001b[0m: 0"
     ]
    }
   ],
   "source": [
    "d[0]"
   ]
  },
  {
   "cell_type": "markdown",
   "id": "f2c661d3-02dd-41ab-bad4-e659f5400229",
   "metadata": {
    "id": "f2c661d3-02dd-41ab-bad4-e659f5400229"
   },
   "source": [
    "This means dictionaries are *ordered* or *unordered*?"
   ]
  },
  {
   "cell_type": "code",
   "execution_count": 18,
   "id": "3828567a-8222-43ab-b8cd-0ee07a96c069",
   "metadata": {
    "id": "3828567a-8222-43ab-b8cd-0ee07a96c069"
   },
   "outputs": [],
   "source": [
    "d[0] = 50"
   ]
  },
  {
   "cell_type": "markdown",
   "id": "13769ae3-a2cd-4fdc-b62b-1e446466eb0a",
   "metadata": {
    "id": "13769ae3-a2cd-4fdc-b62b-1e446466eb0a"
   },
   "source": [
    "What do you expect from d now?"
   ]
  },
  {
   "cell_type": "code",
   "execution_count": 19,
   "id": "db533685-7808-4e88-8c68-e125b63c0291",
   "metadata": {
    "id": "db533685-7808-4e88-8c68-e125b63c0291"
   },
   "outputs": [
    {
     "data": {
      "text/plain": [
       "{'apple': 10, 'banana': 2, 0: 50}"
      ]
     },
     "execution_count": 19,
     "metadata": {},
     "output_type": "execute_result"
    }
   ],
   "source": [
    "d"
   ]
  },
  {
   "cell_type": "code",
   "execution_count": 23,
   "id": "82e40243-fd85-4bb5-9ec0-2915baede571",
   "metadata": {},
   "outputs": [
    {
     "data": {
      "text/plain": [
       "dict_keys(['apple', 'banana', 0])"
      ]
     },
     "execution_count": 23,
     "metadata": {},
     "output_type": "execute_result"
    }
   ],
   "source": [
    "# access all keys\n",
    "d.keys()"
   ]
  },
  {
   "cell_type": "code",
   "execution_count": 24,
   "id": "d16b1daf-5883-4c54-bc81-956203c74d3c",
   "metadata": {},
   "outputs": [
    {
     "data": {
      "text/plain": [
       "dict_values([10, 2, 50])"
      ]
     },
     "execution_count": 24,
     "metadata": {},
     "output_type": "execute_result"
    }
   ],
   "source": [
    "# access values\n",
    "d.values()"
   ]
  },
  {
   "cell_type": "markdown",
   "id": "cd715f99-2f81-4936-9c7c-fc55628b6f56",
   "metadata": {
    "id": "cd715f99-2f81-4936-9c7c-fc55628b6f56"
   },
   "source": [
    "Dictionaries are *mutable* or *immutable*? Test it"
   ]
  },
  {
   "cell_type": "code",
   "execution_count": null,
   "id": "152b1b6b-bce7-431b-931e-a5f3b0ec7137",
   "metadata": {},
   "outputs": [],
   "source": []
  },
  {
   "cell_type": "markdown",
   "id": "4540b337-8a7f-4fed-a3a9-89f023057fad",
   "metadata": {
    "id": "4540b337-8a7f-4fed-a3a9-89f023057fad"
   },
   "source": [
    "# Section 2: Operators\n",
    "## Assignment Operators"
   ]
  },
  {
   "cell_type": "code",
   "execution_count": 33,
   "id": "80e8e339-f246-4171-8e7a-a5dc586c6652",
   "metadata": {
    "id": "80e8e339-f246-4171-8e7a-a5dc586c6652"
   },
   "outputs": [
    {
     "name": "stdout",
     "output_type": "stream",
     "text": [
      "5\n",
      "8\n"
     ]
    }
   ],
   "source": [
    "x = 5\n",
    "print(x)\n",
    "x += 3\n",
    "print(x)"
   ]
  },
  {
   "cell_type": "markdown",
   "id": "aa25f76f-3ba8-41f4-9dee-c737f0130375",
   "metadata": {},
   "source": [
    "/=,  *=,    -=,    %=,    //=,    also work"
   ]
  },
  {
   "cell_type": "code",
   "execution_count": 34,
   "id": "0dadeb39-adfd-4c7c-b718-66795023acf2",
   "metadata": {},
   "outputs": [],
   "source": [
    "x //= 3"
   ]
  },
  {
   "cell_type": "code",
   "execution_count": 35,
   "id": "5d251969-b22d-46d6-a800-cb1c34502c99",
   "metadata": {},
   "outputs": [
    {
     "data": {
      "text/plain": [
       "2"
      ]
     },
     "execution_count": 35,
     "metadata": {},
     "output_type": "execute_result"
    }
   ],
   "source": [
    "x"
   ]
  },
  {
   "cell_type": "markdown",
   "id": "f7549427-7fcb-474d-ab76-5e37fa648c14",
   "metadata": {
    "id": "f7549427-7fcb-474d-ab76-5e37fa648c14"
   },
   "source": [
    "## Comparison Operators"
   ]
  },
  {
   "cell_type": "code",
   "execution_count": 36,
   "id": "6ce03d21-680e-456d-80a3-9b26ab0af9c9",
   "metadata": {
    "id": "6ce03d21-680e-456d-80a3-9b26ab0af9c9"
   },
   "outputs": [
    {
     "data": {
      "text/plain": [
       "True"
      ]
     },
     "execution_count": 36,
     "metadata": {},
     "output_type": "execute_result"
    }
   ],
   "source": [
    "5 != 0"
   ]
  },
  {
   "cell_type": "markdown",
   "id": "3c61b2b3-6774-490a-9b75-7089ad4e5966",
   "metadata": {
    "id": "3c61b2b3-6774-490a-9b75-7089ad4e5966"
   },
   "source": [
    "## Logical Operators"
   ]
  },
  {
   "cell_type": "code",
   "execution_count": 37,
   "id": "e9334917-237e-4dc1-9c16-7956ced68545",
   "metadata": {
    "id": "e9334917-237e-4dc1-9c16-7956ced68545"
   },
   "outputs": [
    {
     "data": {
      "text/plain": [
       "True"
      ]
     },
     "execution_count": 37,
     "metadata": {},
     "output_type": "execute_result"
    }
   ],
   "source": [
    "x < 5 and  x < 10"
   ]
  },
  {
   "cell_type": "code",
   "execution_count": 38,
   "id": "b7f02b75-4eb5-40b9-9c53-49f875a5688b",
   "metadata": {
    "id": "b7f02b75-4eb5-40b9-9c53-49f875a5688b"
   },
   "outputs": [
    {
     "data": {
      "text/plain": [
       "True"
      ]
     },
     "execution_count": 38,
     "metadata": {},
     "output_type": "execute_result"
    }
   ],
   "source": [
    "x < 5 or  x < 10"
   ]
  },
  {
   "cell_type": "markdown",
   "id": "942301a8-5532-4a7b-b0a6-2f606db73e1d",
   "metadata": {
    "id": "942301a8-5532-4a7b-b0a6-2f606db73e1d"
   },
   "source": [
    "## Exercise"
   ]
  },
  {
   "cell_type": "code",
   "execution_count": null,
   "id": "95f4fd65-6a0e-417d-a923-dd5f2d266536",
   "metadata": {
    "id": "95f4fd65-6a0e-417d-a923-dd5f2d266536"
   },
   "outputs": [],
   "source": [
    "answer = {\n",
    "    'greater than': '',\n",
    "    'equal': '',\n",
    "    'less or equal than': ''\n",
    "}\n",
    "\n",
    "# uncomment to check your answers\n",
    "# checkComparison(answer)"
   ]
  },
  {
   "cell_type": "code",
   "execution_count": null,
   "id": "69248f93-7806-4876-915e-66c016bce15c",
   "metadata": {
    "id": "69248f93-7806-4876-915e-66c016bce15c"
   },
   "outputs": [],
   "source": [
    "# Please explain difference between = and =="
   ]
  },
  {
   "cell_type": "code",
   "execution_count": 39,
   "id": "5a2d73f2-6d39-4919-b117-2d72f8d53aba",
   "metadata": {
    "id": "5a2d73f2-6d39-4919-b117-2d72f8d53aba"
   },
   "outputs": [],
   "source": [
    "# Why do you think python uses <= instead of =<, just difference in order right"
   ]
  },
  {
   "cell_type": "markdown",
   "id": "14f04b96-7acb-46da-b3f0-1f8571b29492",
   "metadata": {},
   "source": [
    "## Answers\n",
    "\n",
    "* `=` assigns value to variable for reuse\n",
    "* `==` compares if two variables have same values\n",
    "* for `=<` python encounter `=` and expects either assignment or another `=` for comparison, `<` therefore breaks his brain"
   ]
  },
  {
   "cell_type": "code",
   "execution_count": null,
   "id": "ceee0596-907a-4351-aeb4-d489a125f1cf",
   "metadata": {
    "id": "ceee0596-907a-4351-aeb4-d489a125f1cf"
   },
   "outputs": [],
   "source": [
    "# answer if the following statements are True or False\n",
    "# reference: https://realpython.com/lessons/add-logic-exercise/\n",
    "answer ={\n",
    "  '(1 <= 1) and (1 != 1)': None,\n",
    "  'not (1 != 2)': None,\n",
    "  '(\"good\" != \"bad\") or False': None,\n",
    "  '(\"good\" != \"Good\") and not (1 == 1)': None,\n",
    "  }\n",
    "\n",
    "# uncomment to check your answer\n",
    "# checkLogic(answer)"
   ]
  },
  {
   "cell_type": "markdown",
   "id": "TZhYJ_5dYRdH",
   "metadata": {
    "id": "TZhYJ_5dYRdH"
   },
   "source": [
    "**Exercise:** The weather is bad and I need to know if I am prepared for it. We need to calculat a Boolean value for a variable named `prepared_for_weather`, indicating where I am ready (`True`) or not read (`False`). I know that I am ready if:\n",
    "\n",
    "*   I have an umbrella\n",
    "*   or the rain isn't too heavy and I have a hood\n",
    "*   otherwise, I'm still fine *unless* it is raining *and* it is a work day\n",
    "\n",
    "Define a boolean variables named `have_umbrella`, `have_hood` and `is_workday`; define variable `rain_level` such that `rain_level < 5` indicating light rain. Use these variables in a an expression that returns the correct logical value for `prepared_for_weater`considering the coditions stated above."
   ]
  },
  {
   "cell_type": "code",
   "execution_count": null,
   "id": "DnQwwYTsbfU3",
   "metadata": {
    "cellView": "form",
    "id": "DnQwwYTsbfU3"
   },
   "outputs": [],
   "source": [
    "#@title ##### Answer\n",
    "have_umbrella = False\n",
    "have_hood = True\n",
    "rain_level = 10\n",
    "is_workday = True\n",
    "prepared_for_weather = have_umbrella or (rain_level < 5 and have_hood) or not (rain_level > 0 and is_workday)\n",
    "prepared_for_weather"
   ]
  },
  {
   "cell_type": "markdown",
   "id": "26ae2456-cc23-4995-a2d6-2764da9ae8e2",
   "metadata": {
    "id": "26ae2456-cc23-4995-a2d6-2764da9ae8e2"
   },
   "source": [
    "## Membership Operators\n",
    "* Change something to return `True`"
   ]
  },
  {
   "cell_type": "code",
   "execution_count": null,
   "id": "a2ab4d42-a8d7-414b-bf66-dc5f1747db37",
   "metadata": {
    "id": "a2ab4d42-a8d7-414b-bf66-dc5f1747db37"
   },
   "outputs": [],
   "source": [
    "x in [1, 2, 5]"
   ]
  },
  {
   "cell_type": "markdown",
   "id": "abb57b79-b2d3-47b9-b34b-944ad1310ffd",
   "metadata": {
    "id": "abb57b79-b2d3-47b9-b34b-944ad1310ffd"
   },
   "source": [
    "**Note:**\n",
    "\n",
    "We skipped Bitwise Operators and Identity operators."
   ]
  },
  {
   "cell_type": "markdown",
   "id": "c6213347-4c1c-4c82-af92-1913a64c97cf",
   "metadata": {
    "id": "c6213347-4c1c-4c82-af92-1913a64c97cf"
   },
   "source": [
    "---\n",
    "# Section 3: Conditionals\n",
    "\n",
    "*Time estimate: ~15mins*\n",
    "\n",
    "* You have already seen them yesterday: `if dt.datetime.now() == lunchTime:`\n",
    "\n",
    "![](https://github.com/Py-ualg/2024-intro-course/blob/main/tutorials/D2S1_ds_cond_oper/static/conditionals.png?raw=1)"
   ]
  },
  {
   "cell_type": "code",
   "execution_count": null,
   "id": "12fd3009-c2ea-4078-9c43-4a3e3ee859b5",
   "metadata": {
    "id": "12fd3009-c2ea-4078-9c43-4a3e3ee859b5"
   },
   "outputs": [],
   "source": [
    "# The following three cells are identical\n",
    "x = True  #\n",
    "if x == True:\n",
    "  print('bingo')"
   ]
  },
  {
   "cell_type": "code",
   "execution_count": null,
   "id": "exZ5C-eVAMOq",
   "metadata": {
    "id": "exZ5C-eVAMOq"
   },
   "outputs": [],
   "source": [
    "if x is True:\n",
    "  print('bingo')"
   ]
  },
  {
   "cell_type": "code",
   "execution_count": null,
   "id": "fdxKCrRCAQs-",
   "metadata": {
    "id": "fdxKCrRCAQs-"
   },
   "outputs": [],
   "source": [
    "if x:\n",
    "  print('bingo')"
   ]
  },
  {
   "cell_type": "markdown",
   "id": "QHvbzuKEAYur",
   "metadata": {
    "id": "QHvbzuKEAYur"
   },
   "source": [
    "* Try the above with x=1 and x=2. Explain.\n",
    "* boolean, None should be compared with `is`,numerical values with `==`"
   ]
  },
  {
   "cell_type": "code",
   "execution_count": null,
   "id": "jZvY2in1AXZ9",
   "metadata": {
    "id": "jZvY2in1AXZ9"
   },
   "outputs": [],
   "source": [
    "# What if we do all of them together. What is the flow in this case\n",
    "# try again with x = 1 and 2\n",
    "\n",
    "x = True\n",
    "if x == True:\n",
    "  print('bingo 0')\n",
    "elif x is True:\n",
    "  print('bingo 1')\n",
    "elif x:\n",
    "  print('bingo 2')\n",
    "else:\n",
    "  print('bingoless')"
   ]
  },
  {
   "cell_type": "markdown",
   "id": "l2oz--4RO9fn",
   "metadata": {
    "id": "l2oz--4RO9fn"
   },
   "source": [
    "**The lesson here is**, that once a condition evaluates to `True`, the statement block is evaluated, conditional is exited and NONE of the subsequent conditions are checked"
   ]
  },
  {
   "cell_type": "markdown",
   "id": "4fe6c220-b20d-4605-880c-507de7bc8398",
   "metadata": {
    "id": "4fe6c220-b20d-4605-880c-507de7bc8398"
   },
   "source": [
    "---\n",
    "# Section 4: Exercise\n",
    "\n",
    "*Time estimate: ~10mins*\n",
    "\n",
    "Below you have three lists of monthly temperatures.\n",
    "1. Find mean temperature of each location. Lists do not have mean method, so go ahead and calculate it by yourself.\n",
    "2. Practice conditionals to print out three lines of \"location: mean temperature\" in ascending order\n",
    "3. Congrats, you have developed your own algorithm for sorting 3 values. Can you draft how to scale your solution to N values?"
   ]
  },
  {
   "cell_type": "code",
   "execution_count": 1,
   "id": "e1543bbd-c884-4ba1-bf84-5164a01c6d89",
   "metadata": {
    "id": "e1543bbd-c884-4ba1-bf84-5164a01c6d89"
   },
   "outputs": [],
   "source": [
    "temps_madeira = [\n",
    "    16.5, 16.4, 16.7, 17.1, 18.2, 20.1, 22.3, 23.7, 23.8, 22.2, 19.8, 17.9\n",
    "]\n",
    "\n",
    "temps_portugal = [\n",
    "    12.1, 12.5, 14.2, 15.9, 18.3, 21.1, 23.6, 24.2, 22.5, 19.4, 15.6, 13.2\n",
    "]\n",
    "\n",
    "temps_azores = [\n",
    "    14.2, 14.1, 14.2, 14.6, 16.1, 18.1, 20.1, 21.4, 21.5, 19.8, 17.6, 15.6\n",
    "]"
   ]
  },
  {
   "cell_type": "markdown",
   "id": "27c8c4a3-b45d-4ae7-bcb2-9b4aac37b630",
   "metadata": {},
   "source": [
    "---\n",
    "# Section 9: Exercise 2, blackjack\n",
    "\n",
    "*Time estimate: ~20 mins*"
   ]
  },
  {
   "cell_type": "markdown",
   "id": "873d6d59-764f-4978-85e0-0200965c06c3",
   "metadata": {},
   "source": [
    "In this problem we'll be working with a simplified version of blackjack (aka twenty-one). In this version there is one player (who you'll control) and a dealer. Play proceeds as follows:\n",
    "\n",
    "The player is dealt two face-up cards. The dealer is dealt one face-up card.\n",
    "The player may ask to be dealt another card ('hit') as many times as they wish. If the sum of their cards exceeds 21, they lose the round immediately.\n",
    "\n",
    "The dealer then deals additional cards to himself until either:\n",
    "\n",
    "1. the sum of the dealer's cards exceeds 21, in which case the player wins the round\n",
    "\n",
    "2. the sum of the dealer's cards is greater than or equal to 17. If the player's total is greater than the dealer's, the player wins. Otherwise, the dealer wins (even in case of a tie).\n",
    "\n",
    "When calculating the sum of cards, Jack, Queen, and King count for 10. Aces can count as 1 or 11 (when referring to a player's \"total\" above, we mean the largest total that can be made without exceeding 21. So e.g. A+8 = 19, A+8+8 = 17)\n",
    "\n",
    "For this problem, you'll write a function representing the player's decision-making strategy in this game. We've provided a very unintelligent implementation below:"
   ]
  },
  {
   "cell_type": "code",
   "execution_count": null,
   "id": "f0a36a38-2be4-4594-8e88-9598ebd791c8",
   "metadata": {},
   "outputs": [],
   "source": [
    "# TODO: put starting point\n"
   ]
  },
  {
   "cell_type": "markdown",
   "id": "q8M8_4zMfrSJ",
   "metadata": {
    "id": "q8M8_4zMfrSJ"
   },
   "source": [
    "---\n",
    "# Feedback\n",
    "* Please help us learn too.\n",
    "* [feedback form](https://forms.gle/C7DMWorpA2xVoj6T9)"
   ]
  },
  {
   "cell_type": "code",
   "execution_count": null,
   "id": "jhZZzW_yf2sR",
   "metadata": {
    "id": "jhZZzW_yf2sR"
   },
   "outputs": [],
   "source": []
  }
 ],
 "metadata": {
  "colab": {
   "provenance": [],
   "toc_visible": true
  },
  "kernelspec": {
   "display_name": "py2024course",
   "language": "python",
   "name": "py2024course"
  },
  "language_info": {
   "codemirror_mode": {
    "name": "ipython",
    "version": 3
   },
   "file_extension": ".py",
   "mimetype": "text/x-python",
   "name": "python",
   "nbconvert_exporter": "python",
   "pygments_lexer": "ipython3",
   "version": "3.11.5"
  }
 },
 "nbformat": 4,
 "nbformat_minor": 5
}
