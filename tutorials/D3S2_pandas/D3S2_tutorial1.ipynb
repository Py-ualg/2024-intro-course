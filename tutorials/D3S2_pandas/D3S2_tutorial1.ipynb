{
 "cells": [
  {
   "cell_type": "markdown",
   "id": "feea1704-7c5b-46a1-8478-2b81b73aa9e0",
   "metadata": {},
   "source": [
    "# Tutorial 1: pandas\n",
    "**Day 3, session 2:**\n",
    "\n",
    "__Content creators:__ David Palecek, Paulo Martel"
   ]
  },
  {
   "cell_type": "markdown",
   "id": "04b4e650-8d54-45de-926a-0559fde07f25",
   "metadata": {},
   "source": [
    "---\n",
    "# Tutorial Objectives\n",
    "\n",
    "* load excel data\n",
    "* cleaning and exploratory analysis\n",
    "* statistics\n",
    "* saeborn"
   ]
  },
  {
   "cell_type": "markdown",
   "id": "b1c85cc3-e7b0-426f-8899-df29ace627a4",
   "metadata": {},
   "source": [
    "---\n",
    "# Setup"
   ]
  },
  {
   "cell_type": "code",
   "execution_count": null,
   "id": "2303eb50-a7b5-4d81-afa3-4f2d7a50ff1a",
   "metadata": {},
   "outputs": [],
   "source": []
  },
  {
   "cell_type": "markdown",
   "id": "c2a11dec-2412-4f50-bd4a-6b365752ca1e",
   "metadata": {},
   "source": [
    "# Section X: Paulo's data and follow similar approach as R course"
   ]
  },
  {
   "cell_type": "code",
   "execution_count": null,
   "id": "b7e564d6-d404-402e-9974-06b5458e2910",
   "metadata": {},
   "outputs": [],
   "source": [
    "s"
   ]
  }
 ],
 "metadata": {
  "kernelspec": {
   "display_name": "py2024course",
   "language": "python",
   "name": "py2024course"
  },
  "language_info": {
   "codemirror_mode": {
    "name": "ipython",
    "version": 3
   },
   "file_extension": ".py",
   "mimetype": "text/x-python",
   "name": "python",
   "nbconvert_exporter": "python",
   "pygments_lexer": "ipython3",
   "version": "3.11.5"
  }
 },
 "nbformat": 4,
 "nbformat_minor": 5
}
