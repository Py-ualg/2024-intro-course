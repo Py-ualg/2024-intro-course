{
 "cells": [
  {
   "cell_type": "markdown",
   "id": "0818d14b-fe01-4e69-93a7-85039e8b6c8e",
   "metadata": {
    "id": "0818d14b-fe01-4e69-93a7-85039e8b6c8e"
   },
   "source": [
    "# Tutorial 1: modules, methods, scripts\n",
    "**Day 3, session 1:**\n",
    "\n",
    "__Content creators:__ David Palecek, Paulo Martel"
   ]
  },
  {
   "cell_type": "markdown",
   "id": "fbcbe5b2-5f94-47e7-9951-a32b1fefee60",
   "metadata": {
    "id": "fbcbe5b2-5f94-47e7-9951-a32b1fefee60"
   },
   "source": [
    "---\n",
    "# Tutorial Objectives\n",
    "\n",
    "* modules and libraries\n",
    "* object oriented programming\n",
    "* scripting"
   ]
  },
  {
   "cell_type": "markdown",
   "id": "af71f10f-eb8c-41dd-a438-2c3366073ced",
   "metadata": {
    "id": "af71f10f-eb8c-41dd-a438-2c3366073ced"
   },
   "source": [
    "---\n",
    "# Setup"
   ]
  },
  {
   "cell_type": "code",
   "execution_count": 4,
   "id": "89d07d74-8229-4699-8813-14620e4b342b",
   "metadata": {
    "executionInfo": {
     "elapsed": 257,
     "status": "ok",
     "timestamp": 1717148246560,
     "user": {
      "displayName": "David Palecek",
      "userId": "17457987496484636859"
     },
     "user_tz": -60
    },
    "id": "89d07d74-8229-4699-8813-14620e4b342b"
   },
   "outputs": [],
   "source": [
    "# @title Helper Functions\n",
    "import matplotlib.pyplot as plt\n",
    "import numpy as np\n",
    "import sys"
   ]
  },
  {
   "cell_type": "markdown",
   "id": "754ff8fd-b093-4edd-8572-667ba6875e4b",
   "metadata": {
    "id": "754ff8fd-b093-4edd-8572-667ba6875e4b"
   },
   "source": [
    "---\n",
    "# Section 1: Modules\n",
    "\n",
    "*Time estimate: ~30mins*\n",
    "\n",
    "![](https://github.com/Py-ualg/2024-intro-course/blob/main/tutorials/D3S1_modules_oop_scripting/static/imports_cheatsheet.png?raw=1)\n",
    "\n",
    "* Think about a module/library as a folder/file hierarchy structure in your PC\n",
    "* To step between folders or into files, use `.`"
   ]
  },
  {
   "cell_type": "markdown",
   "id": "b107b644-81ff-4c54-9a3a-0cc2261d09bf",
   "metadata": {
    "id": "b107b644-81ff-4c54-9a3a-0cc2261d09bf"
   },
   "source": [
    "### The simplest module is one `.py` file with your functions\n",
    "* create a file my_module.py in your current directory and put there your differential temperature function\n",
    "* try to import (always use the function):\n",
    "    * the whole module and use your `func`\n",
    "    * import just the one function with its original name\n",
    "    * import the `func` with a different name\n",
    "* in this way you can use your functions across projects, the same way as publically distributed modules"
   ]
  },
  {
   "cell_type": "code",
   "execution_count": null,
   "id": "72351357-10de-43ee-8731-0b243f6008a3",
   "metadata": {
    "id": "72351357-10de-43ee-8731-0b243f6008a3"
   },
   "outputs": [],
   "source": [
    "temps_portugal = [\n",
    "    12.1, 12.5, 14.2, 15.9, 18.3, 21.1, 23.6, 24.2, 22.5, 19.4, 15.6, 13.2\n",
    "]\n",
    "\n",
    "temps_azores = [\n",
    "    14.2, 14.1, 14.2, 14.6, 16.1, 18.1, 20.1, 21.4, 21.5, 19.8, 17.6, 15.6\n",
    "]"
   ]
  },
  {
   "cell_type": "markdown",
   "id": "344b2eef-9048-4702-82f5-8474d2b259fb",
   "metadata": {
    "id": "344b2eef-9048-4702-82f5-8474d2b259fb"
   },
   "source": [
    "---\n",
    "# Section 2: Classes\n",
    "\n",
    "*Time estimate: ~30mins*\n",
    "\n",
    "* NumPy `ndarray` is a `class`, which has attributes (properties ie \"variables\") attached to it, as well as methods\n",
    "* let's start in [SciPy Github repository](https://github.com/scipy/scipy). Investigate information and statistics about the project. This is power of open-source in action.\n",
    "* Go to scipy/stats/_covariance.py. Compare code with the API [documentation](https://docs.scipy.org/doc/scipy/reference/generated/scipy.stats.Covariance.html#scipy.stats.Covariance). Can you identify what are methods and what are attributes?\n",
    "* LICENSE, README, requirements.txt, .gitignore"
   ]
  },
  {
   "cell_type": "markdown",
   "id": "52e15dca-68b9-445b-b0cc-4b797a715520",
   "metadata": {
    "id": "52e15dca-68b9-445b-b0cc-4b797a715520"
   },
   "source": [
    "### this is a GPT 4o output to this exact sentence (of course with some previous context :))\n",
    "\"Write me a python class example which will be managing monthly temperature data from world countries.\""
   ]
  },
  {
   "cell_type": "code",
   "execution_count": null,
   "id": "242c5ad7-8263-4bb1-9bdc-b98959c443b3",
   "metadata": {
    "colab": {
     "base_uri": "https://localhost:8080/"
    },
    "executionInfo": {
     "elapsed": 246,
     "status": "ok",
     "timestamp": 1717079305781,
     "user": {
      "displayName": "David Palecek",
      "userId": "17457987496484636859"
     },
     "user_tz": -60
    },
    "id": "242c5ad7-8263-4bb1-9bdc-b98959c443b3",
    "outputId": "bf4b613a-9fe9-48d5-aaeb-f355c3c541ae"
   },
   "outputs": [
    {
     "name": "stdout",
     "output_type": "stream",
     "text": [
      "Portugal monthly temperatures: [12.1, 12.5, 14.2, 15.9, 18.3, 21.1, 23.6, 24.2, 22.5, 19.4, 15.6, 13.2]\n",
      "Azores yearly average temperature: 17.275000000000002\n",
      "Portugal: [12.1, 12.5, 14.2, 15.9, 18.3, 21.1, 23.6, 24.2, 22.5, 19.4, 15.6, 13.2]\n",
      "Azores: [14.2, 14.1, 14.2, 14.6, 16.1, 18.1, 20.1, 21.4, 21.5, 19.8, 17.6, 15.6]\n",
      "Madeira: [16.5, 16.4, 16.7, 17.1, 18.2, 20.1, 22.3, 23.7, 23.8, 22.2, 19.8, 17.9]\n"
     ]
    }
   ],
   "source": [
    "class TemperatureData:\n",
    "    def __init__(self):\n",
    "        self.data = {}\n",
    "\n",
    "    def add_country_data(self, country, monthly_temperatures):\n",
    "        \"\"\"Add or update monthly temperature data for a country.\n",
    "\n",
    "        Args:\n",
    "            country (str): The name of the country.\n",
    "            monthly_temperatures (list of float): List of 12 monthly average temperatures.\n",
    "        \"\"\"\n",
    "        if len(monthly_temperatures) != 12:\n",
    "            raise ValueError(\"Monthly temperatures list must contain exactly 12 values.\")\n",
    "        self.data[country] = monthly_temperatures\n",
    "\n",
    "    def get_country_data(self, country):\n",
    "        \"\"\"Retrieve the monthly temperature data for a country.\n",
    "\n",
    "        Args:\n",
    "            country (str): The name of the country.\n",
    "\n",
    "        Returns:\n",
    "            list of float: List of 12 monthly average temperatures.\n",
    "        \"\"\"\n",
    "        return self.data.get(country, \"No data available for this country.\")\n",
    "\n",
    "    def calculate_yearly_average(self, country):\n",
    "        \"\"\"Calculate the yearly average temperature for a country.\n",
    "\n",
    "        Args:\n",
    "            country (str): The name of the country.\n",
    "\n",
    "        Returns:\n",
    "            float: The yearly average temperature.\n",
    "        \"\"\"\n",
    "        monthly_temperatures = self.get_country_data(country)\n",
    "        if isinstance(monthly_temperatures, str):  # Check if data is not available\n",
    "            return monthly_temperatures\n",
    "        return sum(monthly_temperatures) / len(monthly_temperatures)\n",
    "\n",
    "    def display_all_data(self):\n",
    "        \"\"\"Display all the temperature data stored.\"\"\"\n",
    "        for country, temps in self.data.items():\n",
    "            print(f\"{country}: {temps}\")\n",
    "\n",
    "# Example usage, DP: I did not know this will run in the notebook (what about Colab?)\n",
    "if __name__ == \"__main__\":\n",
    "    temp_data = TemperatureData()\n",
    "\n",
    "    # Adding data for Portugal\n",
    "    portugal_temps = [12.1, 12.5, 14.2, 15.9, 18.3, 21.1, 23.6, 24.2, 22.5, 19.4, 15.6, 13.2]\n",
    "    temp_data.add_country_data(\"Portugal\", portugal_temps)\n",
    "\n",
    "    # Adding data for Azores\n",
    "    azores_temps = [14.2, 14.1, 14.2, 14.6, 16.1, 18.1, 20.1, 21.4, 21.5, 19.8, 17.6, 15.6]\n",
    "    temp_data.add_country_data(\"Azores\", azores_temps)\n",
    "\n",
    "    # Adding data for Madeira\n",
    "    madeira_temps = [16.5, 16.4, 16.7, 17.1, 18.2, 20.1, 22.3, 23.7, 23.8, 22.2, 19.8, 17.9]\n",
    "    temp_data.add_country_data(\"Madeira\", madeira_temps)\n",
    "\n",
    "    # Retrieving data for Portugal\n",
    "    print(\"Portugal monthly temperatures:\", temp_data.get_country_data(\"Portugal\"))\n",
    "\n",
    "    # Calculating yearly average temperature for Azores\n",
    "    print(\"Azores yearly average temperature:\", temp_data.calculate_yearly_average(\"Azores\"))\n",
    "\n",
    "    # Displaying all data\n",
    "    temp_data.display_all_data()"
   ]
  },
  {
   "cell_type": "markdown",
   "id": "0102624b-3b2a-49c3-9827-c3a1d8135e79",
   "metadata": {
    "id": "0102624b-3b2a-49c3-9827-c3a1d8135e79"
   },
   "source": [
    "### Tasks\n",
    "* Explain __ main __ usage\n",
    "* Add this class to your module\n",
    "  1. import class and use it\n",
    "  2. run the module as a script with `%run <module_name>.py`"
   ]
  },
  {
   "cell_type": "code",
   "execution_count": null,
   "id": "FhyqP3tWEb2u",
   "metadata": {
    "id": "FhyqP3tWEb2u"
   },
   "outputs": [],
   "source": []
  },
  {
   "cell_type": "markdown",
   "id": "a36cbaa4-1db5-43ca-ba41-66ae0d2dfc74",
   "metadata": {
    "id": "a36cbaa4-1db5-43ca-ba41-66ae0d2dfc74"
   },
   "source": [
    "---\n",
    "# Section 3: More on scripting\n",
    "\n",
    "*Time estimate: ~15mins*\n",
    "\n",
    "* Once your NB works well, you might simply run the code without exploratory analyses, plots etc. Just speed and results => scripts\n",
    "* input arguments\n",
    "    * argparse\n",
    "    * sys.argv"
   ]
  },
  {
   "cell_type": "code",
   "execution_count": 18,
   "id": "2a9dfc64-88d3-4625-b0a9-bdd52cb0d987",
   "metadata": {
    "colab": {
     "base_uri": "https://localhost:8080/"
    },
    "executionInfo": {
     "elapsed": 4,
     "status": "ok",
     "timestamp": 1717148715262,
     "user": {
      "displayName": "David Palecek",
      "userId": "17457987496484636859"
     },
     "user_tz": -60
    },
    "id": "2a9dfc64-88d3-4625-b0a9-bdd52cb0d987",
    "outputId": "9da41431-eb53-43ac-a94a-f1ddec4d610e"
   },
   "outputs": [
    {
     "name": "stdout",
     "output_type": "stream",
     "text": [
      "Overwriting monthly_temp_argv.py\n"
     ]
    }
   ],
   "source": [
    "# @title Example with sys.argv\n",
    "\n",
    "%%writefile monthly_temp_argv.py\n",
    "#!usr/bin/bash python\n",
    "\n",
    "import sys\n",
    "import numpy as np\n",
    "import matplotlib.pyplot as plt\n",
    "\n",
    "tempData = {\n",
    "    'Portugal':[12.1, 12.5, 14.2, 15.9, 18.3, 21.1, 23.6, 24.2, 22.5, 19.4, 15.6, 13.2],\n",
    "    'Azores': [14.2, 14.1, 14.2, 14.6, 16.1, 18.1, 20.1, 21.4, 21.5, 19.8, 17.6, 15.6],\n",
    "    'Madeira': [16.5, 16.4, 16.7, 17.1, 18.2, 20.1, 22.3, 23.7, 23.8, 22.2, 19.8, 17.9],\n",
    "}\n",
    "\n",
    "months = ['Jan', 'Feb', 'Mar', 'Apr',\n",
    "          'May', 'Jun', 'Jul', 'Aug',\n",
    "          'Sep', 'Oct', 'Nov', 'Dec']\n",
    "\n",
    "def main():\n",
    "    # check number of arguments.\n",
    "    if len(sys.argv) != 2:\n",
    "        print(\"Usage: python monthly_temp_argv.py <country>\")\n",
    "        sys.exit(1)\n",
    "\n",
    "    country = sys.argv[1]\n",
    "\n",
    "    print(f\"Average yearly temperature in {country} is {np.round(np.mean(tempData[country]), 2)}.\")\n",
    "    plt.plot(months, tempData[country])\n",
    "    plt.title(f'Monthly temperature in {country}.')\n",
    "    plt.show()\n",
    "\n",
    "if __name__ == \"__main__\":\n",
    "    main()"
   ]
  },
  {
   "cell_type": "code",
   "execution_count": 22,
   "id": "QB9Al927CL6V",
   "metadata": {
    "colab": {
     "base_uri": "https://localhost:8080/",
     "height": 507
    },
    "executionInfo": {
     "elapsed": 658,
     "status": "ok",
     "timestamp": 1717148909144,
     "user": {
      "displayName": "David Palecek",
      "userId": "17457987496484636859"
     },
     "user_tz": -60
    },
    "id": "QB9Al927CL6V",
    "outputId": "9e2894b8-1a98-4145-9049-5cbc48da7ded"
   },
   "outputs": [
    {
     "name": "stdout",
     "output_type": "stream",
     "text": [
      "Average yearly temperature in Portugal is 17.72.\n"
     ]
    },
    {
     "data": {
      "image/png": "[encoded data removed]",
      "text/plain": [
       "<Figure size 640x480 with 1 Axes>"
      ]
     },
     "metadata": {},
     "output_type": "display_data"
    },
    {
     "data": {
      "text/plain": [
       "<Figure size 640x480 with 0 Axes>"
      ]
     },
     "metadata": {},
     "output_type": "display_data"
    }
   ],
   "source": [
    "%run monthly_temp_argv.py 'Portugal'"
   ]
  },
  {
   "cell_type": "code",
   "execution_count": 7,
   "id": "z4LBYwkEBcPk",
   "metadata": {
    "colab": {
     "base_uri": "https://localhost:8080/"
    },
    "executionInfo": {
     "elapsed": 3,
     "status": "ok",
     "timestamp": 1717169584814,
     "user": {
      "displayName": "David Palecek",
      "userId": "17457987496484636859"
     },
     "user_tz": -60
    },
    "id": "z4LBYwkEBcPk",
    "outputId": "a18862a4-7fa7-44bc-e820-351f33da4062"
   },
   "outputs": [
    {
     "name": "stdout",
     "output_type": "stream",
     "text": [
      "Overwriting monthly_temp_argparse.py\n"
     ]
    }
   ],
   "source": [
    "# @title Using argparse\n",
    "\n",
    "%%writefile monthly_temp_argparse.py\n",
    "#!usr/bin/bash python\n",
    "\n",
    "import argparse\n",
    "import numpy as np\n",
    "import matplotlib.pyplot as plt\n",
    "\n",
    "tempData = {\n",
    "    'Portugal':[12.1, 12.5, 14.2, 15.9, 18.3, 21.1, 23.6, 24.2, 22.5, 19.4, 15.6, 13.2],\n",
    "    'Azores': [14.2, 14.1, 14.2, 14.6, 16.1, 18.1, 20.1, 21.4, 21.5, 19.8, 17.6, 15.6],\n",
    "    'Madeira': [16.5, 16.4, 16.7, 17.1, 18.2, 20.1, 22.3, 23.7, 23.8, 22.2, 19.8, 17.9],\n",
    "}\n",
    "\n",
    "months = ['Jan', 'Feb', 'Mar', 'Apr',\n",
    "          'May', 'Jun', 'Jul', 'Aug',\n",
    "          'Sep', 'Oct', 'Nov', 'Dec']\n",
    "\n",
    "def main():\n",
    "    parser = argparse.ArgumentParser(description=\"Calculate mean temperature and plot monthly graph\")\n",
    "    parser.add_argument('country', type=str, help=\"Country name\")\n",
    "\n",
    "    args = parser.parse_args()\n",
    "\n",
    "    print(f\"Average yearly temperature in {args.country} is {np.round(np.mean(tempData[args.country]), 2)}.\")\n",
    "\n",
    "    plt.plot(months, tempData[args.country], label=args.country)\n",
    "    plt.title(f'Monthly temperature in {args.country}.')\n",
    "    plt.legend()\n",
    "    plt.show()\n",
    "\n",
    "if __name__ == \"__main__\":\n",
    "    main()"
   ]
  },
  {
   "cell_type": "code",
   "execution_count": 9,
   "id": "PPwdCnQ7DOV2",
   "metadata": {
    "colab": {
     "base_uri": "https://localhost:8080/",
     "height": 507
    },
    "executionInfo": {
     "elapsed": 482,
     "status": "ok",
     "timestamp": 1717169614202,
     "user": {
      "displayName": "David Palecek",
      "userId": "17457987496484636859"
     },
     "user_tz": -60
    },
    "id": "PPwdCnQ7DOV2",
    "outputId": "3fce8d89-22f7-449c-bf63-bcb72c23aadb"
   },
   "outputs": [
    {
     "name": "stdout",
     "output_type": "stream",
     "text": [
      "Average yearly temperature in Portugal is 17.72.\n"
     ]
    },
    {
     "data": {
      "image/png": "[encoded data removed]",
      "text/plain": [
       "<Figure size 640x480 with 1 Axes>"
      ]
     },
     "metadata": {},
     "output_type": "display_data"
    },
    {
     "data": {
      "text/plain": [
       "<Figure size 640x480 with 0 Axes>"
      ]
     },
     "metadata": {},
     "output_type": "display_data"
    }
   ],
   "source": [
    "%run monthly_temp_argparse.py 'Portugal'"
   ]
  },
  {
   "cell_type": "markdown",
   "id": "_PJwoHyFDg2L",
   "metadata": {
    "id": "_PJwoHyFDg2L"
   },
   "source": [
    "---\n",
    "# Section 4: Exercise\n",
    "\n",
    "* Modify the argparse script that it can accept list of countries and you plot temperatures for all of them."
   ]
  },
  {
   "cell_type": "code",
   "execution_count": null,
   "id": "vfuYuoyRDerE",
   "metadata": {
    "id": "vfuYuoyRDerE"
   },
   "outputs": [],
   "source": []
  },
  {
   "cell_type": "markdown",
   "id": "079e98fa-7dce-47fe-b5bd-a6a110eb8480",
   "metadata": {
    "id": "079e98fa-7dce-47fe-b5bd-a6a110eb8480"
   },
   "source": [
    "---\n",
    "# Section 5: QA session before we jump on pandas?\n",
    "\n",
    "### Other useful modules\n",
    "* scipy.stats\n",
    "* numpy.stats\n",
    "* statsmodels\n",
    "* sklearn (scikit-learn), ML\n",
    "* pytorch, tensorflow (AI)\n",
    "* opencv\n",
    "* biopython"
   ]
  },
  {
   "cell_type": "markdown",
   "id": "gqXpe9sAFIg8",
   "metadata": {
    "id": "gqXpe9sAFIg8"
   },
   "source": [
    "---\n",
    "# Section 6: Histogram exercise"
   ]
  },
  {
   "cell_type": "code",
   "execution_count": null,
   "id": "YvKtZtdOFHDX",
   "metadata": {
    "id": "YvKtZtdOFHDX"
   },
   "outputs": [],
   "source": []
  },
  {
   "cell_type": "markdown",
   "id": "Pkuxh7eGFarN",
   "metadata": {
    "id": "Pkuxh7eGFarN"
   },
   "source": [
    "---\n",
    "# Feedback\n",
    "* Please help us learn too.\n",
    "* [feedback form](https://forms.gle/WmqtpHXwFdDuiohBA)"
   ]
  },
  {
   "cell_type": "code",
   "execution_count": null,
   "id": "W3i9YOOqFsCB",
   "metadata": {
    "id": "W3i9YOOqFsCB"
   },
   "outputs": [],
   "source": []
  }
 ],
 "metadata": {
  "colab": {
   "provenance": [
    {
     "file_id": "https://github.com/Py-ualg/2024-intro-course/blob/main/tutorials/D3S1_modules_oop_scripting/D3S1_tutorial1.ipynb",
     "timestamp": 1716548469009
    }
   ],
   "toc_visible": true
  },
  "kernelspec": {
   "display_name": "py2024course",
   "language": "python",
   "name": "py2024course"
  },
  "language_info": {
   "codemirror_mode": {
    "name": "ipython",
    "version": 3
   },
   "file_extension": ".py",
   "mimetype": "text/x-python",
   "name": "python",
   "nbconvert_exporter": "python",
   "pygments_lexer": "ipython3",
   "version": "3.11.5"
  }
 },
 "nbformat": 4,
 "nbformat_minor": 5
}
