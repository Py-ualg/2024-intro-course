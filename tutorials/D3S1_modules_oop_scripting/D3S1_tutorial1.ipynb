{
 "cells": [
  {
   "cell_type": "markdown",
   "id": "0818d14b-fe01-4e69-93a7-85039e8b6c8e",
   "metadata": {},
   "source": [
    "# Tutorial 1: modules, methods, scripts\n",
    "**Day 3, session 1:**\n",
    "\n",
    "__Content creators:__ David Palecek, Paulo Martel"
   ]
  },
  {
   "cell_type": "markdown",
   "id": "fbcbe5b2-5f94-47e7-9951-a32b1fefee60",
   "metadata": {},
   "source": [
    "---\n",
    "# Tutorial Objectives\n",
    "\n",
    "* modules and libraries\n",
    "* object oriented programming\n",
    "* scripting"
   ]
  },
  {
   "cell_type": "markdown",
   "id": "af71f10f-eb8c-41dd-a438-2c3366073ced",
   "metadata": {},
   "source": [
    "---\n",
    "# Setup"
   ]
  },
  {
   "cell_type": "code",
   "execution_count": 3,
   "id": "89d07d74-8229-4699-8813-14620e4b342b",
   "metadata": {},
   "outputs": [],
   "source": [
    "# @title Helper Functions\n",
    "import matplotlib.pyplot as plt\n",
    "import numpy as np\n",
    "\n",
    "# def checkMutable(answer):\n",
    "#     assert answer['immutable'].lower() == 'tuple', f\"Got: {answer['immutable'].lower()} \\n Expected 'tuple')\"\n",
    "#     assert answer['mutable'].lower() == 'list', f\"Got: {answer['mutable'].lower()} \\n Expected 'list')\"\n",
    "#     print(\"All correct\")\n",
    "\n",
    "# def checkComparison(answer):\n",
    "#     assert answer['greater than'] == '>'\n",
    "#     assert answer['equal'] == '=='\n",
    "#     assert answer['less or equal than'] == '<='\n",
    "#     print('All correct')\n"
   ]
  },
  {
   "cell_type": "markdown",
   "id": "754ff8fd-b093-4edd-8572-667ba6875e4b",
   "metadata": {},
   "source": [
    "# Section X: Modules\n",
    "\n",
    "*Time estimate: ~30mins*\n",
    "\n",
    "![](static/imports_cheatsheet.png)\n",
    "\n",
    "* Think about a module/library as a folder/file hierarchy structure in your PC\n",
    "* To step between folders or into files, use `.`"
   ]
  },
  {
   "cell_type": "markdown",
   "id": "b107b644-81ff-4c54-9a3a-0cc2261d09bf",
   "metadata": {},
   "source": [
    "### The simplest module is one `.py` file with your functions\n",
    "* create a file my_module.py in your current directory and put there your differential temperature function\n",
    "* try to import (always use the function):\n",
    "    * the whole module and use your `func`\n",
    "    * import just the one function with its original name\n",
    "    * import the `func` with a different name\n",
    "* in this way you can use your functions across projects, the same way as publically distributed modules"
   ]
  },
  {
   "cell_type": "code",
   "execution_count": null,
   "id": "72351357-10de-43ee-8731-0b243f6008a3",
   "metadata": {},
   "outputs": [],
   "source": []
  },
  {
   "cell_type": "markdown",
   "id": "344b2eef-9048-4702-82f5-8474d2b259fb",
   "metadata": {},
   "source": [
    "## Classes\n",
    "\n",
    "*Time estimate: ~30mins*\n",
    "\n",
    "* NumPy `ndarray` is a `class`, which has attributes (properties ie \"variables\") attached to it, as well as methods\n",
    "* let's start in [SciPy Github repository](https://github.com/scipy/scipy). Investigate information and statistics about the project. This is power of open-source in action.\n",
    "* Go to scipy/stats/_covariance.py. Compare code with the API [documentation](https://docs.scipy.org/doc/scipy/reference/generated/scipy.stats.Covariance.html#scipy.stats.Covariance). Can you identify what are methods and what are attributes?"
   ]
  },
  {
   "cell_type": "markdown",
   "id": "52e15dca-68b9-445b-b0cc-4b797a715520",
   "metadata": {},
   "source": [
    "### this is a GPT 4o output to this exact sentence (of course with some previous context :))\n",
    "\"Write me a python class example which will be managing monthly temperature data from world countries.\""
   ]
  },
  {
   "cell_type": "code",
   "execution_count": 6,
   "id": "242c5ad7-8263-4bb1-9bdc-b98959c443b3",
   "metadata": {},
   "outputs": [
    {
     "name": "stdout",
     "output_type": "stream",
     "text": [
      "Portugal monthly temperatures: [12.1, 12.5, 14.2, 15.9, 18.3, 21.1, 23.6, 24.2, 22.5, 19.4, 15.6, 13.2]\n",
      "Azores yearly average temperature: 17.275000000000002\n",
      "Portugal: [12.1, 12.5, 14.2, 15.9, 18.3, 21.1, 23.6, 24.2, 22.5, 19.4, 15.6, 13.2]\n",
      "Azores: [14.2, 14.1, 14.2, 14.6, 16.1, 18.1, 20.1, 21.4, 21.5, 19.8, 17.6, 15.6]\n",
      "Madeira: [16.5, 16.4, 16.7, 17.1, 18.2, 20.1, 22.3, 23.7, 23.8, 22.2, 19.8, 17.9]\n"
     ]
    }
   ],
   "source": [
    "class TemperatureData:\n",
    "    def __init__(self):\n",
    "        self.data = {}\n",
    "\n",
    "    def add_country_data(self, country, monthly_temperatures):\n",
    "        \"\"\"Add or update monthly temperature data for a country.\n",
    "        \n",
    "        Args:\n",
    "            country (str): The name of the country.\n",
    "            monthly_temperatures (list of float): List of 12 monthly average temperatures.\n",
    "        \"\"\"\n",
    "        if len(monthly_temperatures) != 12:\n",
    "            raise ValueError(\"Monthly temperatures list must contain exactly 12 values.\")\n",
    "        self.data[country] = monthly_temperatures\n",
    "\n",
    "    def get_country_data(self, country):\n",
    "        \"\"\"Retrieve the monthly temperature data for a country.\n",
    "        \n",
    "        Args:\n",
    "            country (str): The name of the country.\n",
    "        \n",
    "        Returns:\n",
    "            list of float: List of 12 monthly average temperatures.\n",
    "        \"\"\"\n",
    "        return self.data.get(country, \"No data available for this country.\")\n",
    "\n",
    "    def calculate_yearly_average(self, country):\n",
    "        \"\"\"Calculate the yearly average temperature for a country.\n",
    "        \n",
    "        Args:\n",
    "            country (str): The name of the country.\n",
    "        \n",
    "        Returns:\n",
    "            float: The yearly average temperature.\n",
    "        \"\"\"\n",
    "        monthly_temperatures = self.get_country_data(country)\n",
    "        if isinstance(monthly_temperatures, str):  # Check if data is not available\n",
    "            return monthly_temperatures\n",
    "        return sum(monthly_temperatures) / len(monthly_temperatures)\n",
    "\n",
    "    def display_all_data(self):\n",
    "        \"\"\"Display all the temperature data stored.\"\"\"\n",
    "        for country, temps in self.data.items():\n",
    "            print(f\"{country}: {temps}\")\n",
    "\n",
    "# Example usage, DP: I did not know this will run in the notebook (what about Colab?)\n",
    "if __name__ == \"__main__\":\n",
    "    temp_data = TemperatureData()\n",
    "    \n",
    "    # Adding data for Portugal\n",
    "    portugal_temps = [12.1, 12.5, 14.2, 15.9, 18.3, 21.1, 23.6, 24.2, 22.5, 19.4, 15.6, 13.2]\n",
    "    temp_data.add_country_data(\"Portugal\", portugal_temps)\n",
    "    \n",
    "    # Adding data for Azores\n",
    "    azores_temps = [14.2, 14.1, 14.2, 14.6, 16.1, 18.1, 20.1, 21.4, 21.5, 19.8, 17.6, 15.6]\n",
    "    temp_data.add_country_data(\"Azores\", azores_temps)\n",
    "    \n",
    "    # Adding data for Madeira\n",
    "    madeira_temps = [16.5, 16.4, 16.7, 17.1, 18.2, 20.1, 22.3, 23.7, 23.8, 22.2, 19.8, 17.9]\n",
    "    temp_data.add_country_data(\"Madeira\", madeira_temps)\n",
    "    \n",
    "    # Retrieving data for Portugal\n",
    "    print(\"Portugal monthly temperatures:\", temp_data.get_country_data(\"Portugal\"))\n",
    "    \n",
    "    # Calculating yearly average temperature for Azores\n",
    "    print(\"Azores yearly average temperature:\", temp_data.calculate_yearly_average(\"Azores\"))\n",
    "    \n",
    "    # Displaying all data\n",
    "    temp_data.display_all_data()"
   ]
  },
  {
   "cell_type": "markdown",
   "id": "0102624b-3b2a-49c3-9827-c3a1d8135e79",
   "metadata": {},
   "source": [
    "* Explain __ main __ usage\n",
    "* put in the file, import class vs run as a script.\n",
    "* More..."
   ]
  },
  {
   "cell_type": "markdown",
   "id": "a36cbaa4-1db5-43ca-ba41-66ae0d2dfc74",
   "metadata": {},
   "source": [
    "# Section X: More on scripting\n",
    "\n",
    "*Time estimate: ~15mins*\n",
    "\n",
    "* Once your NB works well, you might simply run the code without exploratory analyses, plots etc. Just speed and results => scripts\n",
    "* Loading and saving data/plots **DP: this should be somewhere long time before this point perhaps?**\n",
    "* input arguments\n",
    "    * argparse\n",
    "    * sys.argv"
   ]
  },
  {
   "cell_type": "code",
   "execution_count": null,
   "id": "2a9dfc64-88d3-4625-b0a9-bdd52cb0d987",
   "metadata": {},
   "outputs": [],
   "source": []
  },
  {
   "cell_type": "markdown",
   "id": "079e98fa-7dce-47fe-b5bd-a6a110eb8480",
   "metadata": {},
   "source": [
    "# Section X: QA session before we jump on the pandas?\n",
    "# Section X: Or rather a mini project"
   ]
  },
  {
   "cell_type": "code",
   "execution_count": null,
   "id": "036616aa-d584-48a7-bcf1-79e682644839",
   "metadata": {},
   "outputs": [],
   "source": []
  }
 ],
 "metadata": {
  "kernelspec": {
   "display_name": "py2024course",
   "language": "python",
   "name": "py2024course"
  },
  "language_info": {
   "codemirror_mode": {
    "name": "ipython",
    "version": 3
   },
   "file_extension": ".py",
   "mimetype": "text/x-python",
   "name": "python",
   "nbconvert_exporter": "python",
   "pygments_lexer": "ipython3",
   "version": "3.11.5"
  }
 },
 "nbformat": 4,
 "nbformat_minor": 5
}
